{
  "nbformat": 4,
  "nbformat_minor": 0,
  "metadata": {
    "colab": {
      "name": "R6_InternalLab.ipynb",
      "provenance": [],
      "collapsed_sections": [],
      "toc_visible": true
    },
    "kernelspec": {
      "display_name": "Python 3",
      "language": "python",
      "name": "python3"
    },
    "language_info": {
      "codemirror_mode": {
        "name": "ipython",
        "version": 3
      },
      "file_extension": ".py",
      "mimetype": "text/x-python",
      "name": "python",
      "nbconvert_exporter": "python",
      "pygments_lexer": "ipython3",
      "version": "3.7.7"
    }
  },
  "cells": [
    {
      "cell_type": "markdown",
      "metadata": {
        "id": "YeoiMbH7djEv"
      },
      "source": [
        "# Stock prices dataset\n",
        "The data is of tock exchange's stock listings for each trading day of 2010 to 2016.\n",
        "\n",
        "## Description\n",
        "A brief description of columns.\n",
        "- open: The opening market price of the equity symbol on the date\n",
        "- high: The highest market price of the equity symbol on the date\n",
        "- low: The lowest recorded market price of the equity symbol on the date\n",
        "- close: The closing recorded price of the equity symbol on the date\n",
        "- symbol: Symbol of the listed company\n",
        "- volume: Total traded volume of the equity symbol on the date\n",
        "- date: Date of record"
      ]
    },
    {
      "cell_type": "markdown",
      "metadata": {
        "id": "RSoYY2nII_UW"
      },
      "source": [
        "In this assignment, we will work on the stock prices dataset named \"prices.csv\". Task is to create a Neural Network to classify closing price for a stock based on some parameters."
      ]
    },
    {
      "cell_type": "code",
      "metadata": {
        "id": "PGqq9f8VdLba"
      },
      "source": [
        "# Initialize the random number generator\n",
        "import random\n",
        "random.seed(0)\n",
        "\n",
        "# Ignore the warnings\n",
        "import warnings\n",
        "warnings.filterwarnings(\"ignore\")"
      ],
      "execution_count": 1,
      "outputs": []
    },
    {
      "cell_type": "markdown",
      "metadata": {
        "id": "_88voqAH-O6J"
      },
      "source": [
        "## Question 1"
      ]
    },
    {
      "cell_type": "markdown",
      "metadata": {
        "id": "dRHCeJqP-evf"
      },
      "source": [
        "### Load the data\n",
        "- load the csv file and read it using pandas\n",
        "- file name is prices.csv"
      ]
    },
    {
      "cell_type": "code",
      "metadata": {
        "id": "cKVH5v7r-RmC"
      },
      "source": [
        "# run this cell to upload file using GUI if you are using google colab\n",
        "\n",
        "#from google.colab import files\n",
        "#files.upload()"
      ],
      "execution_count": 2,
      "outputs": []
    },
    {
      "cell_type": "code",
      "metadata": {
        "colab": {
          "base_uri": "https://localhost:8080/"
        },
        "id": "Gr4YcffYd1FQ",
        "outputId": "ccbe1ef2-5f9c-43f2-9974-9fb7ae21a342"
      },
      "source": [
        "# run this cell to to mount the google drive if you are using google colab\n",
        "\n",
        "from google.colab import drive\n",
        "drive.mount('/content/drive/')"
      ],
      "execution_count": 3,
      "outputs": [
        {
          "output_type": "stream",
          "text": [
            "Mounted at /content/drive/\n"
          ],
          "name": "stdout"
        }
      ]
    },
    {
      "cell_type": "code",
      "metadata": {
        "id": "fy8qwYLgAvsW"
      },
      "source": [
        "# importing the dataset\n",
        "import pandas as pd\n",
        "df = pd.read_csv('/content/drive/MyDrive/prices.csv')"
      ],
      "execution_count": 4,
      "outputs": []
    },
    {
      "cell_type": "code",
      "metadata": {
        "colab": {
          "base_uri": "https://localhost:8080/",
          "height": 194
        },
        "id": "Ti-xU_DEFvpv",
        "outputId": "8b680105-caf4-47f4-90b1-818ca42de2c0"
      },
      "source": [
        "df.head()"
      ],
      "execution_count": 5,
      "outputs": [
        {
          "output_type": "execute_result",
          "data": {
            "text/html": [
              "<div>\n",
              "<style scoped>\n",
              "    .dataframe tbody tr th:only-of-type {\n",
              "        vertical-align: middle;\n",
              "    }\n",
              "\n",
              "    .dataframe tbody tr th {\n",
              "        vertical-align: top;\n",
              "    }\n",
              "\n",
              "    .dataframe thead th {\n",
              "        text-align: right;\n",
              "    }\n",
              "</style>\n",
              "<table border=\"1\" class=\"dataframe\">\n",
              "  <thead>\n",
              "    <tr style=\"text-align: right;\">\n",
              "      <th></th>\n",
              "      <th>date</th>\n",
              "      <th>symbol</th>\n",
              "      <th>open</th>\n",
              "      <th>close</th>\n",
              "      <th>low</th>\n",
              "      <th>high</th>\n",
              "      <th>volume</th>\n",
              "    </tr>\n",
              "  </thead>\n",
              "  <tbody>\n",
              "    <tr>\n",
              "      <th>0</th>\n",
              "      <td>2016-01-05 00:00:00</td>\n",
              "      <td>WLTW</td>\n",
              "      <td>123.430000</td>\n",
              "      <td>125.839996</td>\n",
              "      <td>122.309998</td>\n",
              "      <td>126.250000</td>\n",
              "      <td>2163600.0</td>\n",
              "    </tr>\n",
              "    <tr>\n",
              "      <th>1</th>\n",
              "      <td>2016-01-06 00:00:00</td>\n",
              "      <td>WLTW</td>\n",
              "      <td>125.239998</td>\n",
              "      <td>119.980003</td>\n",
              "      <td>119.940002</td>\n",
              "      <td>125.540001</td>\n",
              "      <td>2386400.0</td>\n",
              "    </tr>\n",
              "    <tr>\n",
              "      <th>2</th>\n",
              "      <td>2016-01-07 00:00:00</td>\n",
              "      <td>WLTW</td>\n",
              "      <td>116.379997</td>\n",
              "      <td>114.949997</td>\n",
              "      <td>114.930000</td>\n",
              "      <td>119.739998</td>\n",
              "      <td>2489500.0</td>\n",
              "    </tr>\n",
              "    <tr>\n",
              "      <th>3</th>\n",
              "      <td>2016-01-08 00:00:00</td>\n",
              "      <td>WLTW</td>\n",
              "      <td>115.480003</td>\n",
              "      <td>116.620003</td>\n",
              "      <td>113.500000</td>\n",
              "      <td>117.440002</td>\n",
              "      <td>2006300.0</td>\n",
              "    </tr>\n",
              "    <tr>\n",
              "      <th>4</th>\n",
              "      <td>2016-01-11 00:00:00</td>\n",
              "      <td>WLTW</td>\n",
              "      <td>117.010002</td>\n",
              "      <td>114.970001</td>\n",
              "      <td>114.089996</td>\n",
              "      <td>117.330002</td>\n",
              "      <td>1408600.0</td>\n",
              "    </tr>\n",
              "  </tbody>\n",
              "</table>\n",
              "</div>"
            ],
            "text/plain": [
              "                  date symbol        open  ...         low        high     volume\n",
              "0  2016-01-05 00:00:00   WLTW  123.430000  ...  122.309998  126.250000  2163600.0\n",
              "1  2016-01-06 00:00:00   WLTW  125.239998  ...  119.940002  125.540001  2386400.0\n",
              "2  2016-01-07 00:00:00   WLTW  116.379997  ...  114.930000  119.739998  2489500.0\n",
              "3  2016-01-08 00:00:00   WLTW  115.480003  ...  113.500000  117.440002  2006300.0\n",
              "4  2016-01-11 00:00:00   WLTW  117.010002  ...  114.089996  117.330002  1408600.0\n",
              "\n",
              "[5 rows x 7 columns]"
            ]
          },
          "metadata": {
            "tags": []
          },
          "execution_count": 5
        }
      ]
    },
    {
      "cell_type": "code",
      "metadata": {
        "colab": {
          "base_uri": "https://localhost:8080/"
        },
        "id": "Y8FbMkuIF1zt",
        "outputId": "3fc51aa6-632f-4d06-dcdc-4830dd63c1ee"
      },
      "source": [
        "# checking the dimesions of the dataset\n",
        "df.shape"
      ],
      "execution_count": 6,
      "outputs": [
        {
          "output_type": "execute_result",
          "data": {
            "text/plain": [
              "(851264, 7)"
            ]
          },
          "metadata": {
            "tags": []
          },
          "execution_count": 6
        }
      ]
    },
    {
      "cell_type": "code",
      "metadata": {
        "colab": {
          "base_uri": "https://localhost:8080/"
        },
        "id": "MO_ZWzBTF5mq",
        "outputId": "efc2779c-bd11-4821-aa1a-7f19b64e6c88"
      },
      "source": [
        "# checking the info of the dataset\n",
        "df.info()"
      ],
      "execution_count": 7,
      "outputs": [
        {
          "output_type": "stream",
          "text": [
            "<class 'pandas.core.frame.DataFrame'>\n",
            "RangeIndex: 851264 entries, 0 to 851263\n",
            "Data columns (total 7 columns):\n",
            " #   Column  Non-Null Count   Dtype  \n",
            "---  ------  --------------   -----  \n",
            " 0   date    851264 non-null  object \n",
            " 1   symbol  851264 non-null  object \n",
            " 2   open    851264 non-null  float64\n",
            " 3   close   851264 non-null  float64\n",
            " 4   low     851264 non-null  float64\n",
            " 5   high    851264 non-null  float64\n",
            " 6   volume  851264 non-null  float64\n",
            "dtypes: float64(5), object(2)\n",
            "memory usage: 45.5+ MB\n"
          ],
          "name": "stdout"
        }
      ]
    },
    {
      "cell_type": "markdown",
      "metadata": {
        "id": "HlLKVPVH_BCT"
      },
      "source": [
        "## Question 2"
      ]
    },
    {
      "cell_type": "markdown",
      "metadata": {
        "id": "ZxoGynuBeO4t"
      },
      "source": [
        "### Drop null\n",
        "- Drop null values if any"
      ]
    },
    {
      "cell_type": "code",
      "metadata": {
        "colab": {
          "base_uri": "https://localhost:8080/"
        },
        "id": "_yuwJJIeeUaD",
        "outputId": "9d5bf4a4-33de-450b-e79b-a6a4baf7f79f"
      },
      "source": [
        "# checking if the dataset has any null values\n",
        "df.isna().sum()"
      ],
      "execution_count": 8,
      "outputs": [
        {
          "output_type": "execute_result",
          "data": {
            "text/plain": [
              "date      0\n",
              "symbol    0\n",
              "open      0\n",
              "close     0\n",
              "low       0\n",
              "high      0\n",
              "volume    0\n",
              "dtype: int64"
            ]
          },
          "metadata": {
            "tags": []
          },
          "execution_count": 8
        }
      ]
    },
    {
      "cell_type": "code",
      "metadata": {
        "id": "F46CBm9xR7Gz"
      },
      "source": [
        "# there are no null values"
      ],
      "execution_count": 9,
      "outputs": []
    },
    {
      "cell_type": "markdown",
      "metadata": {
        "id": "9J4BlzVA_gZd"
      },
      "source": [
        "### Drop columns\n",
        "- Now, we don't need \"date\", \"volume\" and \"symbol\" column\n",
        "- drop \"date\", \"volume\" and \"symbol\" column from the data\n"
      ]
    },
    {
      "cell_type": "code",
      "metadata": {
        "id": "IKEK8aEE_Csx"
      },
      "source": [
        "# dropping the columns \"date\", \"volume\" and \"symbol\" \n",
        "df = df.drop([\"date\", \"volume\", \"symbol\" ],axis=1)"
      ],
      "execution_count": 10,
      "outputs": []
    },
    {
      "cell_type": "code",
      "metadata": {
        "colab": {
          "base_uri": "https://localhost:8080/",
          "height": 194
        },
        "id": "OGcsc1_fIN5t",
        "outputId": "0be77499-ab88-496b-f590-9d73023e136c"
      },
      "source": [
        "df.head()"
      ],
      "execution_count": 11,
      "outputs": [
        {
          "output_type": "execute_result",
          "data": {
            "text/html": [
              "<div>\n",
              "<style scoped>\n",
              "    .dataframe tbody tr th:only-of-type {\n",
              "        vertical-align: middle;\n",
              "    }\n",
              "\n",
              "    .dataframe tbody tr th {\n",
              "        vertical-align: top;\n",
              "    }\n",
              "\n",
              "    .dataframe thead th {\n",
              "        text-align: right;\n",
              "    }\n",
              "</style>\n",
              "<table border=\"1\" class=\"dataframe\">\n",
              "  <thead>\n",
              "    <tr style=\"text-align: right;\">\n",
              "      <th></th>\n",
              "      <th>open</th>\n",
              "      <th>close</th>\n",
              "      <th>low</th>\n",
              "      <th>high</th>\n",
              "    </tr>\n",
              "  </thead>\n",
              "  <tbody>\n",
              "    <tr>\n",
              "      <th>0</th>\n",
              "      <td>123.430000</td>\n",
              "      <td>125.839996</td>\n",
              "      <td>122.309998</td>\n",
              "      <td>126.250000</td>\n",
              "    </tr>\n",
              "    <tr>\n",
              "      <th>1</th>\n",
              "      <td>125.239998</td>\n",
              "      <td>119.980003</td>\n",
              "      <td>119.940002</td>\n",
              "      <td>125.540001</td>\n",
              "    </tr>\n",
              "    <tr>\n",
              "      <th>2</th>\n",
              "      <td>116.379997</td>\n",
              "      <td>114.949997</td>\n",
              "      <td>114.930000</td>\n",
              "      <td>119.739998</td>\n",
              "    </tr>\n",
              "    <tr>\n",
              "      <th>3</th>\n",
              "      <td>115.480003</td>\n",
              "      <td>116.620003</td>\n",
              "      <td>113.500000</td>\n",
              "      <td>117.440002</td>\n",
              "    </tr>\n",
              "    <tr>\n",
              "      <th>4</th>\n",
              "      <td>117.010002</td>\n",
              "      <td>114.970001</td>\n",
              "      <td>114.089996</td>\n",
              "      <td>117.330002</td>\n",
              "    </tr>\n",
              "  </tbody>\n",
              "</table>\n",
              "</div>"
            ],
            "text/plain": [
              "         open       close         low        high\n",
              "0  123.430000  125.839996  122.309998  126.250000\n",
              "1  125.239998  119.980003  119.940002  125.540001\n",
              "2  116.379997  114.949997  114.930000  119.739998\n",
              "3  115.480003  116.620003  113.500000  117.440002\n",
              "4  117.010002  114.970001  114.089996  117.330002"
            ]
          },
          "metadata": {
            "tags": []
          },
          "execution_count": 11
        }
      ]
    },
    {
      "cell_type": "markdown",
      "metadata": {
        "id": "cTPhO6v-AiZt"
      },
      "source": [
        "## Question 3"
      ]
    },
    {
      "cell_type": "markdown",
      "metadata": {
        "id": "SsZXmF3NAkna"
      },
      "source": [
        "### Print the dataframe\n",
        "- print the modified dataframe"
      ]
    },
    {
      "cell_type": "code",
      "metadata": {
        "colab": {
          "base_uri": "https://localhost:8080/"
        },
        "id": "aKs04iIHAjxN",
        "outputId": "42368a44-afb3-427d-d761-9ccfac329295"
      },
      "source": [
        "print(df)"
      ],
      "execution_count": 12,
      "outputs": [
        {
          "output_type": "stream",
          "text": [
            "              open       close         low        high\n",
            "0       123.430000  125.839996  122.309998  126.250000\n",
            "1       125.239998  119.980003  119.940002  125.540001\n",
            "2       116.379997  114.949997  114.930000  119.739998\n",
            "3       115.480003  116.620003  113.500000  117.440002\n",
            "4       117.010002  114.970001  114.089996  117.330002\n",
            "...            ...         ...         ...         ...\n",
            "851259  103.309998  103.199997  102.849998  103.930000\n",
            "851260   43.070000   43.040001   42.689999   43.310001\n",
            "851261   53.639999   53.529999   53.270000   53.740002\n",
            "851262   44.730000   45.450001   44.410000   45.590000\n",
            "851263   54.200001   53.630001   53.389999   54.480000\n",
            "\n",
            "[851264 rows x 4 columns]\n"
          ],
          "name": "stdout"
        }
      ]
    },
    {
      "cell_type": "code",
      "metadata": {
        "colab": {
          "base_uri": "https://localhost:8080/",
          "height": 194
        },
        "id": "y3-8dUibMA8J",
        "outputId": "1d395d83-1d96-411c-bcb5-3c51c7fd7223"
      },
      "source": [
        "df.head()"
      ],
      "execution_count": 13,
      "outputs": [
        {
          "output_type": "execute_result",
          "data": {
            "text/html": [
              "<div>\n",
              "<style scoped>\n",
              "    .dataframe tbody tr th:only-of-type {\n",
              "        vertical-align: middle;\n",
              "    }\n",
              "\n",
              "    .dataframe tbody tr th {\n",
              "        vertical-align: top;\n",
              "    }\n",
              "\n",
              "    .dataframe thead th {\n",
              "        text-align: right;\n",
              "    }\n",
              "</style>\n",
              "<table border=\"1\" class=\"dataframe\">\n",
              "  <thead>\n",
              "    <tr style=\"text-align: right;\">\n",
              "      <th></th>\n",
              "      <th>open</th>\n",
              "      <th>close</th>\n",
              "      <th>low</th>\n",
              "      <th>high</th>\n",
              "    </tr>\n",
              "  </thead>\n",
              "  <tbody>\n",
              "    <tr>\n",
              "      <th>0</th>\n",
              "      <td>123.430000</td>\n",
              "      <td>125.839996</td>\n",
              "      <td>122.309998</td>\n",
              "      <td>126.250000</td>\n",
              "    </tr>\n",
              "    <tr>\n",
              "      <th>1</th>\n",
              "      <td>125.239998</td>\n",
              "      <td>119.980003</td>\n",
              "      <td>119.940002</td>\n",
              "      <td>125.540001</td>\n",
              "    </tr>\n",
              "    <tr>\n",
              "      <th>2</th>\n",
              "      <td>116.379997</td>\n",
              "      <td>114.949997</td>\n",
              "      <td>114.930000</td>\n",
              "      <td>119.739998</td>\n",
              "    </tr>\n",
              "    <tr>\n",
              "      <th>3</th>\n",
              "      <td>115.480003</td>\n",
              "      <td>116.620003</td>\n",
              "      <td>113.500000</td>\n",
              "      <td>117.440002</td>\n",
              "    </tr>\n",
              "    <tr>\n",
              "      <th>4</th>\n",
              "      <td>117.010002</td>\n",
              "      <td>114.970001</td>\n",
              "      <td>114.089996</td>\n",
              "      <td>117.330002</td>\n",
              "    </tr>\n",
              "  </tbody>\n",
              "</table>\n",
              "</div>"
            ],
            "text/plain": [
              "         open       close         low        high\n",
              "0  123.430000  125.839996  122.309998  126.250000\n",
              "1  125.239998  119.980003  119.940002  125.540001\n",
              "2  116.379997  114.949997  114.930000  119.739998\n",
              "3  115.480003  116.620003  113.500000  117.440002\n",
              "4  117.010002  114.970001  114.089996  117.330002"
            ]
          },
          "metadata": {
            "tags": []
          },
          "execution_count": 13
        }
      ]
    },
    {
      "cell_type": "markdown",
      "metadata": {
        "id": "C8u_jlbABTip"
      },
      "source": [
        "### Get features and label from the dataset in separate variable\n",
        "- Let's separate labels and features now. We are going to predict the value for \"close\" column so that will be our label. Our features will be \"open\", \"low\", \"high\"\n",
        "- Take \"open\" \"low\", \"high\" columns as features\n",
        "- Take \"close\" column as label"
      ]
    },
    {
      "cell_type": "code",
      "metadata": {
        "id": "xQjCMzUXBJbg"
      },
      "source": [
        "# separating the dataset into features and labels \n",
        "\n",
        "# features \n",
        "X = df[[\"open\", \"low\", \"high\"]]\n",
        "\n",
        "# labels\n",
        "y = df[\"close\"]"
      ],
      "execution_count": 14,
      "outputs": []
    },
    {
      "cell_type": "code",
      "metadata": {
        "colab": {
          "base_uri": "https://localhost:8080/",
          "height": 194
        },
        "id": "OgQ6OyFGI9fn",
        "outputId": "d5404043-3c6f-48bd-e59d-7b5ce674c2c1"
      },
      "source": [
        "X.head()"
      ],
      "execution_count": 15,
      "outputs": [
        {
          "output_type": "execute_result",
          "data": {
            "text/html": [
              "<div>\n",
              "<style scoped>\n",
              "    .dataframe tbody tr th:only-of-type {\n",
              "        vertical-align: middle;\n",
              "    }\n",
              "\n",
              "    .dataframe tbody tr th {\n",
              "        vertical-align: top;\n",
              "    }\n",
              "\n",
              "    .dataframe thead th {\n",
              "        text-align: right;\n",
              "    }\n",
              "</style>\n",
              "<table border=\"1\" class=\"dataframe\">\n",
              "  <thead>\n",
              "    <tr style=\"text-align: right;\">\n",
              "      <th></th>\n",
              "      <th>open</th>\n",
              "      <th>low</th>\n",
              "      <th>high</th>\n",
              "    </tr>\n",
              "  </thead>\n",
              "  <tbody>\n",
              "    <tr>\n",
              "      <th>0</th>\n",
              "      <td>123.430000</td>\n",
              "      <td>122.309998</td>\n",
              "      <td>126.250000</td>\n",
              "    </tr>\n",
              "    <tr>\n",
              "      <th>1</th>\n",
              "      <td>125.239998</td>\n",
              "      <td>119.940002</td>\n",
              "      <td>125.540001</td>\n",
              "    </tr>\n",
              "    <tr>\n",
              "      <th>2</th>\n",
              "      <td>116.379997</td>\n",
              "      <td>114.930000</td>\n",
              "      <td>119.739998</td>\n",
              "    </tr>\n",
              "    <tr>\n",
              "      <th>3</th>\n",
              "      <td>115.480003</td>\n",
              "      <td>113.500000</td>\n",
              "      <td>117.440002</td>\n",
              "    </tr>\n",
              "    <tr>\n",
              "      <th>4</th>\n",
              "      <td>117.010002</td>\n",
              "      <td>114.089996</td>\n",
              "      <td>117.330002</td>\n",
              "    </tr>\n",
              "  </tbody>\n",
              "</table>\n",
              "</div>"
            ],
            "text/plain": [
              "         open         low        high\n",
              "0  123.430000  122.309998  126.250000\n",
              "1  125.239998  119.940002  125.540001\n",
              "2  116.379997  114.930000  119.739998\n",
              "3  115.480003  113.500000  117.440002\n",
              "4  117.010002  114.089996  117.330002"
            ]
          },
          "metadata": {
            "tags": []
          },
          "execution_count": 15
        }
      ]
    },
    {
      "cell_type": "code",
      "metadata": {
        "colab": {
          "base_uri": "https://localhost:8080/"
        },
        "id": "50xQnM3_JLP5",
        "outputId": "5ff5b60b-90e0-43e2-aaf7-bcb99572143c"
      },
      "source": [
        "y.head()"
      ],
      "execution_count": 16,
      "outputs": [
        {
          "output_type": "execute_result",
          "data": {
            "text/plain": [
              "0    125.839996\n",
              "1    119.980003\n",
              "2    114.949997\n",
              "3    116.620003\n",
              "4    114.970001\n",
              "Name: close, dtype: float64"
            ]
          },
          "metadata": {
            "tags": []
          },
          "execution_count": 16
        }
      ]
    },
    {
      "cell_type": "markdown",
      "metadata": {
        "id": "6vGtnapgBIJm"
      },
      "source": [
        "## Question 4"
      ]
    },
    {
      "cell_type": "markdown",
      "metadata": {
        "id": "8pZAKdJ5gcrm"
      },
      "source": [
        "### Create train and test sets\n",
        "- Split the data into training and testing"
      ]
    },
    {
      "cell_type": "code",
      "metadata": {
        "id": "KalRqA6Rgqsn"
      },
      "source": [
        "from sklearn import model_selection, preprocessing"
      ],
      "execution_count": 17,
      "outputs": []
    },
    {
      "cell_type": "code",
      "metadata": {
        "id": "Scofo5MPJ8bY"
      },
      "source": [
        "#split the data to training and testing model\n",
        "X_train, X_test, y_train, y_test = model_selection.train_test_split(X, y, test_size=0.25, random_state=7)"
      ],
      "execution_count": 18,
      "outputs": []
    },
    {
      "cell_type": "markdown",
      "metadata": {
        "id": "aTAKzlxZBz0z"
      },
      "source": [
        "## Question 5"
      ]
    },
    {
      "cell_type": "markdown",
      "metadata": {
        "id": "O7BU2qxEg0Ki"
      },
      "source": [
        "### Scaling\n",
        "- Scale the data (features only)\n",
        "- Use StandarScaler"
      ]
    },
    {
      "cell_type": "code",
      "metadata": {
        "id": "AcO8SlhPhBkR"
      },
      "source": [
        "# scaling the data\n",
        "sc = preprocessing.StandardScaler()\n",
        "X_train = sc.fit_transform(X_train)\n",
        "X_test = sc.transform(X_test)"
      ],
      "execution_count": 19,
      "outputs": []
    },
    {
      "cell_type": "markdown",
      "metadata": {
        "id": "3TWpN0nVTpUx"
      },
      "source": [
        "## Question 6"
      ]
    },
    {
      "cell_type": "markdown",
      "metadata": {
        "id": "_sj0LYNkhR-L"
      },
      "source": [
        "### Convert data to NumPy array\n",
        "- Convert features and labels to numpy array"
      ]
    },
    {
      "cell_type": "code",
      "metadata": {
        "colab": {
          "base_uri": "https://localhost:8080/"
        },
        "id": "X6mIfuTxhbTT",
        "outputId": "0d520a4f-cb32-4927-a5d3-c1cc524aced9"
      },
      "source": [
        "# X_train is already numpy, checking the type\n",
        "type(X_train)"
      ],
      "execution_count": 20,
      "outputs": [
        {
          "output_type": "execute_result",
          "data": {
            "text/plain": [
              "numpy.ndarray"
            ]
          },
          "metadata": {
            "tags": []
          },
          "execution_count": 20
        }
      ]
    },
    {
      "cell_type": "code",
      "metadata": {
        "colab": {
          "base_uri": "https://localhost:8080/"
        },
        "id": "NbZCmkS8TpcO",
        "outputId": "e2b268a8-80f5-4d2c-f502-d19321ed24da"
      },
      "source": [
        "# X_test is already numpy, checking the type\n",
        "type(X_test)"
      ],
      "execution_count": 21,
      "outputs": [
        {
          "output_type": "execute_result",
          "data": {
            "text/plain": [
              "numpy.ndarray"
            ]
          },
          "metadata": {
            "tags": []
          },
          "execution_count": 21
        }
      ]
    },
    {
      "cell_type": "code",
      "metadata": {
        "id": "_1s5FyUmUk8k"
      },
      "source": [
        "# converting into numpy\n",
        "import numpy as np\n",
        "y_train = np.array(y_train)\n",
        "y_test = np.array(y_test)"
      ],
      "execution_count": 22,
      "outputs": []
    },
    {
      "cell_type": "code",
      "metadata": {
        "colab": {
          "base_uri": "https://localhost:8080/"
        },
        "id": "MJSSOX9iU7FT",
        "outputId": "dd6dd439-2155-4a6b-c1bd-26ea098f1a2c"
      },
      "source": [
        "type(y_train)"
      ],
      "execution_count": 23,
      "outputs": [
        {
          "output_type": "execute_result",
          "data": {
            "text/plain": [
              "numpy.ndarray"
            ]
          },
          "metadata": {
            "tags": []
          },
          "execution_count": 23
        }
      ]
    },
    {
      "cell_type": "code",
      "metadata": {
        "colab": {
          "base_uri": "https://localhost:8080/"
        },
        "id": "CNVIzqlyU-cV",
        "outputId": "dcafdf4f-5adc-4cf9-ba48-472303b08e2e"
      },
      "source": [
        "type(y_test)"
      ],
      "execution_count": 24,
      "outputs": [
        {
          "output_type": "execute_result",
          "data": {
            "text/plain": [
              "numpy.ndarray"
            ]
          },
          "metadata": {
            "tags": []
          },
          "execution_count": 24
        }
      ]
    },
    {
      "cell_type": "markdown",
      "metadata": {
        "id": "wmXUGc2oTspa"
      },
      "source": [
        "## Question 7"
      ]
    },
    {
      "cell_type": "markdown",
      "metadata": {
        "id": "cl2M9whFh6mh"
      },
      "source": [
        "### Define Model\n",
        "- Initialize a Sequential model\n",
        "- Add a Flatten layer\n",
        "- Add a Dense layer with one neuron as output\n",
        "  - add 'linear' as activation function\n"
      ]
    },
    {
      "cell_type": "code",
      "metadata": {
        "colab": {
          "base_uri": "https://localhost:8080/"
        },
        "id": "TkiBpORmiegL",
        "outputId": "17a82673-7da3-46cd-f4e2-a42ba304a6dd"
      },
      "source": [
        "import tensorflow as tf\n",
        "from tensorflow.keras.models import Sequential\n",
        "from tensorflow.keras.layers import Dense, Input, Flatten, Conv2D\n",
        "\n",
        "# building the model\n",
        "model = tf.keras.Sequential()\n",
        "model.add(tf.keras.layers.Dense(1, input_shape = (3,), activation ='linear'))\n",
        "model.output_shape"
      ],
      "execution_count": 25,
      "outputs": [
        {
          "output_type": "execute_result",
          "data": {
            "text/plain": [
              "(None, 1)"
            ]
          },
          "metadata": {
            "tags": []
          },
          "execution_count": 25
        }
      ]
    },
    {
      "cell_type": "code",
      "metadata": {
        "colab": {
          "base_uri": "https://localhost:8080/"
        },
        "id": "UrMAQ0I0djke",
        "outputId": "7038d4be-4ab8-4ac1-a49a-962d6ffbb0fe"
      },
      "source": [
        "# building the model with flatten\n",
        "model_flt = Sequential([Input(shape=(3,1)),\n",
        "                                   Flatten(),\n",
        "                                   Dense(1, activation='linear')])\n",
        "model.output_shape"
      ],
      "execution_count": 26,
      "outputs": [
        {
          "output_type": "execute_result",
          "data": {
            "text/plain": [
              "(None, 1)"
            ]
          },
          "metadata": {
            "tags": []
          },
          "execution_count": 26
        }
      ]
    },
    {
      "cell_type": "code",
      "metadata": {
        "colab": {
          "base_uri": "https://localhost:8080/"
        },
        "id": "EESOuOh_d7hC",
        "outputId": "93b86dad-02a1-40b7-f6d8-294d624e1d79"
      },
      "source": [
        "# checking the summary of the model\n",
        "model.summary()"
      ],
      "execution_count": 27,
      "outputs": [
        {
          "output_type": "stream",
          "text": [
            "Model: \"sequential\"\n",
            "_________________________________________________________________\n",
            "Layer (type)                 Output Shape              Param #   \n",
            "=================================================================\n",
            "dense (Dense)                (None, 1)                 4         \n",
            "=================================================================\n",
            "Total params: 4\n",
            "Trainable params: 4\n",
            "Non-trainable params: 0\n",
            "_________________________________________________________________\n"
          ],
          "name": "stdout"
        }
      ]
    },
    {
      "cell_type": "code",
      "metadata": {
        "colab": {
          "base_uri": "https://localhost:8080/"
        },
        "id": "bUDtbxcYTAT9",
        "outputId": "2a419468-d544-4ec8-c2be-5a3539ed2143"
      },
      "source": [
        "# checking the summary of the model\n",
        "model_flt.summary()"
      ],
      "execution_count": 28,
      "outputs": [
        {
          "output_type": "stream",
          "text": [
            "Model: \"sequential_1\"\n",
            "_________________________________________________________________\n",
            "Layer (type)                 Output Shape              Param #   \n",
            "=================================================================\n",
            "flatten (Flatten)            (None, 3)                 0         \n",
            "_________________________________________________________________\n",
            "dense_1 (Dense)              (None, 1)                 4         \n",
            "=================================================================\n",
            "Total params: 4\n",
            "Trainable params: 4\n",
            "Non-trainable params: 0\n",
            "_________________________________________________________________\n"
          ],
          "name": "stdout"
        }
      ]
    },
    {
      "cell_type": "markdown",
      "metadata": {
        "id": "8a0wr94aTyjg"
      },
      "source": [
        "## Question 8"
      ]
    },
    {
      "cell_type": "markdown",
      "metadata": {
        "id": "BNZPb5lKioX0"
      },
      "source": [
        "### Compile the model\n",
        "- Compile the model\n",
        "- Use \"sgd\" optimizer\n",
        "- for calculating loss, use mean squared error"
      ]
    },
    {
      "cell_type": "code",
      "metadata": {
        "colab": {
          "base_uri": "https://localhost:8080/"
        },
        "id": "ZEQUP3VaiuT2",
        "outputId": "0a83c1d4-ef2b-402e-9edb-93f2a09209b9"
      },
      "source": [
        "from tensorflow.keras.optimizers import Adam\n",
        "\n",
        "# compiling the model\n",
        "model.compile(loss='mean_squared_error', optimizer='sgd')\n",
        "model.summary()"
      ],
      "execution_count": 29,
      "outputs": [
        {
          "output_type": "stream",
          "text": [
            "Model: \"sequential\"\n",
            "_________________________________________________________________\n",
            "Layer (type)                 Output Shape              Param #   \n",
            "=================================================================\n",
            "dense (Dense)                (None, 1)                 4         \n",
            "=================================================================\n",
            "Total params: 4\n",
            "Trainable params: 4\n",
            "Non-trainable params: 0\n",
            "_________________________________________________________________\n"
          ],
          "name": "stdout"
        }
      ]
    },
    {
      "cell_type": "code",
      "metadata": {
        "colab": {
          "base_uri": "https://localhost:8080/"
        },
        "id": "unnF346imcc7",
        "outputId": "dd89ee64-f8ad-4512-c887-0386c2c4360c"
      },
      "source": [
        "# compiling the model\n",
        "model_flt.compile(loss='mean_squared_error', optimizer='sgd')\n",
        "model_flt.summary()"
      ],
      "execution_count": 30,
      "outputs": [
        {
          "output_type": "stream",
          "text": [
            "Model: \"sequential_1\"\n",
            "_________________________________________________________________\n",
            "Layer (type)                 Output Shape              Param #   \n",
            "=================================================================\n",
            "flatten (Flatten)            (None, 3)                 0         \n",
            "_________________________________________________________________\n",
            "dense_1 (Dense)              (None, 1)                 4         \n",
            "=================================================================\n",
            "Total params: 4\n",
            "Trainable params: 4\n",
            "Non-trainable params: 0\n",
            "_________________________________________________________________\n"
          ],
          "name": "stdout"
        }
      ]
    },
    {
      "cell_type": "markdown",
      "metadata": {
        "id": "ZbBpnOtfT0wd"
      },
      "source": [
        "## Question 9"
      ]
    },
    {
      "cell_type": "markdown",
      "metadata": {
        "id": "n9o45OHdjDhA"
      },
      "source": [
        "### Fit the model\n",
        "- epochs: 50\n",
        "- batch size: 128\n",
        "- specify validation data"
      ]
    },
    {
      "cell_type": "code",
      "metadata": {
        "colab": {
          "base_uri": "https://localhost:8080/"
        },
        "id": "-Y6tA30XjOH2",
        "outputId": "e4ed4723-1fe4-4ca8-ddc9-f3944b6b2242"
      },
      "source": [
        "# fitting the model \n",
        "model_flt.fit(X_train, y_train, validation_data=(X_test,y_test), epochs=50, batch_size=128)"
      ],
      "execution_count": 31,
      "outputs": [
        {
          "output_type": "stream",
          "text": [
            "Epoch 1/50\n",
            "4988/4988 [==============================] - 5s 959us/step - loss: 39.1482 - val_loss: 0.9486\n",
            "Epoch 2/50\n",
            "4988/4988 [==============================] - 5s 928us/step - loss: 0.9788 - val_loss: 0.9342\n",
            "Epoch 3/50\n",
            "4988/4988 [==============================] - 5s 929us/step - loss: 0.9704 - val_loss: 0.9288\n",
            "Epoch 4/50\n",
            "4988/4988 [==============================] - 5s 936us/step - loss: 0.9631 - val_loss: 0.9360\n",
            "Epoch 5/50\n",
            "4988/4988 [==============================] - 5s 939us/step - loss: 0.9546 - val_loss: 0.9169\n",
            "Epoch 6/50\n",
            "4988/4988 [==============================] - 5s 932us/step - loss: 0.9480 - val_loss: 0.9081\n",
            "Epoch 7/50\n",
            "4988/4988 [==============================] - 5s 935us/step - loss: 0.9406 - val_loss: 0.9119\n",
            "Epoch 8/50\n",
            "4988/4988 [==============================] - 5s 933us/step - loss: 0.9341 - val_loss: 0.8933\n",
            "Epoch 9/50\n",
            "4988/4988 [==============================] - 5s 925us/step - loss: 0.9268 - val_loss: 0.8889\n",
            "Epoch 10/50\n",
            "4988/4988 [==============================] - 5s 934us/step - loss: 0.9209 - val_loss: 0.8864\n",
            "Epoch 11/50\n",
            "4988/4988 [==============================] - 5s 925us/step - loss: 0.9142 - val_loss: 0.8921\n",
            "Epoch 12/50\n",
            "4988/4988 [==============================] - 5s 929us/step - loss: 0.9080 - val_loss: 0.8698\n",
            "Epoch 13/50\n",
            "4988/4988 [==============================] - 5s 935us/step - loss: 0.9008 - val_loss: 0.8943\n",
            "Epoch 14/50\n",
            "4988/4988 [==============================] - 5s 924us/step - loss: 0.8949 - val_loss: 0.8568\n",
            "Epoch 15/50\n",
            "4988/4988 [==============================] - 5s 934us/step - loss: 0.8894 - val_loss: 0.8993\n",
            "Epoch 16/50\n",
            "4988/4988 [==============================] - 5s 932us/step - loss: 0.8825 - val_loss: 0.8487\n",
            "Epoch 17/50\n",
            "4988/4988 [==============================] - 5s 947us/step - loss: 0.8766 - val_loss: 0.8381\n",
            "Epoch 18/50\n",
            "4988/4988 [==============================] - 5s 932us/step - loss: 0.8701 - val_loss: 0.8320\n",
            "Epoch 19/50\n",
            "4988/4988 [==============================] - 5s 941us/step - loss: 0.8650 - val_loss: 0.8321\n",
            "Epoch 20/50\n",
            "4988/4988 [==============================] - 5s 935us/step - loss: 0.8576 - val_loss: 0.8254\n",
            "Epoch 21/50\n",
            "4988/4988 [==============================] - 5s 938us/step - loss: 0.8525 - val_loss: 0.8424\n",
            "Epoch 22/50\n",
            "4988/4988 [==============================] - 5s 932us/step - loss: 0.8469 - val_loss: 0.8114\n",
            "Epoch 23/50\n",
            "4988/4988 [==============================] - 5s 928us/step - loss: 0.8414 - val_loss: 0.8056\n",
            "Epoch 24/50\n",
            "4988/4988 [==============================] - 5s 930us/step - loss: 0.8342 - val_loss: 0.8248\n",
            "Epoch 25/50\n",
            "4988/4988 [==============================] - 5s 963us/step - loss: 0.8296 - val_loss: 0.8384\n",
            "Epoch 26/50\n",
            "4988/4988 [==============================] - 5s 1ms/step - loss: 0.8259 - val_loss: 0.7894\n",
            "Epoch 27/50\n",
            "4988/4988 [==============================] - 5s 924us/step - loss: 0.8181 - val_loss: 0.7898\n",
            "Epoch 28/50\n",
            "4988/4988 [==============================] - 5s 1ms/step - loss: 0.8120 - val_loss: 0.7820\n",
            "Epoch 29/50\n",
            "4988/4988 [==============================] - 5s 1ms/step - loss: 0.8083 - val_loss: 0.7872\n",
            "Epoch 30/50\n",
            "4988/4988 [==============================] - 5s 1ms/step - loss: 0.8028 - val_loss: 0.8190\n",
            "Epoch 31/50\n",
            "4988/4988 [==============================] - 5s 1ms/step - loss: 0.7983 - val_loss: 0.7771\n",
            "Epoch 32/50\n",
            "4988/4988 [==============================] - 5s 938us/step - loss: 0.7939 - val_loss: 0.7798\n",
            "Epoch 33/50\n",
            "4988/4988 [==============================] - 5s 930us/step - loss: 0.7892 - val_loss: 0.7999\n",
            "Epoch 34/50\n",
            "4988/4988 [==============================] - 5s 933us/step - loss: 0.7838 - val_loss: 0.7510\n",
            "Epoch 35/50\n",
            "4988/4988 [==============================] - 5s 927us/step - loss: 0.7790 - val_loss: 0.7500\n",
            "Epoch 36/50\n",
            "4988/4988 [==============================] - 5s 920us/step - loss: 0.7742 - val_loss: 0.7410\n",
            "Epoch 37/50\n",
            "4988/4988 [==============================] - 5s 925us/step - loss: 0.7694 - val_loss: 0.7520\n",
            "Epoch 38/50\n",
            "4988/4988 [==============================] - 5s 926us/step - loss: 0.7651 - val_loss: 0.7339\n",
            "Epoch 39/50\n",
            "4988/4988 [==============================] - 5s 932us/step - loss: 0.7605 - val_loss: 0.7277\n",
            "Epoch 40/50\n",
            "4988/4988 [==============================] - 5s 936us/step - loss: 0.7554 - val_loss: 0.7450\n",
            "Epoch 41/50\n",
            "4988/4988 [==============================] - 5s 924us/step - loss: 0.7505 - val_loss: 0.7263\n",
            "Epoch 42/50\n",
            "4988/4988 [==============================] - 5s 932us/step - loss: 0.7474 - val_loss: 0.7248\n",
            "Epoch 43/50\n",
            "4988/4988 [==============================] - 5s 929us/step - loss: 0.7418 - val_loss: 0.7569\n",
            "Epoch 44/50\n",
            "4988/4988 [==============================] - 5s 923us/step - loss: 0.7381 - val_loss: 0.7414\n",
            "Epoch 45/50\n",
            "4988/4988 [==============================] - 5s 933us/step - loss: 0.7337 - val_loss: 0.7054\n",
            "Epoch 46/50\n",
            "4988/4988 [==============================] - 5s 924us/step - loss: 0.7298 - val_loss: 0.6990\n",
            "Epoch 47/50\n",
            "4988/4988 [==============================] - 5s 926us/step - loss: 0.7244 - val_loss: 0.7093\n",
            "Epoch 48/50\n",
            "4988/4988 [==============================] - 5s 935us/step - loss: 0.7213 - val_loss: 0.6916\n",
            "Epoch 49/50\n",
            "4988/4988 [==============================] - 5s 934us/step - loss: 0.7176 - val_loss: 0.6876\n",
            "Epoch 50/50\n",
            "4988/4988 [==============================] - 5s 925us/step - loss: 0.7135 - val_loss: 0.6892\n"
          ],
          "name": "stdout"
        },
        {
          "output_type": "execute_result",
          "data": {
            "text/plain": [
              "<tensorflow.python.keras.callbacks.History at 0x7f936716d5f8>"
            ]
          },
          "metadata": {
            "tags": []
          },
          "execution_count": 31
        }
      ]
    },
    {
      "cell_type": "code",
      "metadata": {
        "colab": {
          "base_uri": "https://localhost:8080/"
        },
        "id": "zQkPnkm4nskS",
        "outputId": "1f2e39e8-bf91-47e8-aab3-4f3c326675da"
      },
      "source": [
        "# fitting the model \n",
        "model.fit(X_train, y_train, validation_data=(X_test,y_test), epochs=50, batch_size=128)"
      ],
      "execution_count": 32,
      "outputs": [
        {
          "output_type": "stream",
          "text": [
            "Epoch 1/50\n",
            "4988/4988 [==============================] - 5s 935us/step - loss: 38.8423 - val_loss: 0.9621\n",
            "Epoch 2/50\n",
            "4988/4988 [==============================] - 5s 915us/step - loss: 0.9741 - val_loss: 0.9415\n",
            "Epoch 3/50\n",
            "4988/4988 [==============================] - 5s 922us/step - loss: 0.9671 - val_loss: 0.9335\n",
            "Epoch 4/50\n",
            "4988/4988 [==============================] - 5s 920us/step - loss: 0.9609 - val_loss: 0.9187\n",
            "Epoch 5/50\n",
            "4988/4988 [==============================] - 5s 922us/step - loss: 0.9547 - val_loss: 0.9121\n",
            "Epoch 6/50\n",
            "4988/4988 [==============================] - 5s 911us/step - loss: 0.9467 - val_loss: 0.9085\n",
            "Epoch 7/50\n",
            "4988/4988 [==============================] - 5s 926us/step - loss: 0.9414 - val_loss: 0.8993\n",
            "Epoch 8/50\n",
            "4988/4988 [==============================] - 5s 915us/step - loss: 0.9322 - val_loss: 0.8985\n",
            "Epoch 9/50\n",
            "4988/4988 [==============================] - 5s 918us/step - loss: 0.9250 - val_loss: 0.8951\n",
            "Epoch 10/50\n",
            "4988/4988 [==============================] - 5s 912us/step - loss: 0.9199 - val_loss: 0.8774\n",
            "Epoch 11/50\n",
            "4988/4988 [==============================] - 5s 920us/step - loss: 0.9130 - val_loss: 0.8723\n",
            "Epoch 12/50\n",
            "4988/4988 [==============================] - 5s 921us/step - loss: 0.9058 - val_loss: 0.9579\n",
            "Epoch 13/50\n",
            "4988/4988 [==============================] - 5s 915us/step - loss: 0.8977 - val_loss: 0.8581\n",
            "Epoch 14/50\n",
            "4988/4988 [==============================] - 5s 919us/step - loss: 0.8913 - val_loss: 0.8549\n",
            "Epoch 15/50\n",
            "4988/4988 [==============================] - 5s 921us/step - loss: 0.8866 - val_loss: 0.8498\n",
            "Epoch 16/50\n",
            "4988/4988 [==============================] - 5s 914us/step - loss: 0.8804 - val_loss: 0.8402\n",
            "Epoch 17/50\n",
            "4988/4988 [==============================] - 5s 919us/step - loss: 0.8730 - val_loss: 0.8368\n",
            "Epoch 18/50\n",
            "4988/4988 [==============================] - 5s 916us/step - loss: 0.8672 - val_loss: 0.8288\n",
            "Epoch 19/50\n",
            "4988/4988 [==============================] - 5s 913us/step - loss: 0.8608 - val_loss: 0.8231\n",
            "Epoch 20/50\n",
            "4988/4988 [==============================] - 5s 939us/step - loss: 0.8561 - val_loss: 0.8179\n",
            "Epoch 21/50\n",
            "4988/4988 [==============================] - 5s 928us/step - loss: 0.8484 - val_loss: 0.8127\n",
            "Epoch 22/50\n",
            "4988/4988 [==============================] - 5s 915us/step - loss: 0.8437 - val_loss: 0.8084\n",
            "Epoch 23/50\n",
            "4988/4988 [==============================] - 5s 923us/step - loss: 0.8377 - val_loss: 0.8011\n",
            "Epoch 24/50\n",
            "4988/4988 [==============================] - 5s 925us/step - loss: 0.8316 - val_loss: 0.8074\n",
            "Epoch 25/50\n",
            "4988/4988 [==============================] - 5s 919us/step - loss: 0.8271 - val_loss: 0.7906\n",
            "Epoch 26/50\n",
            "4988/4988 [==============================] - 5s 923us/step - loss: 0.8213 - val_loss: 0.8072\n",
            "Epoch 27/50\n",
            "4988/4988 [==============================] - 5s 929us/step - loss: 0.8170 - val_loss: 0.7834\n",
            "Epoch 28/50\n",
            "4988/4988 [==============================] - 5s 931us/step - loss: 0.8119 - val_loss: 0.7875\n",
            "Epoch 29/50\n",
            "4988/4988 [==============================] - 5s 924us/step - loss: 0.8058 - val_loss: 0.7715\n",
            "Epoch 30/50\n",
            "4988/4988 [==============================] - 5s 927us/step - loss: 0.8000 - val_loss: 0.7657\n",
            "Epoch 31/50\n",
            "4988/4988 [==============================] - 5s 930us/step - loss: 0.7951 - val_loss: 0.7746\n",
            "Epoch 32/50\n",
            "4988/4988 [==============================] - 5s 932us/step - loss: 0.7891 - val_loss: 0.7592\n",
            "Epoch 33/50\n",
            "4988/4988 [==============================] - 5s 927us/step - loss: 0.7857 - val_loss: 0.7589\n",
            "Epoch 34/50\n",
            "4988/4988 [==============================] - 5s 926us/step - loss: 0.7804 - val_loss: 0.7470\n",
            "Epoch 35/50\n",
            "4988/4988 [==============================] - 5s 986us/step - loss: 0.7746 - val_loss: 0.7588\n",
            "Epoch 36/50\n",
            "4988/4988 [==============================] - 5s 1ms/step - loss: 0.7699 - val_loss: 0.7378\n",
            "Epoch 37/50\n",
            "4988/4988 [==============================] - 5s 927us/step - loss: 0.7658 - val_loss: 0.7342\n",
            "Epoch 38/50\n",
            "4988/4988 [==============================] - 5s 917us/step - loss: 0.7614 - val_loss: 0.7333\n",
            "Epoch 39/50\n",
            "4988/4988 [==============================] - 5s 931us/step - loss: 0.7572 - val_loss: 0.7251\n",
            "Epoch 40/50\n",
            "4988/4988 [==============================] - 5s 922us/step - loss: 0.7534 - val_loss: 0.7378\n",
            "Epoch 41/50\n",
            "4988/4988 [==============================] - 5s 1ms/step - loss: 0.7488 - val_loss: 0.7291\n",
            "Epoch 42/50\n",
            "4988/4988 [==============================] - 5s 1ms/step - loss: 0.7440 - val_loss: 0.7247\n",
            "Epoch 43/50\n",
            "4988/4988 [==============================] - 5s 928us/step - loss: 0.7393 - val_loss: 0.7080\n",
            "Epoch 44/50\n",
            "4988/4988 [==============================] - 5s 924us/step - loss: 0.7356 - val_loss: 0.7064\n",
            "Epoch 45/50\n",
            "4988/4988 [==============================] - 5s 924us/step - loss: 0.7303 - val_loss: 0.7046\n",
            "Epoch 46/50\n",
            "4988/4988 [==============================] - 5s 928us/step - loss: 0.7273 - val_loss: 0.6984\n",
            "Epoch 47/50\n",
            "4988/4988 [==============================] - 5s 932us/step - loss: 0.7229 - val_loss: 0.6928\n",
            "Epoch 48/50\n",
            "4988/4988 [==============================] - 5s 929us/step - loss: 0.7184 - val_loss: 0.6888\n",
            "Epoch 49/50\n",
            "4988/4988 [==============================] - 5s 918us/step - loss: 0.7150 - val_loss: 0.6967\n",
            "Epoch 50/50\n",
            "4988/4988 [==============================] - 5s 923us/step - loss: 0.7102 - val_loss: 0.6812\n"
          ],
          "name": "stdout"
        },
        {
          "output_type": "execute_result",
          "data": {
            "text/plain": [
              "<tensorflow.python.keras.callbacks.History at 0x7f9364b67cf8>"
            ]
          },
          "metadata": {
            "tags": []
          },
          "execution_count": 32
        }
      ]
    },
    {
      "cell_type": "markdown",
      "metadata": {
        "id": "AW4SEP8kT2ls"
      },
      "source": [
        "## Question 10"
      ]
    },
    {
      "cell_type": "markdown",
      "metadata": {
        "id": "EJDoix_7JU61"
      },
      "source": [
        "### Evaluate the model\n",
        "- Evaluate the model on test data"
      ]
    },
    {
      "cell_type": "code",
      "metadata": {
        "colab": {
          "base_uri": "https://localhost:8080/"
        },
        "id": "HdH8pYBIjHGL",
        "outputId": "b7a1510f-8357-4098-8d61-ea24abc553b9"
      },
      "source": [
        "# get the scores of the model\n",
        "scores = model.evaluate(X_test, y_test, verbose=0)\n",
        "scores"
      ],
      "execution_count": 33,
      "outputs": [
        {
          "output_type": "execute_result",
          "data": {
            "text/plain": [
              "0.6812427043914795"
            ]
          },
          "metadata": {
            "tags": []
          },
          "execution_count": 33
        }
      ]
    },
    {
      "cell_type": "code",
      "metadata": {
        "colab": {
          "base_uri": "https://localhost:8080/"
        },
        "id": "n_WS8tnnpUBm",
        "outputId": "d86aff6a-8906-42a5-e190-432e07c25b79"
      },
      "source": [
        "# get the scores of the model\n",
        "scores_flt = model_flt.evaluate(X_test, y_test, verbose=0)\n",
        "scores_flt"
      ],
      "execution_count": 34,
      "outputs": [
        {
          "output_type": "execute_result",
          "data": {
            "text/plain": [
              "0.6891598701477051"
            ]
          },
          "metadata": {
            "tags": []
          },
          "execution_count": 34
        }
      ]
    },
    {
      "cell_type": "markdown",
      "metadata": {
        "id": "hUpDD74Xjh01"
      },
      "source": [
        "### Manual predictions\n",
        "- Test the predictions on manual inputs\n",
        "- We have scaled out training data, so we need to transform our custom inputs using the object of the scaler\n",
        "- Example of manual input: [123.430000,\t122.30999, 116.250000]"
      ]
    },
    {
      "cell_type": "code",
      "metadata": {
        "colab": {
          "base_uri": "https://localhost:8080/"
        },
        "id": "fvuH-c31lLiJ",
        "outputId": "8bb16995-4f92-489f-daa5-024ac042e4d7"
      },
      "source": [
        "# predicting with the model\n",
        "model_flt.predict(sc.transform([[123.430000, 122.30999, 116.250000]]))"
      ],
      "execution_count": 35,
      "outputs": [
        {
          "output_type": "execute_result",
          "data": {
            "text/plain": [
              "array([[119.72748]], dtype=float32)"
            ]
          },
          "metadata": {
            "tags": []
          },
          "execution_count": 35
        }
      ]
    },
    {
      "cell_type": "code",
      "metadata": {
        "colab": {
          "base_uri": "https://localhost:8080/"
        },
        "id": "RVC0VQ3mUwkw",
        "outputId": "457dc578-8ea4-42de-c365-3ba4e0e98128"
      },
      "source": [
        "# predicting with the model\n",
        "model.predict(sc.transform([[123.430000, 122.30999, 116.250000]]))"
      ],
      "execution_count": 36,
      "outputs": [
        {
          "output_type": "execute_result",
          "data": {
            "text/plain": [
              "array([[119.68052]], dtype=float32)"
            ]
          },
          "metadata": {
            "tags": []
          },
          "execution_count": 36
        }
      ]
    },
    {
      "cell_type": "markdown",
      "metadata": {
        "id": "4WH1Pr4KQlCh"
      },
      "source": [
        "# Build a DNN"
      ]
    },
    {
      "cell_type": "markdown",
      "metadata": {
        "id": "74cQBsi5QlCw"
      },
      "source": [
        "### Collect Fashion mnist data from tf.keras.datasets "
      ]
    },
    {
      "cell_type": "code",
      "metadata": {
        "colab": {
          "base_uri": "https://localhost:8080/"
        },
        "id": "wVWy0oDTr2Kj",
        "outputId": "06979ea3-9f76-4b2e-f7e7-870f62ef5deb"
      },
      "source": [
        "# loading the dataset\n",
        "(trainX, trainY), (testX, testY) = tf.keras.datasets.fashion_mnist.load_data()"
      ],
      "execution_count": 37,
      "outputs": [
        {
          "output_type": "stream",
          "text": [
            "Downloading data from https://storage.googleapis.com/tensorflow/tf-keras-datasets/train-labels-idx1-ubyte.gz\n",
            "32768/29515 [=================================] - 0s 0us/step\n",
            "Downloading data from https://storage.googleapis.com/tensorflow/tf-keras-datasets/train-images-idx3-ubyte.gz\n",
            "26427392/26421880 [==============================] - 0s 0us/step\n",
            "Downloading data from https://storage.googleapis.com/tensorflow/tf-keras-datasets/t10k-labels-idx1-ubyte.gz\n",
            "8192/5148 [===============================================] - 0s 0us/step\n",
            "Downloading data from https://storage.googleapis.com/tensorflow/tf-keras-datasets/t10k-images-idx3-ubyte.gz\n",
            "4423680/4422102 [==============================] - 0s 0us/step\n"
          ],
          "name": "stdout"
        }
      ]
    },
    {
      "cell_type": "code",
      "metadata": {
        "colab": {
          "base_uri": "https://localhost:8080/"
        },
        "id": "h92ebQLStRLG",
        "outputId": "323d46ff-4f36-404a-f058-bda93b775d80"
      },
      "source": [
        "# shape the train dataset\n",
        "trainX.shape"
      ],
      "execution_count": 38,
      "outputs": [
        {
          "output_type": "execute_result",
          "data": {
            "text/plain": [
              "(60000, 28, 28)"
            ]
          },
          "metadata": {
            "tags": []
          },
          "execution_count": 38
        }
      ]
    },
    {
      "cell_type": "code",
      "metadata": {
        "colab": {
          "base_uri": "https://localhost:8080/"
        },
        "id": "g9LEQHTWtRRL",
        "outputId": "85c974aa-1485-4fb4-8673-5979511b60f9"
      },
      "source": [
        "# shape the test dataset\n",
        "testX.shape"
      ],
      "execution_count": 39,
      "outputs": [
        {
          "output_type": "execute_result",
          "data": {
            "text/plain": [
              "(10000, 28, 28)"
            ]
          },
          "metadata": {
            "tags": []
          },
          "execution_count": 39
        }
      ]
    },
    {
      "cell_type": "markdown",
      "metadata": {
        "id": "no7aWYZyQlC1"
      },
      "source": [
        "### Change train and test labels into one-hot vectors"
      ]
    },
    {
      "cell_type": "code",
      "metadata": {
        "id": "UX6otc4wQlC2"
      },
      "source": [
        "# one hot encoding the train and test\n",
        "trainY = tf.keras.utils.to_categorical(trainY, num_classes=10)\n",
        "testY = tf.keras.utils.to_categorical(testY, num_classes=10)"
      ],
      "execution_count": 40,
      "outputs": []
    },
    {
      "cell_type": "code",
      "metadata": {
        "colab": {
          "base_uri": "https://localhost:8080/"
        },
        "id": "zRcQzI5duZWD",
        "outputId": "c27d2813-3c61-403c-dc9c-53296a1a2956"
      },
      "source": [
        "trainY"
      ],
      "execution_count": 41,
      "outputs": [
        {
          "output_type": "execute_result",
          "data": {
            "text/plain": [
              "array([[0., 0., 0., ..., 0., 0., 1.],\n",
              "       [1., 0., 0., ..., 0., 0., 0.],\n",
              "       [1., 0., 0., ..., 0., 0., 0.],\n",
              "       ...,\n",
              "       [0., 0., 0., ..., 0., 0., 0.],\n",
              "       [1., 0., 0., ..., 0., 0., 0.],\n",
              "       [0., 0., 0., ..., 0., 0., 0.]], dtype=float32)"
            ]
          },
          "metadata": {
            "tags": []
          },
          "execution_count": 41
        }
      ]
    },
    {
      "cell_type": "markdown",
      "metadata": {
        "id": "QjNrRTdoQlC5"
      },
      "source": [
        "### Build the Graph"
      ]
    },
    {
      "cell_type": "markdown",
      "metadata": {
        "id": "CDJ9DHVNQlC7"
      },
      "source": [
        "### Initialize model, reshape & normalize data"
      ]
    },
    {
      "cell_type": "code",
      "metadata": {
        "id": "pCDQs_g1QlC8"
      },
      "source": [
        "# building the model\n",
        "model_mnist = tf.keras.models.Sequential()\n",
        "model_mnist.add(tf.keras.layers.Reshape((784,), input_shape=(28,28)))\n",
        "model_mnist.add(tf.keras.layers.BatchNormalization())"
      ],
      "execution_count": 42,
      "outputs": []
    },
    {
      "cell_type": "markdown",
      "metadata": {
        "id": "kBGwTTilQlDD"
      },
      "source": [
        "### Add two fully connected layers with 200 and 100 neurons respectively with `relu` activations. Add a dropout layer with `p=0.25`"
      ]
    },
    {
      "cell_type": "code",
      "metadata": {
        "id": "IXbfpfOzQlDF"
      },
      "source": [
        "# adding the hidden layers\n",
        "model_mnist.add(tf.keras.layers.Dense(200, activation='relu'))\n",
        "model_mnist.add(tf.keras.layers.Dense(100, activation='relu'))\n",
        "model_mnist.add(tf.keras.layers.Dropout(0.25))\n"
      ],
      "execution_count": 43,
      "outputs": []
    },
    {
      "cell_type": "markdown",
      "metadata": {
        "id": "5I8f5otcQlDJ"
      },
      "source": [
        "### Add the output layer with a fully connected layer with 10 neurons with `softmax` activation. Use `categorical_crossentropy` loss and `adam` optimizer and train the network. And, report the final validation."
      ]
    },
    {
      "cell_type": "code",
      "metadata": {
        "id": "JZkvKymSd0Sr"
      },
      "source": [
        "# adding the output layer\n",
        "model_mnist.add(tf.keras.layers.Dense(10, activation='softmax'))"
      ],
      "execution_count": 44,
      "outputs": []
    },
    {
      "cell_type": "code",
      "metadata": {
        "id": "xY6cT2NUAvsX"
      },
      "source": [
        "# compiling the model\n",
        "model_mnist.compile(optimizer='adam', loss='categorical_crossentropy', metrics=['accuracy'])"
      ],
      "execution_count": 45,
      "outputs": []
    },
    {
      "cell_type": "code",
      "metadata": {
        "colab": {
          "base_uri": "https://localhost:8080/"
        },
        "id": "WSiMhJPpk3GO",
        "outputId": "7f5e72ab-0bcb-4d5d-d85f-96d70e1bc888"
      },
      "source": [
        "# fitting the model\n",
        "model_mnist.fit(trainX, trainY, validation_data=(testX,testY), epochs=10, batch_size=32)"
      ],
      "execution_count": 46,
      "outputs": [
        {
          "output_type": "stream",
          "text": [
            "Epoch 1/10\n",
            "1875/1875 [==============================] - 7s 4ms/step - loss: 0.5110 - accuracy: 0.8165 - val_loss: 0.4072 - val_accuracy: 0.8495\n",
            "Epoch 2/10\n",
            "1875/1875 [==============================] - 8s 4ms/step - loss: 0.3948 - accuracy: 0.8541 - val_loss: 0.3774 - val_accuracy: 0.8598\n",
            "Epoch 3/10\n",
            "1875/1875 [==============================] - 8s 4ms/step - loss: 0.3640 - accuracy: 0.8663 - val_loss: 0.4077 - val_accuracy: 0.8623\n",
            "Epoch 4/10\n",
            "1875/1875 [==============================] - 7s 4ms/step - loss: 0.3349 - accuracy: 0.8759 - val_loss: 0.3832 - val_accuracy: 0.8712\n",
            "Epoch 5/10\n",
            "1875/1875 [==============================] - 7s 4ms/step - loss: 0.3155 - accuracy: 0.8832 - val_loss: 0.3347 - val_accuracy: 0.8773\n",
            "Epoch 6/10\n",
            "1875/1875 [==============================] - 7s 4ms/step - loss: 0.3004 - accuracy: 0.8882 - val_loss: 0.3903 - val_accuracy: 0.8718\n",
            "Epoch 7/10\n",
            "1875/1875 [==============================] - 7s 4ms/step - loss: 0.2855 - accuracy: 0.8932 - val_loss: 0.3652 - val_accuracy: 0.8780\n",
            "Epoch 8/10\n",
            "1875/1875 [==============================] - 7s 4ms/step - loss: 0.2757 - accuracy: 0.8969 - val_loss: 0.3724 - val_accuracy: 0.8818\n",
            "Epoch 9/10\n",
            "1875/1875 [==============================] - 7s 4ms/step - loss: 0.2655 - accuracy: 0.9012 - val_loss: 0.3694 - val_accuracy: 0.8828\n",
            "Epoch 10/10\n",
            "1875/1875 [==============================] - 7s 4ms/step - loss: 0.2568 - accuracy: 0.9040 - val_loss: 0.4561 - val_accuracy: 0.8783\n"
          ],
          "name": "stdout"
        },
        {
          "output_type": "execute_result",
          "data": {
            "text/plain": [
              "<tensorflow.python.keras.callbacks.History at 0x7f935aba2da0>"
            ]
          },
          "metadata": {
            "tags": []
          },
          "execution_count": 46
        }
      ]
    },
    {
      "cell_type": "code",
      "metadata": {
        "id": "2ubBbI5UydQO"
      },
      "source": [
        "# getting the predictions\n",
        "predictions = model_mnist.predict(testX)"
      ],
      "execution_count": 47,
      "outputs": []
    },
    {
      "cell_type": "code",
      "metadata": {
        "colab": {
          "base_uri": "https://localhost:8080/"
        },
        "id": "GK-tJrU217ms",
        "outputId": "8119ca8b-2ee8-40b0-fe00-73bef63fb270"
      },
      "source": [
        "# checking the first predicted value\n",
        "predictions[0]"
      ],
      "execution_count": 48,
      "outputs": [
        {
          "output_type": "execute_result",
          "data": {
            "text/plain": [
              "array([3.9827266e-10, 4.0065173e-12, 4.2741077e-09, 3.7487666e-11,\n",
              "       1.7859857e-10, 3.5038209e-04, 1.0004561e-08, 9.2144376e-03,\n",
              "       4.6742670e-08, 9.9043524e-01], dtype=float32)"
            ]
          },
          "metadata": {
            "tags": []
          },
          "execution_count": 48
        }
      ]
    },
    {
      "cell_type": "code",
      "metadata": {
        "colab": {
          "base_uri": "https://localhost:8080/"
        },
        "id": "2gOVQLfU2DVf",
        "outputId": "5703f514-3339-4722-e5af-5aa5b527dcb6"
      },
      "source": [
        "# getting the index of the highest values\n",
        "np.argmax(predictions[0])"
      ],
      "execution_count": 49,
      "outputs": [
        {
          "output_type": "execute_result",
          "data": {
            "text/plain": [
              "9"
            ]
          },
          "metadata": {
            "tags": []
          },
          "execution_count": 49
        }
      ]
    },
    {
      "cell_type": "code",
      "metadata": {
        "colab": {
          "base_uri": "https://localhost:8080/"
        },
        "id": "a8i-Td3d2KKy",
        "outputId": "e8089bea-62f1-4286-c0d9-d2cbf6e90d06"
      },
      "source": [
        "# checking against the label\n",
        "testY[0]"
      ],
      "execution_count": 50,
      "outputs": [
        {
          "output_type": "execute_result",
          "data": {
            "text/plain": [
              "array([0., 0., 0., 0., 0., 0., 0., 0., 0., 1.], dtype=float32)"
            ]
          },
          "metadata": {
            "tags": []
          },
          "execution_count": 50
        }
      ]
    },
    {
      "cell_type": "code",
      "metadata": {
        "colab": {
          "base_uri": "https://localhost:8080/",
          "height": 265
        },
        "id": "zBHIDidP2NjT",
        "outputId": "7ea56699-9984-4ff2-f441-e4467729ba82"
      },
      "source": [
        "# checking the image \n",
        "import matplotlib.pyplot as plt\n",
        "\n",
        "plt.figure()\n",
        "plt.imshow(testX[0])\n",
        "plt.colorbar()\n",
        "plt.grid(False)\n",
        "plt.show()"
      ],
      "execution_count": 51,
      "outputs": [
        {
          "output_type": "display_data",
          "data": {
            "image/png": "[encoded data removed]",
            "text/plain": [
              "<Figure size 432x288 with 2 Axes>"
            ]
          },
          "metadata": {
            "tags": [],
            "needs_background": "light"
          }
        }
      ]
    },
    {
      "cell_type": "code",
      "metadata": {
        "id": "-Mjvyeg72xNA"
      },
      "source": [
        ""
      ],
      "execution_count": null,
      "outputs": []
    }
  ]
}
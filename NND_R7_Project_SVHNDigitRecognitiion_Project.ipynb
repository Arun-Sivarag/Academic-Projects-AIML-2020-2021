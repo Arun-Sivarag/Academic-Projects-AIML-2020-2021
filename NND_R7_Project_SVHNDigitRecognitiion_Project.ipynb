{
 "cells": [
  {
   "cell_type": "code",
   "execution_count": 1,
   "metadata": {
    "id": "FGksyb-AoqpE"
   },
   "outputs": [],
   "source": [
    "# Initialize the random number generator\n",
    "import random\n",
    "random.seed(0)\n",
    "\n",
    "# Ignore the warnings\n",
    "import warnings\n",
    "warnings.filterwarnings(\"ignore\")"
   ]
  },
  {
   "cell_type": "code",
   "execution_count": 2,
   "metadata": {
    "id": "lzuESEBEpFXB"
   },
   "outputs": [],
   "source": [
    "# Importing the libraries \n",
    "import h5py\n",
    "import tensorflow as tf\n",
    "import numpy as np\n",
    "from tensorflow.keras.models import Sequential\n",
    "from tensorflow.keras.layers import Dense, Input, Flatten, Conv2D\n",
    "from sklearn import model_selection, preprocessing"
   ]
  },
  {
   "cell_type": "code",
   "execution_count": 3,
   "metadata": {
    "colab": {
     "base_uri": "https://localhost:8080/"
    },
    "id": "3fpKZtldpszq",
    "outputId": "536f3130-87bb-481f-ec4b-c519c2b3842f"
   },
   "outputs": [
    {
     "name": "stdout",
     "output_type": "stream",
     "text": [
      "Drive already mounted at /content/drive/; to attempt to forcibly remount, call drive.mount(\"/content/drive/\", force_remount=True).\n"
     ]
    }
   ],
   "source": [
    "# mounting the drive\n",
    "from google.colab import drive\n",
    "drive.mount('/content/drive/')"
   ]
  },
  {
   "cell_type": "code",
   "execution_count": 4,
   "metadata": {
    "id": "cMKnAWqwqdT4"
   },
   "outputs": [],
   "source": [
    "# importing the dataset\n",
    "h5f = h5py.File('/content/drive/MyDrive/SVHN_single_grey1.h5', 'r')"
   ]
  },
  {
   "cell_type": "code",
   "execution_count": 5,
   "metadata": {
    "colab": {
     "base_uri": "https://localhost:8080/"
    },
    "id": "wrwRBoGSsAWd",
    "outputId": "81810a6d-2da6-43e6-ac5a-6aa4a4985c54"
   },
   "outputs": [
    {
     "data": {
      "text/plain": [
       "<KeysViewHDF5 ['X_test', 'X_train', 'X_val', 'y_test', 'y_train', 'y_val']>"
      ]
     },
     "execution_count": 5,
     "metadata": {
      "tags": []
     },
     "output_type": "execute_result"
    }
   ],
   "source": [
    "# checking the keys/features in the dataset\n",
    "h5f.keys()"
   ]
  },
  {
   "cell_type": "code",
   "execution_count": 6,
   "metadata": {
    "id": "toqwQLgPuUer"
   },
   "outputs": [],
   "source": [
    "# Loading the training and test sets\n",
    "X_train = h5f['X_train'][:]\n",
    "y_train = h5f['y_train'][:]\n",
    "X_test = h5f['X_test'][:]\n",
    "y_test = h5f['y_test'][:]"
   ]
  },
  {
   "cell_type": "code",
   "execution_count": 7,
   "metadata": {
    "colab": {
     "base_uri": "https://localhost:8080/"
    },
    "id": "IiK1rhDSu8A-",
    "outputId": "8cdda53e-cf26-48f4-9ef6-12e0d070b7ca"
   },
   "outputs": [
    {
     "name": "stdout",
     "output_type": "stream",
     "text": [
      "X_train shape =  (42000, 32, 32)\n",
      "y_train shape = (42000,)\n",
      "X_test shape = (18000, 32, 32)\n",
      "y_test shape = (18000,)\n"
     ]
    }
   ],
   "source": [
    "# Checking the shape of the dataset\n",
    "print('X_train shape = ', X_train.shape)\n",
    "print('y_train shape =', y_train.shape)\n",
    "print('X_test shape =', X_test.shape)\n",
    "print('y_test shape =' , y_test.shape)"
   ]
  },
  {
   "cell_type": "code",
   "execution_count": 8,
   "metadata": {
    "id": "cQ0VhgxaxBEY"
   },
   "outputs": [],
   "source": [
    "# one hot encoding the train and test labels\n",
    "y_train = tf.keras.utils.to_categorical(y_train)\n",
    "y_test = tf.keras.utils.to_categorical(y_test)"
   ]
  },
  {
   "cell_type": "code",
   "execution_count": 9,
   "metadata": {
    "colab": {
     "base_uri": "https://localhost:8080/"
    },
    "id": "5Gy6oVxDyca-",
    "outputId": "e39ad7a8-2220-4603-fd44-1bf505d4ba0a"
   },
   "outputs": [
    {
     "data": {
      "text/plain": [
       "array([[0., 0., 1., ..., 0., 0., 0.],\n",
       "       [0., 0., 0., ..., 0., 0., 0.],\n",
       "       [0., 0., 0., ..., 1., 0., 0.],\n",
       "       ...,\n",
       "       [0., 0., 0., ..., 1., 0., 0.],\n",
       "       [1., 0., 0., ..., 0., 0., 0.],\n",
       "       [0., 0., 0., ..., 0., 0., 0.]], dtype=float32)"
      ]
     },
     "execution_count": 9,
     "metadata": {
      "tags": []
     },
     "output_type": "execute_result"
    }
   ],
   "source": [
    "y_train"
   ]
  },
  {
   "cell_type": "code",
   "execution_count": 10,
   "metadata": {
    "id": "A9gbEVuzyvGw"
   },
   "outputs": [],
   "source": [
    "# building the model\n",
    "model = tf.keras.models.Sequential()"
   ]
  },
  {
   "cell_type": "code",
   "execution_count": 11,
   "metadata": {
    "id": "MLA6dVmVZ84g"
   },
   "outputs": [],
   "source": [
    "# reshapping the features/ flattened the input\n",
    "model.add(tf.keras.layers.Reshape((1024,), input_shape=(32,32)))"
   ]
  },
  {
   "cell_type": "code",
   "execution_count": 12,
   "metadata": {
    "colab": {
     "base_uri": "https://localhost:8080/"
    },
    "id": "pUBiSNNr02C0",
    "outputId": "1a21cfb0-0ac5-450a-97af-8d325315315a"
   },
   "outputs": [
    {
     "name": "stdout",
     "output_type": "stream",
     "text": [
      "Model: \"sequential_1\"\n",
      "_________________________________________________________________\n",
      "Layer (type)                 Output Shape              Param #   \n",
      "=================================================================\n",
      "flatten (Flatten)            (None, 1024)              0         \n",
      "_________________________________________________________________\n",
      "dense (Dense)                (None, 1)                 1025      \n",
      "=================================================================\n",
      "Total params: 1,025\n",
      "Trainable params: 1,025\n",
      "Non-trainable params: 0\n",
      "_________________________________________________________________\n"
     ]
    }
   ],
   "source": [
    "## another approach to building the model with flatten\n",
    "model_flt = Sequential([Input(shape=(32,32)),\n",
    "                                   Flatten(),\n",
    "                                   Dense(1, activation='relu')])\n",
    "model_flt.summary()    "
   ]
  },
  {
   "cell_type": "code",
   "execution_count": 13,
   "metadata": {
    "id": "bEl4IvjSaDuJ"
   },
   "outputs": [],
   "source": [
    "# normalizing the features\n",
    "model.add(tf.keras.layers.BatchNormalization())"
   ]
  },
  {
   "cell_type": "code",
   "execution_count": 14,
   "metadata": {
    "colab": {
     "base_uri": "https://localhost:8080/"
    },
    "id": "9cpwSPrC1TFn",
    "outputId": "ac217918-1c12-41fd-ad65-9ae46322d72c"
   },
   "outputs": [
    {
     "name": "stdout",
     "output_type": "stream",
     "text": [
      "Model: \"sequential\"\n",
      "_________________________________________________________________\n",
      "Layer (type)                 Output Shape              Param #   \n",
      "=================================================================\n",
      "reshape (Reshape)            (None, 1024)              0         \n",
      "_________________________________________________________________\n",
      "batch_normalization (BatchNo (None, 1024)              4096      \n",
      "=================================================================\n",
      "Total params: 4,096\n",
      "Trainable params: 2,048\n",
      "Non-trainable params: 2,048\n",
      "_________________________________________________________________\n"
     ]
    }
   ],
   "source": [
    "# checking the model summary\n",
    "model.summary()"
   ]
  },
  {
   "cell_type": "code",
   "execution_count": 15,
   "metadata": {
    "id": "dNiAk8qey-JK"
   },
   "outputs": [],
   "source": [
    "# adding the first layer\n",
    "model.add(tf.keras.layers.Dense(200, activation='relu'))"
   ]
  },
  {
   "cell_type": "code",
   "execution_count": 16,
   "metadata": {
    "id": "jzzYnKz9abNq"
   },
   "outputs": [],
   "source": [
    "# adding the second layer\n",
    "model.add(tf.keras.layers.Dense(100, activation='relu'))"
   ]
  },
  {
   "cell_type": "code",
   "execution_count": 17,
   "metadata": {
    "id": "oFPCBI5qVtEu"
   },
   "outputs": [],
   "source": [
    "# adding the output layer\n",
    "model.add(tf.keras.layers.Dense(10, activation='softmax'))"
   ]
  },
  {
   "cell_type": "code",
   "execution_count": 18,
   "metadata": {
    "id": "mJrlvJDlkzy3"
   },
   "outputs": [],
   "source": [
    "# to save the best model\n",
    "ckpt = tf.keras.callbacks.ModelCheckpoint('h5py_v1.hdf5', monitor='val_accuracy', verbose=1, save_best_only=True, mode='max')"
   ]
  },
  {
   "cell_type": "code",
   "execution_count": 19,
   "metadata": {
    "id": "BVmCwA851z2p"
   },
   "outputs": [],
   "source": [
    "# compliing the model\n",
    "model.compile(optimizer='adam',loss='categorical_crossentropy', metrics=['accuracy'])"
   ]
  },
  {
   "cell_type": "code",
   "execution_count": 20,
   "metadata": {
    "colab": {
     "base_uri": "https://localhost:8080/"
    },
    "id": "8LkBfEJdFwzo",
    "outputId": "8e4e8397-f343-4c7d-b9ad-26fb1c1598c4"
   },
   "outputs": [
    {
     "name": "stdout",
     "output_type": "stream",
     "text": [
      "Model: \"sequential\"\n",
      "_________________________________________________________________\n",
      "Layer (type)                 Output Shape              Param #   \n",
      "=================================================================\n",
      "reshape (Reshape)            (None, 1024)              0         \n",
      "_________________________________________________________________\n",
      "batch_normalization (BatchNo (None, 1024)              4096      \n",
      "_________________________________________________________________\n",
      "dense_1 (Dense)              (None, 200)               205000    \n",
      "_________________________________________________________________\n",
      "dense_2 (Dense)              (None, 100)               20100     \n",
      "_________________________________________________________________\n",
      "dense_3 (Dense)              (None, 10)                1010      \n",
      "=================================================================\n",
      "Total params: 230,206\n",
      "Trainable params: 228,158\n",
      "Non-trainable params: 2,048\n",
      "_________________________________________________________________\n"
     ]
    }
   ],
   "source": [
    "model.summary()"
   ]
  },
  {
   "cell_type": "code",
   "execution_count": 21,
   "metadata": {
    "colab": {
     "base_uri": "https://localhost:8080/"
    },
    "id": "DMUckum2FynU",
    "outputId": "a3221c6e-8fe5-4f5b-a26a-0a9e07a200d8"
   },
   "outputs": [
    {
     "name": "stdout",
     "output_type": "stream",
     "text": [
      "Epoch 1/10\n",
      "1296/1313 [============================>.] - ETA: 0s - loss: 1.3404 - accuracy: 0.5626\n",
      "Epoch 00001: val_accuracy improved from -inf to 0.70922, saving model to h5py_v1.hdf5\n",
      "1313/1313 [==============================] - 4s 3ms/step - loss: 1.3367 - accuracy: 0.5640 - val_loss: 0.9453 - val_accuracy: 0.7092\n",
      "Epoch 2/10\n",
      "1300/1313 [============================>.] - ETA: 0s - loss: 0.9470 - accuracy: 0.7040\n",
      "Epoch 00002: val_accuracy improved from 0.70922 to 0.75222, saving model to h5py_v1.hdf5\n",
      "1313/1313 [==============================] - 4s 3ms/step - loss: 0.9462 - accuracy: 0.7043 - val_loss: 0.8280 - val_accuracy: 0.7522\n",
      "Epoch 3/10\n",
      "1305/1313 [============================>.] - ETA: 0s - loss: 0.8236 - accuracy: 0.7402\n",
      "Epoch 00003: val_accuracy improved from 0.75222 to 0.77828, saving model to h5py_v1.hdf5\n",
      "1313/1313 [==============================] - 4s 3ms/step - loss: 0.8231 - accuracy: 0.7401 - val_loss: 0.7436 - val_accuracy: 0.7783\n",
      "Epoch 4/10\n",
      "1292/1313 [============================>.] - ETA: 0s - loss: 0.7546 - accuracy: 0.7652\n",
      "Epoch 00004: val_accuracy improved from 0.77828 to 0.79478, saving model to h5py_v1.hdf5\n",
      "1313/1313 [==============================] - 4s 3ms/step - loss: 0.7551 - accuracy: 0.7650 - val_loss: 0.6907 - val_accuracy: 0.7948\n",
      "Epoch 5/10\n",
      "1313/1313 [==============================] - ETA: 0s - loss: 0.7043 - accuracy: 0.7796\n",
      "Epoch 00005: val_accuracy improved from 0.79478 to 0.80822, saving model to h5py_v1.hdf5\n",
      "1313/1313 [==============================] - 4s 3ms/step - loss: 0.7043 - accuracy: 0.7796 - val_loss: 0.6601 - val_accuracy: 0.8082\n",
      "Epoch 6/10\n",
      "1308/1313 [============================>.] - ETA: 0s - loss: 0.6585 - accuracy: 0.7940\n",
      "Epoch 00006: val_accuracy improved from 0.80822 to 0.82133, saving model to h5py_v1.hdf5\n",
      "1313/1313 [==============================] - 4s 3ms/step - loss: 0.6588 - accuracy: 0.7938 - val_loss: 0.6206 - val_accuracy: 0.8213\n",
      "Epoch 7/10\n",
      "1301/1313 [============================>.] - ETA: 0s - loss: 0.6334 - accuracy: 0.8005\n",
      "Epoch 00007: val_accuracy did not improve from 0.82133\n",
      "1313/1313 [==============================] - 4s 3ms/step - loss: 0.6334 - accuracy: 0.8004 - val_loss: 0.6474 - val_accuracy: 0.8136\n",
      "Epoch 8/10\n",
      "1311/1313 [============================>.] - ETA: 0s - loss: 0.6191 - accuracy: 0.8063\n",
      "Epoch 00008: val_accuracy improved from 0.82133 to 0.82356, saving model to h5py_v1.hdf5\n",
      "1313/1313 [==============================] - 4s 3ms/step - loss: 0.6193 - accuracy: 0.8062 - val_loss: 0.6028 - val_accuracy: 0.8236\n",
      "Epoch 9/10\n",
      "1307/1313 [============================>.] - ETA: 0s - loss: 0.5866 - accuracy: 0.8140\n",
      "Epoch 00009: val_accuracy did not improve from 0.82356\n",
      "1313/1313 [==============================] - 4s 3ms/step - loss: 0.5875 - accuracy: 0.8137 - val_loss: 0.6102 - val_accuracy: 0.8228\n",
      "Epoch 10/10\n",
      "1313/1313 [==============================] - ETA: 0s - loss: 0.5690 - accuracy: 0.8207\n",
      "Epoch 00010: val_accuracy improved from 0.82356 to 0.83522, saving model to h5py_v1.hdf5\n",
      "1313/1313 [==============================] - 4s 3ms/step - loss: 0.5690 - accuracy: 0.8207 - val_loss: 0.5789 - val_accuracy: 0.8352\n"
     ]
    }
   ],
   "source": [
    "# training the model\n",
    "train = model.fit(X_train,y_train, epochs = 10, batch_size = 32, validation_data=(X_test, y_test), callbacks=ckpt)"
   ]
  },
  {
   "cell_type": "code",
   "execution_count": 22,
   "metadata": {
    "id": "T7TfxXvDcBhT"
   },
   "outputs": [],
   "source": [
    "# loading the model saved with the best acccuracy\n",
    "model = tf.keras.models.load_model('/content/h5py_v1.hdf5')"
   ]
  },
  {
   "cell_type": "code",
   "execution_count": 23,
   "metadata": {
    "id": "sEEmE4KSLtgK"
   },
   "outputs": [],
   "source": [
    "# getting the predictions\n",
    "predictions = model.predict(X_test)"
   ]
  },
  {
   "cell_type": "code",
   "execution_count": 27,
   "metadata": {
    "colab": {
     "base_uri": "https://localhost:8080/",
     "height": 1000
    },
    "id": "kdK9rbWLw5nj",
    "outputId": "55befc37-6405-4fe0-cdaa-2e4203bbd056"
   },
   "outputs": [
    {
     "name": "stdout",
     "output_type": "stream",
     "text": [
      "**************************************************************************\n",
      "TEST LABEL CHECKING AGAINST-  [0. 0. 0. 0. 0. 1. 0. 0. 0. 0.]\n",
      "IMAGE IN DATASET : \n"
     ]
    },
    {
     "data": {
      "image/png": "[encoded data removed]",
      "text/plain": [
       "<Figure size 144x144 with 1 Axes>"
      ]
     },
     "metadata": {
      "needs_background": "light",
      "tags": []
     },
     "output_type": "display_data"
    },
    {
     "name": "stdout",
     "output_type": "stream",
     "text": [
      "PREDICTED LABEL-  5\n",
      "**************************************************************************\n",
      "TEST LABEL CHECKING AGAINST-  [0. 0. 0. 0. 0. 0. 0. 1. 0. 0.]\n",
      "IMAGE IN DATASET : \n"
     ]
    },
    {
     "data": {
      "image/png": "[encoded data removed]",
      "text/plain": [
       "<Figure size 144x144 with 1 Axes>"
      ]
     },
     "metadata": {
      "needs_background": "light",
      "tags": []
     },
     "output_type": "display_data"
    },
    {
     "name": "stdout",
     "output_type": "stream",
     "text": [
      "PREDICTED LABEL-  9\n",
      "**************************************************************************\n",
      "TEST LABEL CHECKING AGAINST-  [0. 0. 0. 0. 0. 1. 0. 0. 0. 0.]\n",
      "IMAGE IN DATASET : \n"
     ]
    },
    {
     "data": {
      "image/png": "[encoded data removed]",
      "text/plain": [
       "<Figure size 144x144 with 1 Axes>"
      ]
     },
     "metadata": {
      "needs_background": "light",
      "tags": []
     },
     "output_type": "display_data"
    },
    {
     "name": "stdout",
     "output_type": "stream",
     "text": [
      "PREDICTED LABEL-  5\n",
      "**************************************************************************\n",
      "TEST LABEL CHECKING AGAINST-  [0. 0. 0. 0. 0. 0. 0. 0. 0. 1.]\n",
      "IMAGE IN DATASET : \n"
     ]
    },
    {
     "data": {
      "image/png": "[encoded data removed]",
      "text/plain": [
       "<Figure size 144x144 with 1 Axes>"
      ]
     },
     "metadata": {
      "needs_background": "light",
      "tags": []
     },
     "output_type": "display_data"
    },
    {
     "name": "stdout",
     "output_type": "stream",
     "text": [
      "PREDICTED LABEL-  9\n",
      "**************************************************************************\n",
      "TEST LABEL CHECKING AGAINST-  [0. 0. 1. 0. 0. 0. 0. 0. 0. 0.]\n",
      "IMAGE IN DATASET : \n"
     ]
    },
    {
     "data": {
      "image/png": "[encoded data removed]",
      "text/plain": [
       "<Figure size 144x144 with 1 Axes>"
      ]
     },
     "metadata": {
      "needs_background": "light",
      "tags": []
     },
     "output_type": "display_data"
    },
    {
     "name": "stdout",
     "output_type": "stream",
     "text": [
      "PREDICTED LABEL-  2\n",
      "**************************************************************************\n",
      "TEST LABEL CHECKING AGAINST-  [0. 0. 0. 0. 0. 1. 0. 0. 0. 0.]\n",
      "IMAGE IN DATASET : \n"
     ]
    },
    {
     "data": {
      "image/png": "[encoded data removed]",
      "text/plain": [
       "<Figure size 144x144 with 1 Axes>"
      ]
     },
     "metadata": {
      "needs_background": "light",
      "tags": []
     },
     "output_type": "display_data"
    },
    {
     "name": "stdout",
     "output_type": "stream",
     "text": [
      "PREDICTED LABEL-  5\n",
      "**************************************************************************\n",
      "TEST LABEL CHECKING AGAINST-  [0. 0. 0. 1. 0. 0. 0. 0. 0. 0.]\n",
      "IMAGE IN DATASET : \n"
     ]
    },
    {
     "data": {
      "image/png": "[encoded data removed]",
      "text/plain": [
       "<Figure size 144x144 with 1 Axes>"
      ]
     },
     "metadata": {
      "needs_background": "light",
      "tags": []
     },
     "output_type": "display_data"
    },
    {
     "name": "stdout",
     "output_type": "stream",
     "text": [
      "PREDICTED LABEL-  5\n",
      "**************************************************************************\n",
      "TEST LABEL CHECKING AGAINST-  [0. 0. 0. 0. 0. 1. 0. 0. 0. 0.]\n",
      "IMAGE IN DATASET : \n"
     ]
    },
    {
     "data": {
      "image/png": "[encoded data removed]",
      "text/plain": [
       "<Figure size 144x144 with 1 Axes>"
      ]
     },
     "metadata": {
      "needs_background": "light",
      "tags": []
     },
     "output_type": "display_data"
    },
    {
     "name": "stdout",
     "output_type": "stream",
     "text": [
      "PREDICTED LABEL-  5\n",
      "**************************************************************************\n",
      "TEST LABEL CHECKING AGAINST-  [0. 0. 0. 0. 0. 0. 0. 0. 0. 1.]\n",
      "IMAGE IN DATASET : \n"
     ]
    },
    {
     "data": {
      "image/png": "[encoded data removed]",
      "text/plain": [
       "<Figure size 144x144 with 1 Axes>"
      ]
     },
     "metadata": {
      "needs_background": "light",
      "tags": []
     },
     "output_type": "display_data"
    },
    {
     "name": "stdout",
     "output_type": "stream",
     "text": [
      "PREDICTED LABEL-  9\n",
      "**************************************************************************\n",
      "TEST LABEL CHECKING AGAINST-  [0. 0. 0. 0. 1. 0. 0. 0. 0. 0.]\n",
      "IMAGE IN DATASET : \n"
     ]
    },
    {
     "data": {
      "image/png": "[encoded data removed]",
      "text/plain": [
       "<Figure size 144x144 with 1 Axes>"
      ]
     },
     "metadata": {
      "needs_background": "light",
      "tags": []
     },
     "output_type": "display_data"
    },
    {
     "name": "stdout",
     "output_type": "stream",
     "text": [
      "PREDICTED LABEL-  4\n"
     ]
    }
   ],
   "source": [
    "# validating the predictions against few labels\n",
    "\n",
    "for i in range(10):\n",
    "  print('**************************************************************************')\n",
    "  \n",
    "  numb = random.randint(1,101)\n",
    "  #print(predictions[numb])\n",
    "  print(\"TEST LABEL CHECKING AGAINST- \" ,y_test[numb])\n",
    "\n",
    "  print(\"IMAGE IN DATASET : \")\n",
    "  import matplotlib.pyplot as plt\n",
    "  plt.figure(figsize = (2,2))\n",
    "  plt.imshow(X_test[numb].reshape(32,32), cmap = 'gray') #image, reshape size, cmap\n",
    "  plt.show()\n",
    "\n",
    "  print(\"PREDICTED LABEL- \" , np.argmax(predictions[numb]))"
   ]
  },
  {
   "cell_type": "code",
   "execution_count": 25,
   "metadata": {
    "colab": {
     "base_uri": "https://localhost:8080/"
    },
    "id": "jB1SVQh_ZhFg",
    "outputId": "2990273c-ceb0-4756-c9b1-68fdcd5cde5f"
   },
   "outputs": [
    {
     "name": "stdout",
     "output_type": "stream",
     "text": [
      "Loss: 0.5788806676864624\n",
      "Accuracy: 0.8352222442626953\n"
     ]
    }
   ],
   "source": [
    "# checking the loss of the model\n",
    "scores = model.evaluate(X_test, y_test, verbose=0)\n",
    "print(\"Loss:\", scores[0])\n",
    "print(\"Accuracy:\", scores[1])"
   ]
  },
  {
   "cell_type": "code",
   "execution_count": 26,
   "metadata": {
    "colab": {
     "base_uri": "https://localhost:8080/",
     "height": 562
    },
    "id": "tgWSUY7gmMSe",
    "outputId": "c42c5b65-0beb-4133-ea27-b3dabf6dde07"
   },
   "outputs": [
    {
     "data": {
      "text/plain": [
       "Text(0.5, 1.0, 'Training and validation loss')"
      ]
     },
     "execution_count": 26,
     "metadata": {
      "tags": []
     },
     "output_type": "execute_result"
    },
    {
     "data": {
      "image/png": "[encoded data removed]",
      "text/plain": [
       "<Figure size 432x288 with 1 Axes>"
      ]
     },
     "metadata": {
      "needs_background": "light",
      "tags": []
     },
     "output_type": "display_data"
    },
    {
     "data": {
      "image/png": "[encoded data removed]",
      "text/plain": [
       "<Figure size 432x288 with 1 Axes>"
      ]
     },
     "metadata": {
      "needs_background": "light",
      "tags": []
     },
     "output_type": "display_data"
    }
   ],
   "source": [
    "# visualizing the accuracy from the batches run\n",
    "accuracy = train.history['accuracy'] #rcs\n",
    "val_accuracy = train.history['val_accuracy'] #rcs\n",
    "loss = train.history['loss']\n",
    "val_loss = train.history['val_loss']\n",
    "\n",
    "epochs = range(len(accuracy)) # Get number of epochs\n",
    "\n",
    "plt.plot(epochs, accuracy, label = 'training accuracy' )\n",
    "plt.plot(epochs, val_accuracy, label = 'validation accuracy')\n",
    "plt.title('Training and validation accuracy')\n",
    "plt.legend(loc = 'lower right')\n",
    "plt.figure()\n",
    "\n",
    "plt.plot(epochs, loss, label = 'training loss' )\n",
    "plt.plot(epochs, val_loss, label = 'validation loss')\n",
    "plt.legend(loc = 'upper right')\n",
    "plt.title('Training and validation loss')"
   ]
  },
  {
   "cell_type": "code",
   "execution_count": 28,
   "metadata": {
    "id": "JNpeTmKPc-bk"
   },
   "outputs": [],
   "source": [
    "# Model has an accuracy of 84%\n",
    "# Tested for few datapoints and the model has been able to predict it correctly."
   ]
  }
 ],
 "metadata": {
  "accelerator": "GPU",
  "colab": {
   "collapsed_sections": [],
   "name": "NND_R7_Project_SVHNDigitRecognitiion_Project.ipynb",
   "provenance": [],
   "toc_visible": true
  },
  "kernelspec": {
   "display_name": "Python 3",
   "language": "python",
   "name": "python3"
  },
  "language_info": {
   "codemirror_mode": {
    "name": "ipython",
    "version": 3
   },
   "file_extension": ".py",
   "mimetype": "text/x-python",
   "name": "python",
   "nbconvert_exporter": "python",
   "pygments_lexer": "ipython3",
   "version": "3.7.7"
  }
 },
 "nbformat": 4,
 "nbformat_minor": 1
}

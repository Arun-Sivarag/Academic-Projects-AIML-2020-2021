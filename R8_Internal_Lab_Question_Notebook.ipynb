{
 "cells": [
  {
   "cell_type": "markdown",
   "metadata": {
    "id": "PHYs6Z84xV8E"
   },
   "source": [
    "<img src=\"http://drive.google.com/uc?export=view&id=1tpOCamr9aWz817atPnyXus8w5gJ3mIts\" width=500px>\n",
    "\n",
    "Proprietary content. © Great Learning. All Rights Reserved. Unauthorized use or distribution prohibited."
   ]
  },
  {
   "cell_type": "markdown",
   "metadata": {
    "id": "5QQxgAmWzSye"
   },
   "source": [
    "# Mobile Phone Review Analysis"
   ]
  },
  {
   "cell_type": "markdown",
   "metadata": {
    "id": "FbwHYUXhxaqD"
   },
   "source": [
    "## Context\n",
    "\n",
    "The product companies can utilize the detailed review comments to gather insights from the end user. Most of the products are sold via e-commerce sites like Flipkart or Amazon where customers can buy a product and give their review about the product on the web site. \n",
    "Product managers can identify the relevant reviews from the website and run a sentiment analysis tool to understand what the sentiments of the customer are. Based on their sentiments, they can identify what users think of the current product. Are they happy? Discontent? \n",
    "They can also come up with a document that lists the features, the team needs to focus on for making the product better. \n",
    "\n",
    "## Objective\n",
    "\n",
    "Given the review data rating label, we will try to get insights about various brands and their ratings using text analytics and build a model to predict the rating and overall sentiment. \n"
   ]
  },
  {
   "cell_type": "markdown",
   "metadata": {
    "id": "CI7usguRzeox"
   },
   "source": [
    "### Package version\n",
    "\n",
    "- tensorflow==2.3.0\n",
    "- scikit-learn==0.22.2.post1\n",
    "- pandas==1.0.5\n",
    "- numpy==1.18.5\n",
    "- matplotlib==3.2.2\n",
    "- google==2.0.3"
   ]
  },
  {
   "cell_type": "markdown",
   "metadata": {
    "id": "aiMdVjHRH7NR"
   },
   "source": [
    "### Data Dictionary \n",
    "\n",
    "product_data.csv - contains product details\n",
    "- 'asin',  - Product ASIN\n",
    "- 'brand', - Product Brand\n",
    "- 'title', - Product Title\n",
    "- 'url',  - Product URL\n",
    "- 'image', - Product Image URL\n",
    "- 'rating',- Product Avg. Rating\n",
    "- 'reviewUrl' - Product Review Page URL\n",
    "- 'totalReviews' - Product Total Reviews\n",
    "- ‘price’ - Product Price ($)\n",
    "- ‘originalPrice’ - Product Original Price ($)\n",
    " \n",
    "reviews.csv  - contains user review details\n",
    " \n",
    "- 'asin' - Product ASIN\n",
    "- 'name' - Reviewer Name\n",
    "- 'rating' - Reviewer Rating (scale 1 to 5)\n",
    "- 'date'  - Review Date\n",
    "- 'verified' - Valid Customer\n",
    "- 'title'  - Review Title\n",
    "- 'body'  - Review Content\n",
    "- 'helpfulVotes  - Helpful Feedbacks\n"
   ]
  },
  {
   "cell_type": "markdown",
   "metadata": {
    "id": "cEn52o8jznJK"
   },
   "source": [
    "## Table of Content\n",
    "\n",
    "1. Import Libraries\n",
    "\n",
    "2. Setting options\n",
    "\n",
    "3. Read Data\n",
    "\n",
    "4. Data Analysis and EDA\n",
    "\n",
    "5. Text preprocessing and Vectorization\n",
    "\n",
    "6. Model building\n",
    "\n",
    "7. Conclusion and Interpretation"
   ]
  },
  {
   "cell_type": "markdown",
   "metadata": {
    "id": "x_Lom6cXzqn7"
   },
   "source": [
    "## 1. Import Libraries"
   ]
  },
  {
   "cell_type": "markdown",
   "metadata": {
    "id": "FZtVstH8zre2"
   },
   "source": [
    "Let us start by mounting the drive"
   ]
  },
  {
   "cell_type": "code",
   "execution_count": 2,
   "metadata": {
    "colab": {
     "base_uri": "https://localhost:8080/"
    },
    "id": "xv9jxv3-R5Xl",
    "outputId": "12aae79d-4ee5-4aa4-8146-440285f9dd7a"
   },
   "outputs": [
    {
     "name": "stdout",
     "output_type": "stream",
     "text": [
      "Drive already mounted at /content/drive; to attempt to forcibly remount, call drive.mount(\"/content/drive\", force_remount=True).\n"
     ]
    }
   ],
   "source": [
    "from google.colab import drive\n",
    "drive.mount('/content/drive')"
   ]
  },
  {
   "cell_type": "markdown",
   "metadata": {
    "id": "Gv-tZoFjz2WD"
   },
   "source": [
    "Let us check for the version of installed tensorflow."
   ]
  },
  {
   "cell_type": "code",
   "execution_count": 109,
   "metadata": {
    "colab": {
     "base_uri": "https://localhost:8080/"
    },
    "id": "eiuUVBuDzzn9",
    "outputId": "45ad3847-c5d6-4be3-e713-8143f51acdb6"
   },
   "outputs": [
    {
     "name": "stdout",
     "output_type": "stream",
     "text": [
      "2.4.1\n"
     ]
    }
   ],
   "source": [
    "# used to supress display of warnings\n",
    "import warnings\n",
    "\n",
    "# os is used to provide a way of using operating system dependent functionality\n",
    "# We use it for setting working folder\n",
    "import os\n",
    "\n",
    "# Pandas is used for data manipulation and analysis\n",
    "import pandas as pd \n",
    "\n",
    "# Numpy is used for large, multi-dimensional arrays and matrices, along with mathematical operators on these arrays\n",
    "import numpy as np\n",
    "\n",
    "# Matplotlib is a data visualization library for 2D plots of arrays, built on NumPy arrays \n",
    "# and designed to work with the broader SciPy stack\n",
    "import matplotlib.pyplot as plt\n",
    "%matplotlib inline\n",
    "from matplotlib import pyplot\n",
    "\n",
    "# Seaborn is based on matplotlib, which aids in drawing attractive and informative statistical graphics.\n",
    "import seaborn as sns\n",
    "import tensorflow \n",
    "print(tensorflow.__version__)\n",
    "\n",
    "from sklearn.metrics import confusion_matrix, accuracy_score, classification_report, precision_score"
   ]
  },
  {
   "cell_type": "markdown",
   "metadata": {
    "id": "fze-aokU0ukH"
   },
   "source": [
    "## 2. Setting Options"
   ]
  },
  {
   "cell_type": "code",
   "execution_count": 4,
   "metadata": {
    "id": "T3FALggG0xXa"
   },
   "outputs": [],
   "source": [
    "# suppress display of warnings\n",
    "warnings.filterwarnings('ignore')\n",
    "\n",
    "# display all dataframe columns\n",
    "pd.options.display.max_columns = None\n",
    "\n",
    "# to set the limit to 3 decimals\n",
    "pd.options.display.float_format = '{:.7f}'.format\n",
    "\n",
    "# display all dataframe rows\n",
    "pd.options.display.max_rows = None"
   ]
  },
  {
   "cell_type": "markdown",
   "metadata": {
    "id": "ZT1P1WdK1vfZ"
   },
   "source": [
    "## 3. Read Data"
   ]
  },
  {
   "cell_type": "markdown",
   "metadata": {
    "id": "-UOW6zwww7L1"
   },
   "source": [
    "### 3.1 Read the provided CSVs and check 5 random samples and shape to understand the datasets"
   ]
  },
  {
   "cell_type": "code",
   "execution_count": 5,
   "metadata": {
    "id": "nxT2g284xF1W"
   },
   "outputs": [],
   "source": [
    "# reading the products dataset\n",
    "productData_df = pd.read_csv('/content/drive/MyDrive/Great Learning/R8_Internal_Lab/product_data.csv')"
   ]
  },
  {
   "cell_type": "code",
   "execution_count": 6,
   "metadata": {
    "id": "82vKF_CVgU0s"
   },
   "outputs": [],
   "source": [
    "# reading the reviews  dataset\n",
    "reviews_df = pd.read_csv('/content/drive/MyDrive/Great Learning/R8_Internal_Lab/reviews.csv')"
   ]
  },
  {
   "cell_type": "code",
   "execution_count": 7,
   "metadata": {
    "colab": {
     "base_uri": "https://localhost:8080/"
    },
    "id": "GRjG44fRxGIq",
    "outputId": "8c1f5319-d9e2-498e-c24a-5714e81872ee"
   },
   "outputs": [
    {
     "name": "stdout",
     "output_type": "stream",
     "text": [
      "Shape of products dataset :  (720, 10)\n",
      "Shape of review dataset :  (67986, 8)\n"
     ]
    }
   ],
   "source": [
    "# checking the shape of the datasets \n",
    "print('Shape of products dataset : ', productData_df.shape)\n",
    "print('Shape of review dataset : ', reviews_df.shape)"
   ]
  },
  {
   "cell_type": "code",
   "execution_count": 8,
   "metadata": {
    "colab": {
     "base_uri": "https://localhost:8080/",
     "height": 289
    },
    "id": "FPgVe0DKhTV7",
    "outputId": "4be30324-164e-4783-effa-6fa2c795dda0"
   },
   "outputs": [
    {
     "data": {
      "text/html": [
       "<div>\n",
       "<style scoped>\n",
       "    .dataframe tbody tr th:only-of-type {\n",
       "        vertical-align: middle;\n",
       "    }\n",
       "\n",
       "    .dataframe tbody tr th {\n",
       "        vertical-align: top;\n",
       "    }\n",
       "\n",
       "    .dataframe thead th {\n",
       "        text-align: right;\n",
       "    }\n",
       "</style>\n",
       "<table border=\"1\" class=\"dataframe\">\n",
       "  <thead>\n",
       "    <tr style=\"text-align: right;\">\n",
       "      <th></th>\n",
       "      <th>asin</th>\n",
       "      <th>brand</th>\n",
       "      <th>title</th>\n",
       "      <th>url</th>\n",
       "      <th>image</th>\n",
       "      <th>rating</th>\n",
       "      <th>reviewUrl</th>\n",
       "      <th>totalReviews</th>\n",
       "      <th>price</th>\n",
       "      <th>originalPrice</th>\n",
       "    </tr>\n",
       "  </thead>\n",
       "  <tbody>\n",
       "    <tr>\n",
       "      <th>304</th>\n",
       "      <td>B076BZ18GS</td>\n",
       "      <td>Nokia</td>\n",
       "      <td>Nokia 3310 TA-1036 Unlocked GSM 3G (At&amp;T Tmobi...</td>\n",
       "      <td>https://www.amazon.com/Nokia-TA-1036-Unlocked-...</td>\n",
       "      <td>https://m.media-amazon.com/images/I/81Llml-HrS...</td>\n",
       "      <td>3.7000000</td>\n",
       "      <td>https://www.amazon.com/product-reviews/B076BZ18GS</td>\n",
       "      <td>15</td>\n",
       "      <td>0.0000000</td>\n",
       "      <td>0.0000000</td>\n",
       "    </tr>\n",
       "    <tr>\n",
       "      <th>241</th>\n",
       "      <td>B071H9KKKF</td>\n",
       "      <td>Samsung</td>\n",
       "      <td>Samsung Galaxy S8 Plus (S8+) (SM-G955FD) 4GB R...</td>\n",
       "      <td>https://www.amazon.com/Samsung-SM-G955FD-6-2-I...</td>\n",
       "      <td>https://m.media-amazon.com/images/I/61MF7kZkrI...</td>\n",
       "      <td>4.0000000</td>\n",
       "      <td>https://www.amazon.com/product-reviews/B071H9KKKF</td>\n",
       "      <td>480</td>\n",
       "      <td>450.1100000</td>\n",
       "      <td>0.0000000</td>\n",
       "    </tr>\n",
       "    <tr>\n",
       "      <th>279</th>\n",
       "      <td>B074XF6JCD</td>\n",
       "      <td>Motorola</td>\n",
       "      <td>Motorola Moto Z2 Force XT1789 64GB ATT only (S...</td>\n",
       "      <td>https://www.amazon.com/Motorola-Force-XT1789-S...</td>\n",
       "      <td>https://m.media-amazon.com/images/I/71b9BtbvjM...</td>\n",
       "      <td>3.5000000</td>\n",
       "      <td>https://www.amazon.com/product-reviews/B074XF6JCD</td>\n",
       "      <td>20</td>\n",
       "      <td>0.0000000</td>\n",
       "      <td>0.0000000</td>\n",
       "    </tr>\n",
       "    <tr>\n",
       "      <th>153</th>\n",
       "      <td>B01H93TCCM</td>\n",
       "      <td>Samsung</td>\n",
       "      <td>Samsung Galaxy S7 Active SM-G891A 32GB Sandy G...</td>\n",
       "      <td>https://www.amazon.com/Samsung-Galaxy-Active-S...</td>\n",
       "      <td>https://m.media-amazon.com/images/I/61jDf+QZG1...</td>\n",
       "      <td>3.6000000</td>\n",
       "      <td>https://www.amazon.com/product-reviews/B01H93TCCM</td>\n",
       "      <td>39</td>\n",
       "      <td>0.0000000</td>\n",
       "      <td>0.0000000</td>\n",
       "    </tr>\n",
       "    <tr>\n",
       "      <th>326</th>\n",
       "      <td>B077NTKFDB</td>\n",
       "      <td>Apple</td>\n",
       "      <td>Apple iPhone 7 Plus 256GB Unlocked GSM 4G LTE ...</td>\n",
       "      <td>https://www.amazon.com/Apple-iPhone-Unlocked-Q...</td>\n",
       "      <td>https://m.media-amazon.com/images/I/61C5dT6qy0...</td>\n",
       "      <td>3.6000000</td>\n",
       "      <td>https://www.amazon.com/product-reviews/B077NTKFDB</td>\n",
       "      <td>17</td>\n",
       "      <td>329.9700000</td>\n",
       "      <td>0.0000000</td>\n",
       "    </tr>\n",
       "  </tbody>\n",
       "</table>\n",
       "</div>"
      ],
      "text/plain": [
       "           asin     brand                                              title  \\\n",
       "304  B076BZ18GS     Nokia  Nokia 3310 TA-1036 Unlocked GSM 3G (At&T Tmobi...   \n",
       "241  B071H9KKKF   Samsung  Samsung Galaxy S8 Plus (S8+) (SM-G955FD) 4GB R...   \n",
       "279  B074XF6JCD  Motorola  Motorola Moto Z2 Force XT1789 64GB ATT only (S...   \n",
       "153  B01H93TCCM   Samsung  Samsung Galaxy S7 Active SM-G891A 32GB Sandy G...   \n",
       "326  B077NTKFDB     Apple  Apple iPhone 7 Plus 256GB Unlocked GSM 4G LTE ...   \n",
       "\n",
       "                                                   url  \\\n",
       "304  https://www.amazon.com/Nokia-TA-1036-Unlocked-...   \n",
       "241  https://www.amazon.com/Samsung-SM-G955FD-6-2-I...   \n",
       "279  https://www.amazon.com/Motorola-Force-XT1789-S...   \n",
       "153  https://www.amazon.com/Samsung-Galaxy-Active-S...   \n",
       "326  https://www.amazon.com/Apple-iPhone-Unlocked-Q...   \n",
       "\n",
       "                                                 image    rating  \\\n",
       "304  https://m.media-amazon.com/images/I/81Llml-HrS... 3.7000000   \n",
       "241  https://m.media-amazon.com/images/I/61MF7kZkrI... 4.0000000   \n",
       "279  https://m.media-amazon.com/images/I/71b9BtbvjM... 3.5000000   \n",
       "153  https://m.media-amazon.com/images/I/61jDf+QZG1... 3.6000000   \n",
       "326  https://m.media-amazon.com/images/I/61C5dT6qy0... 3.6000000   \n",
       "\n",
       "                                             reviewUrl  totalReviews  \\\n",
       "304  https://www.amazon.com/product-reviews/B076BZ18GS            15   \n",
       "241  https://www.amazon.com/product-reviews/B071H9KKKF           480   \n",
       "279  https://www.amazon.com/product-reviews/B074XF6JCD            20   \n",
       "153  https://www.amazon.com/product-reviews/B01H93TCCM            39   \n",
       "326  https://www.amazon.com/product-reviews/B077NTKFDB            17   \n",
       "\n",
       "          price  originalPrice  \n",
       "304   0.0000000      0.0000000  \n",
       "241 450.1100000      0.0000000  \n",
       "279   0.0000000      0.0000000  \n",
       "153   0.0000000      0.0000000  \n",
       "326 329.9700000      0.0000000  "
      ]
     },
     "execution_count": 8,
     "metadata": {
      "tags": []
     },
     "output_type": "execute_result"
    }
   ],
   "source": [
    "# checking random samples\n",
    "productData_df.sample(5)"
   ]
  },
  {
   "cell_type": "code",
   "execution_count": 9,
   "metadata": {
    "colab": {
     "base_uri": "https://localhost:8080/",
     "height": 204
    },
    "id": "m4YSaFslhj3S",
    "outputId": "3d3d9d2a-1e8a-4eb8-a5bd-83bca8fb0baa"
   },
   "outputs": [
    {
     "data": {
      "text/html": [
       "<div>\n",
       "<style scoped>\n",
       "    .dataframe tbody tr th:only-of-type {\n",
       "        vertical-align: middle;\n",
       "    }\n",
       "\n",
       "    .dataframe tbody tr th {\n",
       "        vertical-align: top;\n",
       "    }\n",
       "\n",
       "    .dataframe thead th {\n",
       "        text-align: right;\n",
       "    }\n",
       "</style>\n",
       "<table border=\"1\" class=\"dataframe\">\n",
       "  <thead>\n",
       "    <tr style=\"text-align: right;\">\n",
       "      <th></th>\n",
       "      <th>asin</th>\n",
       "      <th>name</th>\n",
       "      <th>rating</th>\n",
       "      <th>date</th>\n",
       "      <th>verified</th>\n",
       "      <th>title</th>\n",
       "      <th>body</th>\n",
       "      <th>helpfulVotes</th>\n",
       "    </tr>\n",
       "  </thead>\n",
       "  <tbody>\n",
       "    <tr>\n",
       "      <th>2808</th>\n",
       "      <td>B00836Y6B2</td>\n",
       "      <td>orlando guerra</td>\n",
       "      <td>5</td>\n",
       "      <td>December 26, 2012</td>\n",
       "      <td>True</td>\n",
       "      <td>Wonderful Nokia phone</td>\n",
       "      <td>I find that Nokia phones overall provide excel...</td>\n",
       "      <td>2.0000000</td>\n",
       "    </tr>\n",
       "    <tr>\n",
       "      <th>24573</th>\n",
       "      <td>B01HFLRS38</td>\n",
       "      <td>Anna</td>\n",
       "      <td>1</td>\n",
       "      <td>November 15, 2016</td>\n",
       "      <td>True</td>\n",
       "      <td>One Star</td>\n",
       "      <td>It shut off 2 months into using and won't turn...</td>\n",
       "      <td>nan</td>\n",
       "    </tr>\n",
       "    <tr>\n",
       "      <th>50817</th>\n",
       "      <td>B07GDW4N5C</td>\n",
       "      <td>Anthony Grimes</td>\n",
       "      <td>5</td>\n",
       "      <td>March 11, 2019</td>\n",
       "      <td>True</td>\n",
       "      <td>Wife love her phone</td>\n",
       "      <td>The phone worked perfectly my wife loves it th...</td>\n",
       "      <td>nan</td>\n",
       "    </tr>\n",
       "    <tr>\n",
       "      <th>633</th>\n",
       "      <td>B002WTC1NG</td>\n",
       "      <td>DJ Hale</td>\n",
       "      <td>5</td>\n",
       "      <td>August 11, 2014</td>\n",
       "      <td>True</td>\n",
       "      <td>Five Stars</td>\n",
       "      <td>This kept my mother off my back. Thanks</td>\n",
       "      <td>nan</td>\n",
       "    </tr>\n",
       "    <tr>\n",
       "      <th>60738</th>\n",
       "      <td>B07Q6ZZ4S1</td>\n",
       "      <td>Arvind</td>\n",
       "      <td>1</td>\n",
       "      <td>October 3, 2019</td>\n",
       "      <td>True</td>\n",
       "      <td>Ban these Companies</td>\n",
       "      <td>Not a suitable product for US markets Us shoul...</td>\n",
       "      <td>1.0000000</td>\n",
       "    </tr>\n",
       "  </tbody>\n",
       "</table>\n",
       "</div>"
      ],
      "text/plain": [
       "             asin            name  rating               date  verified  \\\n",
       "2808   B00836Y6B2  orlando guerra       5  December 26, 2012      True   \n",
       "24573  B01HFLRS38            Anna       1  November 15, 2016      True   \n",
       "50817  B07GDW4N5C  Anthony Grimes       5     March 11, 2019      True   \n",
       "633    B002WTC1NG         DJ Hale       5    August 11, 2014      True   \n",
       "60738  B07Q6ZZ4S1          Arvind       1    October 3, 2019      True   \n",
       "\n",
       "                       title  \\\n",
       "2808   Wonderful Nokia phone   \n",
       "24573               One Star   \n",
       "50817    Wife love her phone   \n",
       "633               Five Stars   \n",
       "60738    Ban these Companies   \n",
       "\n",
       "                                                    body  helpfulVotes  \n",
       "2808   I find that Nokia phones overall provide excel...     2.0000000  \n",
       "24573  It shut off 2 months into using and won't turn...           nan  \n",
       "50817  The phone worked perfectly my wife loves it th...           nan  \n",
       "633              This kept my mother off my back. Thanks           nan  \n",
       "60738  Not a suitable product for US markets Us shoul...     1.0000000  "
      ]
     },
     "execution_count": 9,
     "metadata": {
      "tags": []
     },
     "output_type": "execute_result"
    }
   ],
   "source": [
    "reviews_df.sample(5)"
   ]
  },
  {
   "cell_type": "markdown",
   "metadata": {
    "id": "rED6DbDBKTjM"
   },
   "source": [
    "## 4.  Data Analysis and EDA"
   ]
  },
  {
   "cell_type": "markdown",
   "metadata": {
    "id": "awlqmp40xMfc"
   },
   "source": [
    "### 4.1 Drop unnecessary columns like 'url', 'image' from the product_data"
   ]
  },
  {
   "cell_type": "code",
   "execution_count": 10,
   "metadata": {
    "id": "VT4d-6TCxZCm"
   },
   "outputs": [],
   "source": [
    "productData_df = productData_df.drop(['url','image'], axis=1)"
   ]
  },
  {
   "cell_type": "code",
   "execution_count": 11,
   "metadata": {
    "colab": {
     "base_uri": "https://localhost:8080/"
    },
    "id": "4qNQ3HYPjhn7",
    "outputId": "b32706ce-5aa5-417b-ecec-d855a0c2a87d"
   },
   "outputs": [
    {
     "data": {
      "text/plain": [
       "(720, 8)"
      ]
     },
     "execution_count": 11,
     "metadata": {
      "tags": []
     },
     "output_type": "execute_result"
    }
   ],
   "source": [
    "productData_df.shape"
   ]
  },
  {
   "cell_type": "code",
   "execution_count": 12,
   "metadata": {
    "colab": {
     "base_uri": "https://localhost:8080/",
     "height": 204
    },
    "id": "TjvZyzkLjcTN",
    "outputId": "6ebec0bb-f748-490c-d4cf-2303644ed9e5"
   },
   "outputs": [
    {
     "data": {
      "text/html": [
       "<div>\n",
       "<style scoped>\n",
       "    .dataframe tbody tr th:only-of-type {\n",
       "        vertical-align: middle;\n",
       "    }\n",
       "\n",
       "    .dataframe tbody tr th {\n",
       "        vertical-align: top;\n",
       "    }\n",
       "\n",
       "    .dataframe thead th {\n",
       "        text-align: right;\n",
       "    }\n",
       "</style>\n",
       "<table border=\"1\" class=\"dataframe\">\n",
       "  <thead>\n",
       "    <tr style=\"text-align: right;\">\n",
       "      <th></th>\n",
       "      <th>asin</th>\n",
       "      <th>brand</th>\n",
       "      <th>title</th>\n",
       "      <th>rating</th>\n",
       "      <th>reviewUrl</th>\n",
       "      <th>totalReviews</th>\n",
       "      <th>price</th>\n",
       "      <th>originalPrice</th>\n",
       "    </tr>\n",
       "  </thead>\n",
       "  <tbody>\n",
       "    <tr>\n",
       "      <th>0</th>\n",
       "      <td>B0000SX2UC</td>\n",
       "      <td>NaN</td>\n",
       "      <td>Dual-Band / Tri-Mode Sprint PCS Phone w/ Voice...</td>\n",
       "      <td>3.0000000</td>\n",
       "      <td>https://www.amazon.com/product-reviews/B0000SX2UC</td>\n",
       "      <td>14</td>\n",
       "      <td>0.0000000</td>\n",
       "      <td>0.0000000</td>\n",
       "    </tr>\n",
       "    <tr>\n",
       "      <th>1</th>\n",
       "      <td>B0009N5L7K</td>\n",
       "      <td>Motorola</td>\n",
       "      <td>Motorola I265 phone</td>\n",
       "      <td>3.0000000</td>\n",
       "      <td>https://www.amazon.com/product-reviews/B0009N5L7K</td>\n",
       "      <td>7</td>\n",
       "      <td>49.9500000</td>\n",
       "      <td>0.0000000</td>\n",
       "    </tr>\n",
       "    <tr>\n",
       "      <th>2</th>\n",
       "      <td>B000SKTZ0S</td>\n",
       "      <td>Motorola</td>\n",
       "      <td>MOTOROLA C168i AT&amp;T CINGULAR PREPAID GOPHONE C...</td>\n",
       "      <td>2.7000000</td>\n",
       "      <td>https://www.amazon.com/product-reviews/B000SKTZ0S</td>\n",
       "      <td>22</td>\n",
       "      <td>99.9900000</td>\n",
       "      <td>0.0000000</td>\n",
       "    </tr>\n",
       "    <tr>\n",
       "      <th>3</th>\n",
       "      <td>B001AO4OUC</td>\n",
       "      <td>Motorola</td>\n",
       "      <td>Motorola i335 Cell Phone Boost Mobile</td>\n",
       "      <td>3.3000000</td>\n",
       "      <td>https://www.amazon.com/product-reviews/B001AO4OUC</td>\n",
       "      <td>21</td>\n",
       "      <td>0.0000000</td>\n",
       "      <td>0.0000000</td>\n",
       "    </tr>\n",
       "    <tr>\n",
       "      <th>4</th>\n",
       "      <td>B001DCJAJG</td>\n",
       "      <td>Motorola</td>\n",
       "      <td>Motorola V365 no contract cellular phone AT&amp;T</td>\n",
       "      <td>3.1000000</td>\n",
       "      <td>https://www.amazon.com/product-reviews/B001DCJAJG</td>\n",
       "      <td>12</td>\n",
       "      <td>149.9900000</td>\n",
       "      <td>0.0000000</td>\n",
       "    </tr>\n",
       "  </tbody>\n",
       "</table>\n",
       "</div>"
      ],
      "text/plain": [
       "         asin     brand                                              title  \\\n",
       "0  B0000SX2UC       NaN  Dual-Band / Tri-Mode Sprint PCS Phone w/ Voice...   \n",
       "1  B0009N5L7K  Motorola                                Motorola I265 phone   \n",
       "2  B000SKTZ0S  Motorola  MOTOROLA C168i AT&T CINGULAR PREPAID GOPHONE C...   \n",
       "3  B001AO4OUC  Motorola              Motorola i335 Cell Phone Boost Mobile   \n",
       "4  B001DCJAJG  Motorola      Motorola V365 no contract cellular phone AT&T   \n",
       "\n",
       "     rating                                          reviewUrl  totalReviews  \\\n",
       "0 3.0000000  https://www.amazon.com/product-reviews/B0000SX2UC            14   \n",
       "1 3.0000000  https://www.amazon.com/product-reviews/B0009N5L7K             7   \n",
       "2 2.7000000  https://www.amazon.com/product-reviews/B000SKTZ0S            22   \n",
       "3 3.3000000  https://www.amazon.com/product-reviews/B001AO4OUC            21   \n",
       "4 3.1000000  https://www.amazon.com/product-reviews/B001DCJAJG            12   \n",
       "\n",
       "        price  originalPrice  \n",
       "0   0.0000000      0.0000000  \n",
       "1  49.9500000      0.0000000  \n",
       "2  99.9900000      0.0000000  \n",
       "3   0.0000000      0.0000000  \n",
       "4 149.9900000      0.0000000  "
      ]
     },
     "execution_count": 12,
     "metadata": {
      "tags": []
     },
     "output_type": "execute_result"
    }
   ],
   "source": [
    "productData_df.head()"
   ]
  },
  {
   "cell_type": "markdown",
   "metadata": {
    "id": "Zk0WW5D5xZK9"
   },
   "source": [
    "### 4.2 Check statistical summary of both datasets. Note:- Include both numerical and object type columns."
   ]
  },
  {
   "cell_type": "code",
   "execution_count": 13,
   "metadata": {
    "colab": {
     "base_uri": "https://localhost:8080/",
     "height": 297
    },
    "id": "ylwcqQpcx_Tl",
    "outputId": "d119bd4c-09ce-49e1-fac3-8c99790cd4b0"
   },
   "outputs": [
    {
     "data": {
      "text/html": [
       "<div>\n",
       "<style scoped>\n",
       "    .dataframe tbody tr th:only-of-type {\n",
       "        vertical-align: middle;\n",
       "    }\n",
       "\n",
       "    .dataframe tbody tr th {\n",
       "        vertical-align: top;\n",
       "    }\n",
       "\n",
       "    .dataframe thead th {\n",
       "        text-align: right;\n",
       "    }\n",
       "</style>\n",
       "<table border=\"1\" class=\"dataframe\">\n",
       "  <thead>\n",
       "    <tr style=\"text-align: right;\">\n",
       "      <th></th>\n",
       "      <th>count</th>\n",
       "      <th>unique</th>\n",
       "      <th>top</th>\n",
       "      <th>freq</th>\n",
       "      <th>mean</th>\n",
       "      <th>std</th>\n",
       "      <th>min</th>\n",
       "      <th>25%</th>\n",
       "      <th>50%</th>\n",
       "      <th>75%</th>\n",
       "      <th>max</th>\n",
       "    </tr>\n",
       "  </thead>\n",
       "  <tbody>\n",
       "    <tr>\n",
       "      <th>asin</th>\n",
       "      <td>720</td>\n",
       "      <td>720</td>\n",
       "      <td>B07NQNK5F4</td>\n",
       "      <td>1</td>\n",
       "      <td>NaN</td>\n",
       "      <td>NaN</td>\n",
       "      <td>NaN</td>\n",
       "      <td>NaN</td>\n",
       "      <td>NaN</td>\n",
       "      <td>NaN</td>\n",
       "      <td>NaN</td>\n",
       "    </tr>\n",
       "    <tr>\n",
       "      <th>brand</th>\n",
       "      <td>716</td>\n",
       "      <td>10</td>\n",
       "      <td>Samsung</td>\n",
       "      <td>346</td>\n",
       "      <td>NaN</td>\n",
       "      <td>NaN</td>\n",
       "      <td>NaN</td>\n",
       "      <td>NaN</td>\n",
       "      <td>NaN</td>\n",
       "      <td>NaN</td>\n",
       "      <td>NaN</td>\n",
       "    </tr>\n",
       "    <tr>\n",
       "      <th>title</th>\n",
       "      <td>720</td>\n",
       "      <td>718</td>\n",
       "      <td>Apple iPhone 6S, 64GB, Rose Gold - For AT&amp;T / ...</td>\n",
       "      <td>2</td>\n",
       "      <td>NaN</td>\n",
       "      <td>NaN</td>\n",
       "      <td>NaN</td>\n",
       "      <td>NaN</td>\n",
       "      <td>NaN</td>\n",
       "      <td>NaN</td>\n",
       "      <td>NaN</td>\n",
       "    </tr>\n",
       "    <tr>\n",
       "      <th>rating</th>\n",
       "      <td>720.0000000</td>\n",
       "      <td>NaN</td>\n",
       "      <td>NaN</td>\n",
       "      <td>NaN</td>\n",
       "      <td>3.7137500</td>\n",
       "      <td>0.7160138</td>\n",
       "      <td>1.0000000</td>\n",
       "      <td>3.3000000</td>\n",
       "      <td>3.8000000</td>\n",
       "      <td>4.1000000</td>\n",
       "      <td>5.0000000</td>\n",
       "    </tr>\n",
       "    <tr>\n",
       "      <th>reviewUrl</th>\n",
       "      <td>720</td>\n",
       "      <td>720</td>\n",
       "      <td>https://www.amazon.com/product-reviews/B007X6FFLS</td>\n",
       "      <td>1</td>\n",
       "      <td>NaN</td>\n",
       "      <td>NaN</td>\n",
       "      <td>NaN</td>\n",
       "      <td>NaN</td>\n",
       "      <td>NaN</td>\n",
       "      <td>NaN</td>\n",
       "      <td>NaN</td>\n",
       "    </tr>\n",
       "    <tr>\n",
       "      <th>totalReviews</th>\n",
       "      <td>720.0000000</td>\n",
       "      <td>NaN</td>\n",
       "      <td>NaN</td>\n",
       "      <td>NaN</td>\n",
       "      <td>105.6791667</td>\n",
       "      <td>167.6011014</td>\n",
       "      <td>1.0000000</td>\n",
       "      <td>7.0000000</td>\n",
       "      <td>32.0000000</td>\n",
       "      <td>122.2500000</td>\n",
       "      <td>983.0000000</td>\n",
       "    </tr>\n",
       "    <tr>\n",
       "      <th>price</th>\n",
       "      <td>720.0000000</td>\n",
       "      <td>NaN</td>\n",
       "      <td>NaN</td>\n",
       "      <td>NaN</td>\n",
       "      <td>234.9489306</td>\n",
       "      <td>200.0084407</td>\n",
       "      <td>0.0000000</td>\n",
       "      <td>97.5125000</td>\n",
       "      <td>188.9750000</td>\n",
       "      <td>336.7250000</td>\n",
       "      <td>999.9900000</td>\n",
       "    </tr>\n",
       "    <tr>\n",
       "      <th>originalPrice</th>\n",
       "      <td>720.0000000</td>\n",
       "      <td>NaN</td>\n",
       "      <td>NaN</td>\n",
       "      <td>NaN</td>\n",
       "      <td>63.6907778</td>\n",
       "      <td>172.4053696</td>\n",
       "      <td>0.0000000</td>\n",
       "      <td>0.0000000</td>\n",
       "      <td>0.0000000</td>\n",
       "      <td>0.0000000</td>\n",
       "      <td>999.9900000</td>\n",
       "    </tr>\n",
       "  </tbody>\n",
       "</table>\n",
       "</div>"
      ],
      "text/plain": [
       "                    count unique  \\\n",
       "asin                  720    720   \n",
       "brand                 716     10   \n",
       "title                 720    718   \n",
       "rating        720.0000000    NaN   \n",
       "reviewUrl             720    720   \n",
       "totalReviews  720.0000000    NaN   \n",
       "price         720.0000000    NaN   \n",
       "originalPrice 720.0000000    NaN   \n",
       "\n",
       "                                                             top freq  \\\n",
       "asin                                                  B07NQNK5F4    1   \n",
       "brand                                                    Samsung  346   \n",
       "title          Apple iPhone 6S, 64GB, Rose Gold - For AT&T / ...    2   \n",
       "rating                                                       NaN  NaN   \n",
       "reviewUrl      https://www.amazon.com/product-reviews/B007X6FFLS    1   \n",
       "totalReviews                                                 NaN  NaN   \n",
       "price                                                        NaN  NaN   \n",
       "originalPrice                                                NaN  NaN   \n",
       "\n",
       "                     mean         std       min        25%         50%  \\\n",
       "asin                  NaN         NaN       NaN        NaN         NaN   \n",
       "brand                 NaN         NaN       NaN        NaN         NaN   \n",
       "title                 NaN         NaN       NaN        NaN         NaN   \n",
       "rating          3.7137500   0.7160138 1.0000000  3.3000000   3.8000000   \n",
       "reviewUrl             NaN         NaN       NaN        NaN         NaN   \n",
       "totalReviews  105.6791667 167.6011014 1.0000000  7.0000000  32.0000000   \n",
       "price         234.9489306 200.0084407 0.0000000 97.5125000 188.9750000   \n",
       "originalPrice  63.6907778 172.4053696 0.0000000  0.0000000   0.0000000   \n",
       "\n",
       "                      75%         max  \n",
       "asin                  NaN         NaN  \n",
       "brand                 NaN         NaN  \n",
       "title                 NaN         NaN  \n",
       "rating          4.1000000   5.0000000  \n",
       "reviewUrl             NaN         NaN  \n",
       "totalReviews  122.2500000 983.0000000  \n",
       "price         336.7250000 999.9900000  \n",
       "originalPrice   0.0000000 999.9900000  "
      ]
     },
     "execution_count": 13,
     "metadata": {
      "tags": []
     },
     "output_type": "execute_result"
    }
   ],
   "source": [
    "productData_df.describe(include='all').T"
   ]
  },
  {
   "cell_type": "code",
   "execution_count": 14,
   "metadata": {
    "colab": {
     "base_uri": "https://localhost:8080/",
     "height": 297
    },
    "id": "WFaDkvIjyDtG",
    "outputId": "cfeb50d4-750a-4c0f-8b40-e86eeedd80bc"
   },
   "outputs": [
    {
     "data": {
      "text/html": [
       "<div>\n",
       "<style scoped>\n",
       "    .dataframe tbody tr th:only-of-type {\n",
       "        vertical-align: middle;\n",
       "    }\n",
       "\n",
       "    .dataframe tbody tr th {\n",
       "        vertical-align: top;\n",
       "    }\n",
       "\n",
       "    .dataframe thead th {\n",
       "        text-align: right;\n",
       "    }\n",
       "</style>\n",
       "<table border=\"1\" class=\"dataframe\">\n",
       "  <thead>\n",
       "    <tr style=\"text-align: right;\">\n",
       "      <th></th>\n",
       "      <th>count</th>\n",
       "      <th>unique</th>\n",
       "      <th>top</th>\n",
       "      <th>freq</th>\n",
       "      <th>mean</th>\n",
       "      <th>std</th>\n",
       "      <th>min</th>\n",
       "      <th>25%</th>\n",
       "      <th>50%</th>\n",
       "      <th>75%</th>\n",
       "      <th>max</th>\n",
       "    </tr>\n",
       "  </thead>\n",
       "  <tbody>\n",
       "    <tr>\n",
       "      <th>asin</th>\n",
       "      <td>67986</td>\n",
       "      <td>720</td>\n",
       "      <td>B00F2SKPIM</td>\n",
       "      <td>981</td>\n",
       "      <td>NaN</td>\n",
       "      <td>NaN</td>\n",
       "      <td>NaN</td>\n",
       "      <td>NaN</td>\n",
       "      <td>NaN</td>\n",
       "      <td>NaN</td>\n",
       "      <td>NaN</td>\n",
       "    </tr>\n",
       "    <tr>\n",
       "      <th>name</th>\n",
       "      <td>67984</td>\n",
       "      <td>47323</td>\n",
       "      <td>Amazon Customer</td>\n",
       "      <td>6507</td>\n",
       "      <td>NaN</td>\n",
       "      <td>NaN</td>\n",
       "      <td>NaN</td>\n",
       "      <td>NaN</td>\n",
       "      <td>NaN</td>\n",
       "      <td>NaN</td>\n",
       "      <td>NaN</td>\n",
       "    </tr>\n",
       "    <tr>\n",
       "      <th>rating</th>\n",
       "      <td>67986.0000000</td>\n",
       "      <td>NaN</td>\n",
       "      <td>NaN</td>\n",
       "      <td>NaN</td>\n",
       "      <td>3.8079163</td>\n",
       "      <td>1.5829058</td>\n",
       "      <td>1.0000000</td>\n",
       "      <td>3.0000000</td>\n",
       "      <td>5.0000000</td>\n",
       "      <td>5.0000000</td>\n",
       "      <td>5.0000000</td>\n",
       "    </tr>\n",
       "    <tr>\n",
       "      <th>date</th>\n",
       "      <td>67986</td>\n",
       "      <td>2983</td>\n",
       "      <td>December 11, 2019</td>\n",
       "      <td>234</td>\n",
       "      <td>NaN</td>\n",
       "      <td>NaN</td>\n",
       "      <td>NaN</td>\n",
       "      <td>NaN</td>\n",
       "      <td>NaN</td>\n",
       "      <td>NaN</td>\n",
       "      <td>NaN</td>\n",
       "    </tr>\n",
       "    <tr>\n",
       "      <th>verified</th>\n",
       "      <td>67986</td>\n",
       "      <td>2</td>\n",
       "      <td>True</td>\n",
       "      <td>61225</td>\n",
       "      <td>NaN</td>\n",
       "      <td>NaN</td>\n",
       "      <td>NaN</td>\n",
       "      <td>NaN</td>\n",
       "      <td>NaN</td>\n",
       "      <td>NaN</td>\n",
       "      <td>NaN</td>\n",
       "    </tr>\n",
       "    <tr>\n",
       "      <th>title</th>\n",
       "      <td>67972</td>\n",
       "      <td>41489</td>\n",
       "      <td>Five Stars</td>\n",
       "      <td>6043</td>\n",
       "      <td>NaN</td>\n",
       "      <td>NaN</td>\n",
       "      <td>NaN</td>\n",
       "      <td>NaN</td>\n",
       "      <td>NaN</td>\n",
       "      <td>NaN</td>\n",
       "      <td>NaN</td>\n",
       "    </tr>\n",
       "    <tr>\n",
       "      <th>body</th>\n",
       "      <td>67965</td>\n",
       "      <td>59811</td>\n",
       "      <td>Good</td>\n",
       "      <td>303</td>\n",
       "      <td>NaN</td>\n",
       "      <td>NaN</td>\n",
       "      <td>NaN</td>\n",
       "      <td>NaN</td>\n",
       "      <td>NaN</td>\n",
       "      <td>NaN</td>\n",
       "      <td>NaN</td>\n",
       "    </tr>\n",
       "    <tr>\n",
       "      <th>helpfulVotes</th>\n",
       "      <td>27215.0000000</td>\n",
       "      <td>NaN</td>\n",
       "      <td>NaN</td>\n",
       "      <td>NaN</td>\n",
       "      <td>8.2296895</td>\n",
       "      <td>31.9548772</td>\n",
       "      <td>1.0000000</td>\n",
       "      <td>1.0000000</td>\n",
       "      <td>2.0000000</td>\n",
       "      <td>5.0000000</td>\n",
       "      <td>990.0000000</td>\n",
       "    </tr>\n",
       "  </tbody>\n",
       "</table>\n",
       "</div>"
      ],
      "text/plain": [
       "                     count unique                top   freq      mean  \\\n",
       "asin                 67986    720         B00F2SKPIM    981       NaN   \n",
       "name                 67984  47323    Amazon Customer   6507       NaN   \n",
       "rating       67986.0000000    NaN                NaN    NaN 3.8079163   \n",
       "date                 67986   2983  December 11, 2019    234       NaN   \n",
       "verified             67986      2               True  61225       NaN   \n",
       "title                67972  41489         Five Stars   6043       NaN   \n",
       "body                 67965  59811               Good    303       NaN   \n",
       "helpfulVotes 27215.0000000    NaN                NaN    NaN 8.2296895   \n",
       "\n",
       "                    std       min       25%       50%       75%         max  \n",
       "asin                NaN       NaN       NaN       NaN       NaN         NaN  \n",
       "name                NaN       NaN       NaN       NaN       NaN         NaN  \n",
       "rating        1.5829058 1.0000000 3.0000000 5.0000000 5.0000000   5.0000000  \n",
       "date                NaN       NaN       NaN       NaN       NaN         NaN  \n",
       "verified            NaN       NaN       NaN       NaN       NaN         NaN  \n",
       "title               NaN       NaN       NaN       NaN       NaN         NaN  \n",
       "body                NaN       NaN       NaN       NaN       NaN         NaN  \n",
       "helpfulVotes 31.9548772 1.0000000 1.0000000 2.0000000 5.0000000 990.0000000  "
      ]
     },
     "execution_count": 14,
     "metadata": {
      "tags": []
     },
     "output_type": "execute_result"
    }
   ],
   "source": [
    "reviews_df.describe(include='all').T"
   ]
  },
  {
   "cell_type": "markdown",
   "metadata": {
    "id": "cSdGfadUyEdU"
   },
   "source": [
    "### 4.3 From the above statistical summry, write inferences like count of unique products, top brand, top title, range of rating, price range, etc"
   ]
  },
  {
   "cell_type": "markdown",
   "metadata": {
    "id": "gerPyeFrmdJy"
   },
   "source": [
    "1. There are 10 unique products\n",
    "2. The top brand is Samsung\n",
    "3. Top title is Apple iPhone 6S, 64GB, Rose Gold - For AT&T\n",
    "4. Range of rating Min:1 and Max: 5\n",
    "5. Price range Min : 0 and Max : 999.99\n",
    "6. Ratings of products can be infered to have a right skew."
   ]
  },
  {
   "cell_type": "markdown",
   "metadata": {
    "id": "XMv_hXyxJKZK"
   },
   "source": [
    "### 4.4 Analyze the distribution of ratings and other categorical features like brand, etc"
   ]
  },
  {
   "cell_type": "code",
   "execution_count": 24,
   "metadata": {
    "colab": {
     "base_uri": "https://localhost:8080/"
    },
    "id": "oEhjSsMcyirD",
    "outputId": "dc973e68-da1a-4fc5-cf3b-c245a807227e"
   },
   "outputs": [
    {
     "data": {
      "text/plain": [
       "Samsung     346\n",
       "Motorola    105\n",
       "Apple        63\n",
       "Xiaomi       46\n",
       "Nokia        44\n",
       "Google       38\n",
       "HUAWEI       32\n",
       "Sony         27\n",
       "OnePlus      10\n",
       "ASUS          5\n",
       "Name: brand, dtype: int64"
      ]
     },
     "execution_count": 24,
     "metadata": {
      "tags": []
     },
     "output_type": "execute_result"
    }
   ],
   "source": [
    "# distribution of brand\n",
    "productData_df['brand'].value_counts()"
   ]
  },
  {
   "cell_type": "code",
   "execution_count": 22,
   "metadata": {
    "colab": {
     "base_uri": "https://localhost:8080/",
     "height": 334
    },
    "id": "fyhAwLKiAm5z",
    "outputId": "92a68f68-f8c4-4d29-f845-ba4bfc074ba0"
   },
   "outputs": [
    {
     "data": {
      "image/png": "[encoded data removed]",
      "text/plain": [
       "<Figure size 576x360 with 1 Axes>"
      ]
     },
     "metadata": {
      "needs_background": "light",
      "tags": []
     },
     "output_type": "display_data"
    }
   ],
   "source": [
    "plt.figure(figsize=(8,5))\n",
    "sns.countplot(productData_df['brand'])\n",
    "plt.show()"
   ]
  },
  {
   "cell_type": "markdown",
   "metadata": {
    "id": "Ku51jbU3BK2M"
   },
   "source": [
    "*   Samsung has the most number of products almost 50%\n",
    "*   Motorola has second most number of products\n",
    "\n"
   ]
  },
  {
   "cell_type": "code",
   "execution_count": null,
   "metadata": {
    "colab": {
     "base_uri": "https://localhost:8080/"
    },
    "id": "qXmG4eWzrI4p",
    "outputId": "280fcceb-02ac-41f1-cced-1bcefba44cb2"
   },
   "outputs": [
    {
     "data": {
      "text/plain": [
       "4.1000000    59\n",
       "3.8000000    55\n",
       "4.0000000    52\n",
       "3.9000000    47\n",
       "3.7000000    46\n",
       "3.5000000    43\n",
       "3.6000000    40\n",
       "3.2000000    37\n",
       "3.3000000    34\n",
       "5.0000000    34\n",
       "4.4000000    32\n",
       "4.2000000    31\n",
       "4.5000000    31\n",
       "4.3000000    28\n",
       "3.1000000    21\n",
       "3.4000000    21\n",
       "3.0000000    20\n",
       "2.9000000    16\n",
       "1.0000000    16\n",
       "2.8000000    10\n",
       "4.6000000    10\n",
       "2.7000000     8\n",
       "2.5000000     6\n",
       "4.7000000     5\n",
       "2.4000000     4\n",
       "2.6000000     4\n",
       "2.1000000     3\n",
       "2.0000000     2\n",
       "1.4000000     1\n",
       "2.3000000     1\n",
       "2.2000000     1\n",
       "1.5000000     1\n",
       "4.8000000     1\n",
       "Name: rating, dtype: int64"
      ]
     },
     "execution_count": 34,
     "metadata": {
      "tags": []
     },
     "output_type": "execute_result"
    }
   ],
   "source": [
    "# distribution of rating\n",
    "productData_df['rating'].value_counts()"
   ]
  },
  {
   "cell_type": "code",
   "execution_count": 26,
   "metadata": {
    "colab": {
     "base_uri": "https://localhost:8080/",
     "height": 334
    },
    "id": "UF7ClzxerV_B",
    "outputId": "db857121-9317-4d3b-a5aa-36130a71e3ee"
   },
   "outputs": [
    {
     "data": {
      "image/png": "[encoded data removed]",
      "text/plain": [
       "<Figure size 720x360 with 1 Axes>"
      ]
     },
     "metadata": {
      "needs_background": "light",
      "tags": []
     },
     "output_type": "display_data"
    }
   ],
   "source": [
    "plt.figure(figsize=(10,5))\n",
    "sns.countplot(productData_df['rating'])\n",
    "plt.show()"
   ]
  },
  {
   "cell_type": "markdown",
   "metadata": {
    "id": "KyQ3BM6KGkYN"
   },
   "source": [
    "*  Most ratings are in the range 3 to 4.5\n",
    "*  There is an inference of class imbalance as most of the products are rated average and above\n",
    "\n"
   ]
  },
  {
   "cell_type": "markdown",
   "metadata": {
    "id": "jwZBGODgyi1a"
   },
   "source": [
    "### 4.5 Display average rating per brand"
   ]
  },
  {
   "cell_type": "code",
   "execution_count": 35,
   "metadata": {
    "colab": {
     "base_uri": "https://localhost:8080/",
     "height": 370
    },
    "id": "OSBBiAv8yscd",
    "outputId": "2ba165b6-5334-4229-efbf-706858a28275"
   },
   "outputs": [
    {
     "data": {
      "image/png": "[encoded data removed]",
      "text/plain": [
       "<Figure size 576x360 with 1 Axes>"
      ]
     },
     "metadata": {
      "needs_background": "light",
      "tags": []
     },
     "output_type": "display_data"
    }
   ],
   "source": [
    "plt.figure(figsize=(8,5))\n",
    "productData_df.groupby('brand').mean()['rating'].plot(kind='bar')\n",
    "plt.show()"
   ]
  },
  {
   "cell_type": "code",
   "execution_count": 33,
   "metadata": {
    "colab": {
     "base_uri": "https://localhost:8080/"
    },
    "id": "4by64g_XHupH",
    "outputId": "ca2b30f8-9fe8-4021-e188-b46088f21d53"
   },
   "outputs": [
    {
     "data": {
      "text/plain": [
       "brand\n",
       "ASUS       3.8600000\n",
       "Apple      3.7825397\n",
       "Google     3.7710526\n",
       "HUAWEI     4.0218750\n",
       "Motorola   3.6438095\n",
       "Nokia      3.3863636\n",
       "OnePlus    3.5800000\n",
       "Samsung    3.6326590\n",
       "Sony       3.7888889\n",
       "Xiaomi     4.4152174\n",
       "Name: rating, dtype: float64"
      ]
     },
     "execution_count": 33,
     "metadata": {
      "tags": []
     },
     "output_type": "execute_result"
    }
   ],
   "source": [
    "productData_df.groupby('brand').mean()['rating']"
   ]
  },
  {
   "cell_type": "markdown",
   "metadata": {
    "id": "o1cjD4mmI-lC"
   },
   "source": [
    "Xiaomi and HUAWEI has the most average ratings compared to other products"
   ]
  },
  {
   "cell_type": "markdown",
   "metadata": {
    "id": "vUXuEwlgyvB0"
   },
   "source": [
    "### 4.6 Display average price per brand"
   ]
  },
  {
   "cell_type": "code",
   "execution_count": 36,
   "metadata": {
    "colab": {
     "base_uri": "https://localhost:8080/",
     "height": 370
    },
    "id": "ACgIwVlyy3Pu",
    "outputId": "63def95f-6a3e-4d6d-efaa-ccb34f01a1f8"
   },
   "outputs": [
    {
     "data": {
      "image/png": "[encoded data removed]",
      "text/plain": [
       "<Figure size 576x360 with 1 Axes>"
      ]
     },
     "metadata": {
      "needs_background": "light",
      "tags": []
     },
     "output_type": "display_data"
    }
   ],
   "source": [
    "plt.figure(figsize=(8,5))\n",
    "productData_df.groupby('brand').mean()['price'].plot(kind='bar')\n",
    "plt.show()"
   ]
  },
  {
   "cell_type": "code",
   "execution_count": 37,
   "metadata": {
    "colab": {
     "base_uri": "https://localhost:8080/"
    },
    "id": "FVC5wSrCsCQy",
    "outputId": "d193e641-ac72-4718-a31f-e975ab59a481"
   },
   "outputs": [
    {
     "data": {
      "text/plain": [
       "brand\n",
       "ASUS       309.6860000\n",
       "Apple      303.5811111\n",
       "Google     241.8676316\n",
       "HUAWEI     218.8290625\n",
       "Motorola   139.1210476\n",
       "Nokia      111.4438636\n",
       "OnePlus    426.1960000\n",
       "Samsung    256.5272543\n",
       "Sony       332.7248148\n",
       "Xiaomi     214.9676087\n",
       "Name: price, dtype: float64"
      ]
     },
     "execution_count": 37,
     "metadata": {
      "tags": []
     },
     "output_type": "execute_result"
    }
   ],
   "source": [
    "productData_df.groupby('brand').mean()['price']"
   ]
  },
  {
   "cell_type": "markdown",
   "metadata": {
    "id": "29Br4rNpLeLD"
   },
   "source": [
    "Oneplus brand seems to be more compared to other brands.\n",
    "Price inference seems to be not conclusive to infer insight as we can see the apple produvts price seems to be less compared to Oneplus"
   ]
  },
  {
   "cell_type": "markdown",
   "metadata": {
    "id": "U0JfwL74y3a-"
   },
   "source": [
    "### 4.7 Display average 'totalReviews' per brand"
   ]
  },
  {
   "cell_type": "code",
   "execution_count": 40,
   "metadata": {
    "colab": {
     "base_uri": "https://localhost:8080/",
     "height": 370
    },
    "id": "wfzciNxqzBYu",
    "outputId": "c90a1ae9-d565-4326-f2b8-3483ea63bc0c"
   },
   "outputs": [
    {
     "data": {
      "image/png": "[encoded data removed]",
      "text/plain": [
       "<Figure size 576x360 with 1 Axes>"
      ]
     },
     "metadata": {
      "needs_background": "light",
      "tags": []
     },
     "output_type": "display_data"
    }
   ],
   "source": [
    "plt.figure(figsize=(8,5))\n",
    "productData_df.groupby('brand').mean()['totalReviews'].plot(kind='bar')\n",
    "plt.show()"
   ]
  },
  {
   "cell_type": "code",
   "execution_count": null,
   "metadata": {
    "colab": {
     "base_uri": "https://localhost:8080/"
    },
    "id": "x6BIg8MzsTtj",
    "outputId": "47ab6cde-86d9-40e0-a477-f2f84ec528d4"
   },
   "outputs": [
    {
     "data": {
      "text/plain": [
       "brand\n",
       "ASUS        52.6000000\n",
       "Apple      100.2380952\n",
       "Google     111.5263158\n",
       "HUAWEI      77.0937500\n",
       "Motorola    89.7047619\n",
       "Nokia      140.5000000\n",
       "OnePlus     40.6000000\n",
       "Samsung    108.9624277\n",
       "Sony       122.6666667\n",
       "Xiaomi     121.1739130\n",
       "Name: totalReviews, dtype: float64"
      ]
     },
     "execution_count": 41,
     "metadata": {
      "tags": []
     },
     "output_type": "execute_result"
    }
   ],
   "source": [
    "productData_df.groupby('brand').mean()['totalReviews']"
   ]
  },
  {
   "cell_type": "markdown",
   "metadata": {
    "id": "hs9eAUGLLmqZ"
   },
   "source": [
    "Total reviews seems to be more for Nokia followed with Sony and Xiaomi"
   ]
  },
  {
   "cell_type": "markdown",
   "metadata": {
    "id": "x_fxI7OAeDUM"
   },
   "source": [
    "### 4.8 Merge two datasets using 'asin' and check the shape of the final dataset"
   ]
  },
  {
   "cell_type": "code",
   "execution_count": 42,
   "metadata": {
    "id": "svpHfWI9zNAP"
   },
   "outputs": [],
   "source": [
    "merge_df = pd.merge(productData_df,reviews_df, on='asin')"
   ]
  },
  {
   "cell_type": "code",
   "execution_count": 43,
   "metadata": {
    "colab": {
     "base_uri": "https://localhost:8080/"
    },
    "id": "-0jmfPUCuMWy",
    "outputId": "9dc13807-6d04-415b-f6e8-38de080584c1"
   },
   "outputs": [
    {
     "data": {
      "text/plain": [
       "(67986, 15)"
      ]
     },
     "execution_count": 43,
     "metadata": {
      "tags": []
     },
     "output_type": "execute_result"
    }
   ],
   "source": [
    "merge_df.shape"
   ]
  },
  {
   "cell_type": "code",
   "execution_count": 44,
   "metadata": {
    "colab": {
     "base_uri": "https://localhost:8080/",
     "height": 357
    },
    "id": "pXz20Fr0uI9R",
    "outputId": "9c8230fc-a6f9-44c8-8f59-8863c7be0e50"
   },
   "outputs": [
    {
     "data": {
      "text/html": [
       "<div>\n",
       "<style scoped>\n",
       "    .dataframe tbody tr th:only-of-type {\n",
       "        vertical-align: middle;\n",
       "    }\n",
       "\n",
       "    .dataframe tbody tr th {\n",
       "        vertical-align: top;\n",
       "    }\n",
       "\n",
       "    .dataframe thead th {\n",
       "        text-align: right;\n",
       "    }\n",
       "</style>\n",
       "<table border=\"1\" class=\"dataframe\">\n",
       "  <thead>\n",
       "    <tr style=\"text-align: right;\">\n",
       "      <th></th>\n",
       "      <th>asin</th>\n",
       "      <th>brand</th>\n",
       "      <th>title_x</th>\n",
       "      <th>rating_x</th>\n",
       "      <th>reviewUrl</th>\n",
       "      <th>totalReviews</th>\n",
       "      <th>price</th>\n",
       "      <th>originalPrice</th>\n",
       "      <th>name</th>\n",
       "      <th>rating_y</th>\n",
       "      <th>date</th>\n",
       "      <th>verified</th>\n",
       "      <th>title_y</th>\n",
       "      <th>body</th>\n",
       "      <th>helpfulVotes</th>\n",
       "    </tr>\n",
       "  </thead>\n",
       "  <tbody>\n",
       "    <tr>\n",
       "      <th>0</th>\n",
       "      <td>B0000SX2UC</td>\n",
       "      <td>NaN</td>\n",
       "      <td>Dual-Band / Tri-Mode Sprint PCS Phone w/ Voice...</td>\n",
       "      <td>3.0000000</td>\n",
       "      <td>https://www.amazon.com/product-reviews/B0000SX2UC</td>\n",
       "      <td>14</td>\n",
       "      <td>0.0000000</td>\n",
       "      <td>0.0000000</td>\n",
       "      <td>Janet</td>\n",
       "      <td>3</td>\n",
       "      <td>October 11, 2005</td>\n",
       "      <td>False</td>\n",
       "      <td>Def not best, but not worst</td>\n",
       "      <td>I had the Samsung A600 for awhile which is abs...</td>\n",
       "      <td>1.0000000</td>\n",
       "    </tr>\n",
       "    <tr>\n",
       "      <th>1</th>\n",
       "      <td>B0000SX2UC</td>\n",
       "      <td>NaN</td>\n",
       "      <td>Dual-Band / Tri-Mode Sprint PCS Phone w/ Voice...</td>\n",
       "      <td>3.0000000</td>\n",
       "      <td>https://www.amazon.com/product-reviews/B0000SX2UC</td>\n",
       "      <td>14</td>\n",
       "      <td>0.0000000</td>\n",
       "      <td>0.0000000</td>\n",
       "      <td>Luke Wyatt</td>\n",
       "      <td>1</td>\n",
       "      <td>January 7, 2004</td>\n",
       "      <td>False</td>\n",
       "      <td>Text Messaging Doesn't Work</td>\n",
       "      <td>Due to a software issue between Nokia and Spri...</td>\n",
       "      <td>17.0000000</td>\n",
       "    </tr>\n",
       "    <tr>\n",
       "      <th>2</th>\n",
       "      <td>B0000SX2UC</td>\n",
       "      <td>NaN</td>\n",
       "      <td>Dual-Band / Tri-Mode Sprint PCS Phone w/ Voice...</td>\n",
       "      <td>3.0000000</td>\n",
       "      <td>https://www.amazon.com/product-reviews/B0000SX2UC</td>\n",
       "      <td>14</td>\n",
       "      <td>0.0000000</td>\n",
       "      <td>0.0000000</td>\n",
       "      <td>Brooke</td>\n",
       "      <td>5</td>\n",
       "      <td>December 30, 2003</td>\n",
       "      <td>False</td>\n",
       "      <td>Love This Phone</td>\n",
       "      <td>This is a great, reliable phone. I also purcha...</td>\n",
       "      <td>5.0000000</td>\n",
       "    </tr>\n",
       "    <tr>\n",
       "      <th>3</th>\n",
       "      <td>B0000SX2UC</td>\n",
       "      <td>NaN</td>\n",
       "      <td>Dual-Band / Tri-Mode Sprint PCS Phone w/ Voice...</td>\n",
       "      <td>3.0000000</td>\n",
       "      <td>https://www.amazon.com/product-reviews/B0000SX2UC</td>\n",
       "      <td>14</td>\n",
       "      <td>0.0000000</td>\n",
       "      <td>0.0000000</td>\n",
       "      <td>amy m. teague</td>\n",
       "      <td>3</td>\n",
       "      <td>March 18, 2004</td>\n",
       "      <td>False</td>\n",
       "      <td>Love the Phone, BUT...!</td>\n",
       "      <td>I love the phone and all, because I really did...</td>\n",
       "      <td>1.0000000</td>\n",
       "    </tr>\n",
       "    <tr>\n",
       "      <th>4</th>\n",
       "      <td>B0000SX2UC</td>\n",
       "      <td>NaN</td>\n",
       "      <td>Dual-Band / Tri-Mode Sprint PCS Phone w/ Voice...</td>\n",
       "      <td>3.0000000</td>\n",
       "      <td>https://www.amazon.com/product-reviews/B0000SX2UC</td>\n",
       "      <td>14</td>\n",
       "      <td>0.0000000</td>\n",
       "      <td>0.0000000</td>\n",
       "      <td>tristazbimmer</td>\n",
       "      <td>4</td>\n",
       "      <td>August 28, 2005</td>\n",
       "      <td>False</td>\n",
       "      <td>Great phone service and options, lousy case!</td>\n",
       "      <td>The phone has been great for every purpose it ...</td>\n",
       "      <td>1.0000000</td>\n",
       "    </tr>\n",
       "  </tbody>\n",
       "</table>\n",
       "</div>"
      ],
      "text/plain": [
       "         asin brand                                            title_x  \\\n",
       "0  B0000SX2UC   NaN  Dual-Band / Tri-Mode Sprint PCS Phone w/ Voice...   \n",
       "1  B0000SX2UC   NaN  Dual-Band / Tri-Mode Sprint PCS Phone w/ Voice...   \n",
       "2  B0000SX2UC   NaN  Dual-Band / Tri-Mode Sprint PCS Phone w/ Voice...   \n",
       "3  B0000SX2UC   NaN  Dual-Band / Tri-Mode Sprint PCS Phone w/ Voice...   \n",
       "4  B0000SX2UC   NaN  Dual-Band / Tri-Mode Sprint PCS Phone w/ Voice...   \n",
       "\n",
       "   rating_x                                          reviewUrl  totalReviews  \\\n",
       "0 3.0000000  https://www.amazon.com/product-reviews/B0000SX2UC            14   \n",
       "1 3.0000000  https://www.amazon.com/product-reviews/B0000SX2UC            14   \n",
       "2 3.0000000  https://www.amazon.com/product-reviews/B0000SX2UC            14   \n",
       "3 3.0000000  https://www.amazon.com/product-reviews/B0000SX2UC            14   \n",
       "4 3.0000000  https://www.amazon.com/product-reviews/B0000SX2UC            14   \n",
       "\n",
       "      price  originalPrice           name  rating_y               date  \\\n",
       "0 0.0000000      0.0000000          Janet         3   October 11, 2005   \n",
       "1 0.0000000      0.0000000     Luke Wyatt         1    January 7, 2004   \n",
       "2 0.0000000      0.0000000         Brooke         5  December 30, 2003   \n",
       "3 0.0000000      0.0000000  amy m. teague         3     March 18, 2004   \n",
       "4 0.0000000      0.0000000  tristazbimmer         4    August 28, 2005   \n",
       "\n",
       "   verified                                       title_y  \\\n",
       "0     False                   Def not best, but not worst   \n",
       "1     False                   Text Messaging Doesn't Work   \n",
       "2     False                               Love This Phone   \n",
       "3     False                       Love the Phone, BUT...!   \n",
       "4     False  Great phone service and options, lousy case!   \n",
       "\n",
       "                                                body  helpfulVotes  \n",
       "0  I had the Samsung A600 for awhile which is abs...     1.0000000  \n",
       "1  Due to a software issue between Nokia and Spri...    17.0000000  \n",
       "2  This is a great, reliable phone. I also purcha...     5.0000000  \n",
       "3  I love the phone and all, because I really did...     1.0000000  \n",
       "4  The phone has been great for every purpose it ...     1.0000000  "
      ]
     },
     "execution_count": 44,
     "metadata": {
      "tags": []
     },
     "output_type": "execute_result"
    }
   ],
   "source": [
    "merge_df.head()"
   ]
  },
  {
   "cell_type": "markdown",
   "metadata": {
    "id": "zdTfwlL7fYpq"
   },
   "source": [
    "### 4.9 Rename important features with appropriate names.\n",
    "Imortant features - \"rating_x\": \"user_rating\", \"title_x\": \"review_title\", \"title_y\": \"item_title\", \"rating_y\": \"overall_rating\""
   ]
  },
  {
   "cell_type": "code",
   "execution_count": 45,
   "metadata": {
    "id": "KI-6FCkZztXM"
   },
   "outputs": [],
   "source": [
    "merge_df.rename(columns={\"rating_x\": \"user_rating\", \"title_x\": \"review_title\", \"title_y\": \"item_title\", \"rating_y\": \"overall_rating\"},inplace=True)\n"
   ]
  },
  {
   "cell_type": "code",
   "execution_count": 46,
   "metadata": {
    "colab": {
     "base_uri": "https://localhost:8080/"
    },
    "id": "PieouaGdv0QK",
    "outputId": "2fd00d9b-f9e2-4b31-e031-f37ebbab886c"
   },
   "outputs": [
    {
     "data": {
      "text/plain": [
       "Index(['asin', 'brand', 'review_title', 'user_rating', 'reviewUrl',\n",
       "       'totalReviews', 'price', 'originalPrice', 'name', 'overall_rating',\n",
       "       'date', 'verified', 'item_title', 'body', 'helpfulVotes'],\n",
       "      dtype='object')"
      ]
     },
     "execution_count": 46,
     "metadata": {
      "tags": []
     },
     "output_type": "execute_result"
    }
   ],
   "source": [
    "merge_df.columns"
   ]
  },
  {
   "cell_type": "markdown",
   "metadata": {
    "id": "hNHEElHszthc"
   },
   "source": [
    "### 4.10 Select rows having verified reviews and check the shape of the final dataset"
   ]
  },
  {
   "cell_type": "code",
   "execution_count": 47,
   "metadata": {
    "id": "Jyav9_Zoz-rT"
   },
   "outputs": [],
   "source": [
    "verified_df = merge_df[merge_df['verified']==True]"
   ]
  },
  {
   "cell_type": "code",
   "execution_count": 48,
   "metadata": {
    "colab": {
     "base_uri": "https://localhost:8080/"
    },
    "id": "JqftkQ2cw8jB",
    "outputId": "1732aa5d-07b2-4f00-a9f1-2dde735ed46e"
   },
   "outputs": [
    {
     "data": {
      "text/plain": [
       "(61225, 15)"
      ]
     },
     "execution_count": 48,
     "metadata": {
      "tags": []
     },
     "output_type": "execute_result"
    }
   ],
   "source": [
    "verified_df.shape"
   ]
  },
  {
   "cell_type": "markdown",
   "metadata": {
    "id": "EpKusPjdz-2q"
   },
   "source": [
    "### 4.11 Check the number of reviews for various brands and report the brands that have highest number of brands"
   ]
  },
  {
   "cell_type": "code",
   "execution_count": 49,
   "metadata": {
    "colab": {
     "base_uri": "https://localhost:8080/",
     "height": 390
    },
    "id": "0fVv0MGWwrQZ",
    "outputId": "645d86c0-e337-4a4e-9f5e-338a9437e477"
   },
   "outputs": [
    {
     "data": {
      "text/html": [
       "<div>\n",
       "<style scoped>\n",
       "    .dataframe tbody tr th:only-of-type {\n",
       "        vertical-align: middle;\n",
       "    }\n",
       "\n",
       "    .dataframe tbody tr th {\n",
       "        vertical-align: top;\n",
       "    }\n",
       "\n",
       "    .dataframe thead th {\n",
       "        text-align: right;\n",
       "    }\n",
       "</style>\n",
       "<table border=\"1\" class=\"dataframe\">\n",
       "  <thead>\n",
       "    <tr style=\"text-align: right;\">\n",
       "      <th></th>\n",
       "      <th>asin</th>\n",
       "      <th>review_title</th>\n",
       "      <th>user_rating</th>\n",
       "      <th>reviewUrl</th>\n",
       "      <th>totalReviews</th>\n",
       "      <th>price</th>\n",
       "      <th>originalPrice</th>\n",
       "      <th>name</th>\n",
       "      <th>overall_rating</th>\n",
       "      <th>date</th>\n",
       "      <th>verified</th>\n",
       "      <th>item_title</th>\n",
       "      <th>body</th>\n",
       "      <th>helpfulVotes</th>\n",
       "    </tr>\n",
       "    <tr>\n",
       "      <th>brand</th>\n",
       "      <th></th>\n",
       "      <th></th>\n",
       "      <th></th>\n",
       "      <th></th>\n",
       "      <th></th>\n",
       "      <th></th>\n",
       "      <th></th>\n",
       "      <th></th>\n",
       "      <th></th>\n",
       "      <th></th>\n",
       "      <th></th>\n",
       "      <th></th>\n",
       "      <th></th>\n",
       "      <th></th>\n",
       "    </tr>\n",
       "  </thead>\n",
       "  <tbody>\n",
       "    <tr>\n",
       "      <th>ASUS</th>\n",
       "      <td>206</td>\n",
       "      <td>206</td>\n",
       "      <td>206</td>\n",
       "      <td>206</td>\n",
       "      <td>206</td>\n",
       "      <td>206</td>\n",
       "      <td>206</td>\n",
       "      <td>206</td>\n",
       "      <td>206</td>\n",
       "      <td>206</td>\n",
       "      <td>206</td>\n",
       "      <td>206</td>\n",
       "      <td>206</td>\n",
       "      <td>101</td>\n",
       "    </tr>\n",
       "    <tr>\n",
       "      <th>Apple</th>\n",
       "      <td>4876</td>\n",
       "      <td>4876</td>\n",
       "      <td>4876</td>\n",
       "      <td>4876</td>\n",
       "      <td>4876</td>\n",
       "      <td>4876</td>\n",
       "      <td>4876</td>\n",
       "      <td>4876</td>\n",
       "      <td>4876</td>\n",
       "      <td>4876</td>\n",
       "      <td>4876</td>\n",
       "      <td>4875</td>\n",
       "      <td>4876</td>\n",
       "      <td>1631</td>\n",
       "    </tr>\n",
       "    <tr>\n",
       "      <th>Google</th>\n",
       "      <td>3163</td>\n",
       "      <td>3163</td>\n",
       "      <td>3163</td>\n",
       "      <td>3163</td>\n",
       "      <td>3163</td>\n",
       "      <td>3163</td>\n",
       "      <td>3163</td>\n",
       "      <td>3163</td>\n",
       "      <td>3163</td>\n",
       "      <td>3163</td>\n",
       "      <td>3163</td>\n",
       "      <td>3163</td>\n",
       "      <td>3162</td>\n",
       "      <td>1279</td>\n",
       "    </tr>\n",
       "    <tr>\n",
       "      <th>HUAWEI</th>\n",
       "      <td>2019</td>\n",
       "      <td>2019</td>\n",
       "      <td>2019</td>\n",
       "      <td>2019</td>\n",
       "      <td>2019</td>\n",
       "      <td>2019</td>\n",
       "      <td>2019</td>\n",
       "      <td>2019</td>\n",
       "      <td>2019</td>\n",
       "      <td>2019</td>\n",
       "      <td>2019</td>\n",
       "      <td>2019</td>\n",
       "      <td>2019</td>\n",
       "      <td>881</td>\n",
       "    </tr>\n",
       "    <tr>\n",
       "      <th>Motorola</th>\n",
       "      <td>7714</td>\n",
       "      <td>7714</td>\n",
       "      <td>7714</td>\n",
       "      <td>7714</td>\n",
       "      <td>7714</td>\n",
       "      <td>7714</td>\n",
       "      <td>7714</td>\n",
       "      <td>7714</td>\n",
       "      <td>7714</td>\n",
       "      <td>7714</td>\n",
       "      <td>7714</td>\n",
       "      <td>7714</td>\n",
       "      <td>7713</td>\n",
       "      <td>3010</td>\n",
       "    </tr>\n",
       "    <tr>\n",
       "      <th>Nokia</th>\n",
       "      <td>4878</td>\n",
       "      <td>4878</td>\n",
       "      <td>4878</td>\n",
       "      <td>4878</td>\n",
       "      <td>4878</td>\n",
       "      <td>4878</td>\n",
       "      <td>4878</td>\n",
       "      <td>4877</td>\n",
       "      <td>4878</td>\n",
       "      <td>4878</td>\n",
       "      <td>4878</td>\n",
       "      <td>4878</td>\n",
       "      <td>4877</td>\n",
       "      <td>2020</td>\n",
       "    </tr>\n",
       "    <tr>\n",
       "      <th>OnePlus</th>\n",
       "      <td>304</td>\n",
       "      <td>304</td>\n",
       "      <td>304</td>\n",
       "      <td>304</td>\n",
       "      <td>304</td>\n",
       "      <td>304</td>\n",
       "      <td>304</td>\n",
       "      <td>304</td>\n",
       "      <td>304</td>\n",
       "      <td>304</td>\n",
       "      <td>304</td>\n",
       "      <td>304</td>\n",
       "      <td>304</td>\n",
       "      <td>141</td>\n",
       "    </tr>\n",
       "    <tr>\n",
       "      <th>Samsung</th>\n",
       "      <td>31020</td>\n",
       "      <td>31020</td>\n",
       "      <td>31020</td>\n",
       "      <td>31020</td>\n",
       "      <td>31020</td>\n",
       "      <td>31020</td>\n",
       "      <td>31020</td>\n",
       "      <td>31019</td>\n",
       "      <td>31020</td>\n",
       "      <td>31020</td>\n",
       "      <td>31020</td>\n",
       "      <td>31007</td>\n",
       "      <td>31005</td>\n",
       "      <td>11198</td>\n",
       "    </tr>\n",
       "    <tr>\n",
       "      <th>Sony</th>\n",
       "      <td>2691</td>\n",
       "      <td>2691</td>\n",
       "      <td>2691</td>\n",
       "      <td>2691</td>\n",
       "      <td>2691</td>\n",
       "      <td>2691</td>\n",
       "      <td>2691</td>\n",
       "      <td>2691</td>\n",
       "      <td>2691</td>\n",
       "      <td>2691</td>\n",
       "      <td>2691</td>\n",
       "      <td>2691</td>\n",
       "      <td>2691</td>\n",
       "      <td>1352</td>\n",
       "    </tr>\n",
       "    <tr>\n",
       "      <th>Xiaomi</th>\n",
       "      <td>4207</td>\n",
       "      <td>4207</td>\n",
       "      <td>4207</td>\n",
       "      <td>4207</td>\n",
       "      <td>4207</td>\n",
       "      <td>4207</td>\n",
       "      <td>4207</td>\n",
       "      <td>4207</td>\n",
       "      <td>4207</td>\n",
       "      <td>4207</td>\n",
       "      <td>4207</td>\n",
       "      <td>4207</td>\n",
       "      <td>4207</td>\n",
       "      <td>1452</td>\n",
       "    </tr>\n",
       "  </tbody>\n",
       "</table>\n",
       "</div>"
      ],
      "text/plain": [
       "           asin  review_title  user_rating  reviewUrl  totalReviews  price  \\\n",
       "brand                                                                        \n",
       "ASUS        206           206          206        206           206    206   \n",
       "Apple      4876          4876         4876       4876          4876   4876   \n",
       "Google     3163          3163         3163       3163          3163   3163   \n",
       "HUAWEI     2019          2019         2019       2019          2019   2019   \n",
       "Motorola   7714          7714         7714       7714          7714   7714   \n",
       "Nokia      4878          4878         4878       4878          4878   4878   \n",
       "OnePlus     304           304          304        304           304    304   \n",
       "Samsung   31020         31020        31020      31020         31020  31020   \n",
       "Sony       2691          2691         2691       2691          2691   2691   \n",
       "Xiaomi     4207          4207         4207       4207          4207   4207   \n",
       "\n",
       "          originalPrice   name  overall_rating   date  verified  item_title  \\\n",
       "brand                                                                         \n",
       "ASUS                206    206             206    206       206         206   \n",
       "Apple              4876   4876            4876   4876      4876        4875   \n",
       "Google             3163   3163            3163   3163      3163        3163   \n",
       "HUAWEI             2019   2019            2019   2019      2019        2019   \n",
       "Motorola           7714   7714            7714   7714      7714        7714   \n",
       "Nokia              4878   4877            4878   4878      4878        4878   \n",
       "OnePlus             304    304             304    304       304         304   \n",
       "Samsung           31020  31019           31020  31020     31020       31007   \n",
       "Sony               2691   2691            2691   2691      2691        2691   \n",
       "Xiaomi             4207   4207            4207   4207      4207        4207   \n",
       "\n",
       "           body  helpfulVotes  \n",
       "brand                          \n",
       "ASUS        206           101  \n",
       "Apple      4876          1631  \n",
       "Google     3162          1279  \n",
       "HUAWEI     2019           881  \n",
       "Motorola   7713          3010  \n",
       "Nokia      4877          2020  \n",
       "OnePlus     304           141  \n",
       "Samsung   31005         11198  \n",
       "Sony       2691          1352  \n",
       "Xiaomi     4207          1452  "
      ]
     },
     "execution_count": 49,
     "metadata": {
      "tags": []
     },
     "output_type": "execute_result"
    }
   ],
   "source": [
    "verified_df.groupby('brand').count()"
   ]
  },
  {
   "cell_type": "code",
   "execution_count": 52,
   "metadata": {
    "colab": {
     "base_uri": "https://localhost:8080/"
    },
    "id": "U6yrZFXAP0hq",
    "outputId": "b6f8f588-ea6b-49ab-cfe9-8c89988c894b"
   },
   "outputs": [
    {
     "data": {
      "text/plain": [
       "brand\n",
       "ASUS          206\n",
       "Apple        4876\n",
       "Google       3163\n",
       "HUAWEI       2019\n",
       "Motorola     7714\n",
       "Nokia        4878\n",
       "OnePlus       304\n",
       "Samsung     31020\n",
       "Sony         2691\n",
       "Xiaomi       4207\n",
       "Name: totalReviews, dtype: int64"
      ]
     },
     "execution_count": 52,
     "metadata": {
      "tags": []
     },
     "output_type": "execute_result"
    }
   ],
   "source": [
    "verified_df.groupby('brand').count()['totalReviews']"
   ]
  },
  {
   "cell_type": "markdown",
   "metadata": {
    "id": "DTc4JEfOMuPi"
   },
   "source": [
    "1.   Samsung has the most number of brands\n",
    "2.   It has the most number of reviews too\n",
    "\n"
   ]
  },
  {
   "cell_type": "markdown",
   "metadata": {
    "id": "gPGjMFE-0Q5k"
   },
   "source": [
    "### 4.12 Drop irrelevant columns and keep important features like 'brand','body','price','user_rating','review_title' for further analysis"
   ]
  },
  {
   "cell_type": "code",
   "execution_count": 53,
   "metadata": {
    "id": "J_IvLN6e0e6z"
   },
   "outputs": [],
   "source": [
    "verified_df_imp = verified_df[['brand','body','price','user_rating','item_title']]"
   ]
  },
  {
   "cell_type": "code",
   "execution_count": 54,
   "metadata": {
    "colab": {
     "base_uri": "https://localhost:8080/"
    },
    "id": "VEhQVSay0tZZ",
    "outputId": "5365e1ca-9c4d-43eb-a872-4d72a313a1a6"
   },
   "outputs": [
    {
     "data": {
      "text/plain": [
       "(61225, 5)"
      ]
     },
     "execution_count": 54,
     "metadata": {
      "tags": []
     },
     "output_type": "execute_result"
    }
   ],
   "source": [
    "verified_df_imp.shape"
   ]
  },
  {
   "cell_type": "code",
   "execution_count": 55,
   "metadata": {
    "colab": {
     "base_uri": "https://localhost:8080/",
     "height": 204
    },
    "id": "HzlnToLs0vY6",
    "outputId": "291bee37-7324-425a-d9cb-88011d750bb3"
   },
   "outputs": [
    {
     "data": {
      "text/html": [
       "<div>\n",
       "<style scoped>\n",
       "    .dataframe tbody tr th:only-of-type {\n",
       "        vertical-align: middle;\n",
       "    }\n",
       "\n",
       "    .dataframe tbody tr th {\n",
       "        vertical-align: top;\n",
       "    }\n",
       "\n",
       "    .dataframe thead th {\n",
       "        text-align: right;\n",
       "    }\n",
       "</style>\n",
       "<table border=\"1\" class=\"dataframe\">\n",
       "  <thead>\n",
       "    <tr style=\"text-align: right;\">\n",
       "      <th></th>\n",
       "      <th>brand</th>\n",
       "      <th>body</th>\n",
       "      <th>price</th>\n",
       "      <th>user_rating</th>\n",
       "      <th>item_title</th>\n",
       "    </tr>\n",
       "  </thead>\n",
       "  <tbody>\n",
       "    <tr>\n",
       "      <th>14</th>\n",
       "      <td>Motorola</td>\n",
       "      <td>DON'T BUY OUT OF SERVICE</td>\n",
       "      <td>49.9500000</td>\n",
       "      <td>3.0000000</td>\n",
       "      <td>Stupid phone</td>\n",
       "    </tr>\n",
       "    <tr>\n",
       "      <th>17</th>\n",
       "      <td>Motorola</td>\n",
       "      <td>1 star because the phones locked so I have to ...</td>\n",
       "      <td>49.9500000</td>\n",
       "      <td>3.0000000</td>\n",
       "      <td>Phones locked</td>\n",
       "    </tr>\n",
       "    <tr>\n",
       "      <th>18</th>\n",
       "      <td>Motorola</td>\n",
       "      <td>The product has been very good. I had used thi...</td>\n",
       "      <td>49.9500000</td>\n",
       "      <td>3.0000000</td>\n",
       "      <td>Excellent product</td>\n",
       "    </tr>\n",
       "    <tr>\n",
       "      <th>21</th>\n",
       "      <td>Motorola</td>\n",
       "      <td>I bought this phone to replace an LG phone tha...</td>\n",
       "      <td>99.9900000</td>\n",
       "      <td>2.7000000</td>\n",
       "      <td>Nice, but</td>\n",
       "    </tr>\n",
       "    <tr>\n",
       "      <th>22</th>\n",
       "      <td>Motorola</td>\n",
       "      <td>I purchased this phone for my AT&amp;T phone repla...</td>\n",
       "      <td>99.9900000</td>\n",
       "      <td>2.7000000</td>\n",
       "      <td>It seems it doesn't work with the existing AT&amp;...</td>\n",
       "    </tr>\n",
       "  </tbody>\n",
       "</table>\n",
       "</div>"
      ],
      "text/plain": [
       "       brand                                               body      price  \\\n",
       "14  Motorola                           DON'T BUY OUT OF SERVICE 49.9500000   \n",
       "17  Motorola  1 star because the phones locked so I have to ... 49.9500000   \n",
       "18  Motorola  The product has been very good. I had used thi... 49.9500000   \n",
       "21  Motorola  I bought this phone to replace an LG phone tha... 99.9900000   \n",
       "22  Motorola  I purchased this phone for my AT&T phone repla... 99.9900000   \n",
       "\n",
       "    user_rating                                         item_title  \n",
       "14    3.0000000                                       Stupid phone  \n",
       "17    3.0000000                                      Phones locked  \n",
       "18    3.0000000                                  Excellent product  \n",
       "21    2.7000000                                          Nice, but  \n",
       "22    2.7000000  It seems it doesn't work with the existing AT&...  "
      ]
     },
     "execution_count": 55,
     "metadata": {
      "tags": []
     },
     "output_type": "execute_result"
    }
   ],
   "source": [
    "verified_df_imp.head()"
   ]
  },
  {
   "cell_type": "markdown",
   "metadata": {
    "id": "Gzo_rVT60fDf"
   },
   "source": [
    "### 4.13 Perform univariate analysis. Check distribution of price, user_rating"
   ]
  },
  {
   "cell_type": "code",
   "execution_count": 57,
   "metadata": {
    "colab": {
     "base_uri": "https://localhost:8080/",
     "height": 497
    },
    "id": "F3vzILxZ0t0L",
    "outputId": "9180227a-e3bf-4332-bba9-08c06b05b0e4"
   },
   "outputs": [
    {
     "data": {
      "image/png": "[encoded data removed]",
      "text/plain": [
       "<Figure size 864x576 with 1 Axes>"
      ]
     },
     "metadata": {
      "needs_background": "light",
      "tags": []
     },
     "output_type": "display_data"
    }
   ],
   "source": [
    "plt.figure(figsize=(12,8))\n",
    "sns.distplot(verified_df_imp['price'])\n",
    "plt.show()"
   ]
  },
  {
   "cell_type": "markdown",
   "metadata": {
    "id": "abPJ6bY7Qu8q"
   },
   "source": [
    "1.   Most products are priced 0\n",
    "2.   Prices seems to be left skewed\n",
    "\n"
   ]
  },
  {
   "cell_type": "code",
   "execution_count": 58,
   "metadata": {
    "colab": {
     "base_uri": "https://localhost:8080/",
     "height": 498
    },
    "id": "QTRirxi64rIz",
    "outputId": "4fd56fef-378e-4e25-8659-d10916a64804"
   },
   "outputs": [
    {
     "data": {
      "image/png": "[encoded data removed]",
      "text/plain": [
       "<Figure size 864x576 with 1 Axes>"
      ]
     },
     "metadata": {
      "needs_background": "light",
      "tags": []
     },
     "output_type": "display_data"
    }
   ],
   "source": [
    "plt.figure(figsize=(12,8))\n",
    "sns.distplot(verified_df_imp['user_rating'])\n",
    "plt.show()"
   ]
  },
  {
   "cell_type": "markdown",
   "metadata": {
    "id": "PstrHfhURcZC"
   },
   "source": [
    "1.   Most user_ratings  in the range 3 to 4.5\n",
    "2.   user_ratings seems to be right skewed"
   ]
  },
  {
   "cell_type": "markdown",
   "metadata": {
    "id": "x0Y_kE9T0uAf"
   },
   "source": [
    "### 4.14 Create a new column called \"sentiment\". It should have value as 1 (positive) if the user_Rating is greater than 3, value as 0 (neutral) if the user_Rating == 3, and -1 (negative) is the user_Rating is less than 3."
   ]
  },
  {
   "cell_type": "code",
   "execution_count": 60,
   "metadata": {
    "id": "jGon-2xU1Ujb"
   },
   "outputs": [],
   "source": [
    "# function to create the sentiment \n",
    "def assign_sentiment(rating):\n",
    "  if (rating==3):\n",
    "    return 0\n",
    "  elif (rating > 3):\n",
    "    return 1\n",
    "  else:\n",
    "    return -1"
   ]
  },
  {
   "cell_type": "code",
   "execution_count": 61,
   "metadata": {
    "id": "X5QIGhYq8G0g"
   },
   "outputs": [],
   "source": [
    "# assigning the sentiment feature\n",
    "verified_df_imp['sentiment'] = verified_df_imp['user_rating'].apply(lambda x: assign_sentiment(x))"
   ]
  },
  {
   "cell_type": "markdown",
   "metadata": {
    "id": "K4rxSZWp1VAb"
   },
   "source": [
    "### 4.15 Check frequency distribution of the 'sentiment'"
   ]
  },
  {
   "cell_type": "code",
   "execution_count": 62,
   "metadata": {
    "colab": {
     "base_uri": "https://localhost:8080/"
    },
    "id": "yt3gH7Iz1dVP",
    "outputId": "a46da207-de3e-44cb-dfca-2c828aa24a3a"
   },
   "outputs": [
    {
     "data": {
      "text/plain": [
       " 1    57967\n",
       "-1     2098\n",
       " 0     1160\n",
       "Name: sentiment, dtype: int64"
      ]
     },
     "execution_count": 62,
     "metadata": {
      "tags": []
     },
     "output_type": "execute_result"
    }
   ],
   "source": [
    "verified_df_imp['sentiment'].value_counts()"
   ]
  },
  {
   "cell_type": "code",
   "execution_count": 65,
   "metadata": {
    "colab": {
     "base_uri": "https://localhost:8080/",
     "height": 334
    },
    "id": "7aTbxgFP8ncv",
    "outputId": "2f551534-6040-44b6-b96a-b0d6391298ce"
   },
   "outputs": [
    {
     "data": {
      "image/png": "[encoded data removed]",
      "text/plain": [
       "<Figure size 576x360 with 1 Axes>"
      ]
     },
     "metadata": {
      "needs_background": "light",
      "tags": []
     },
     "output_type": "display_data"
    }
   ],
   "source": [
    "plt.figure(figsize=(8,5))\n",
    "sns.countplot(verified_df_imp['sentiment'])\n",
    "plt.show()"
   ]
  },
  {
   "cell_type": "markdown",
   "metadata": {
    "id": "uIpLD-TPS_1L"
   },
   "source": [
    "\n",
    "\n",
    "*   We can see the sentiment class is imbalanced\n",
    "*   Almost 95% has sentiment value of 1\n",
    "\n"
   ]
  },
  {
   "cell_type": "markdown",
   "metadata": {
    "id": "rK0KMghP1ddb"
   },
   "source": [
    "### 4.16 Perform bivariate analysis. Check correlation/crosstab between features and write your inferences."
   ]
  },
  {
   "cell_type": "code",
   "execution_count": null,
   "metadata": {
    "colab": {
     "base_uri": "https://localhost:8080/",
     "height": 370
    },
    "id": "0xhyCdKN-Qg7",
    "outputId": "3a0d7327-505f-4fd8-f4e5-4f6ace3f2509"
   },
   "outputs": [
    {
     "data": {
      "text/html": [
       "<div>\n",
       "<style scoped>\n",
       "    .dataframe tbody tr th:only-of-type {\n",
       "        vertical-align: middle;\n",
       "    }\n",
       "\n",
       "    .dataframe tbody tr th {\n",
       "        vertical-align: top;\n",
       "    }\n",
       "\n",
       "    .dataframe thead th {\n",
       "        text-align: right;\n",
       "    }\n",
       "</style>\n",
       "<table border=\"1\" class=\"dataframe\">\n",
       "  <thead>\n",
       "    <tr style=\"text-align: right;\">\n",
       "      <th>sentiment</th>\n",
       "      <th>-1</th>\n",
       "      <th>0</th>\n",
       "      <th>1</th>\n",
       "    </tr>\n",
       "    <tr>\n",
       "      <th>brand</th>\n",
       "      <th></th>\n",
       "      <th></th>\n",
       "      <th></th>\n",
       "    </tr>\n",
       "  </thead>\n",
       "  <tbody>\n",
       "    <tr>\n",
       "      <th>ASUS</th>\n",
       "      <td>1</td>\n",
       "      <td>0</td>\n",
       "      <td>205</td>\n",
       "    </tr>\n",
       "    <tr>\n",
       "      <th>Apple</th>\n",
       "      <td>65</td>\n",
       "      <td>0</td>\n",
       "      <td>4811</td>\n",
       "    </tr>\n",
       "    <tr>\n",
       "      <th>Google</th>\n",
       "      <td>283</td>\n",
       "      <td>18</td>\n",
       "      <td>2862</td>\n",
       "    </tr>\n",
       "    <tr>\n",
       "      <th>HUAWEI</th>\n",
       "      <td>2</td>\n",
       "      <td>1</td>\n",
       "      <td>2016</td>\n",
       "    </tr>\n",
       "    <tr>\n",
       "      <th>Motorola</th>\n",
       "      <td>461</td>\n",
       "      <td>578</td>\n",
       "      <td>6675</td>\n",
       "    </tr>\n",
       "    <tr>\n",
       "      <th>Nokia</th>\n",
       "      <td>192</td>\n",
       "      <td>217</td>\n",
       "      <td>4469</td>\n",
       "    </tr>\n",
       "    <tr>\n",
       "      <th>OnePlus</th>\n",
       "      <td>0</td>\n",
       "      <td>0</td>\n",
       "      <td>304</td>\n",
       "    </tr>\n",
       "    <tr>\n",
       "      <th>Samsung</th>\n",
       "      <td>1094</td>\n",
       "      <td>100</td>\n",
       "      <td>29826</td>\n",
       "    </tr>\n",
       "    <tr>\n",
       "      <th>Sony</th>\n",
       "      <td>0</td>\n",
       "      <td>246</td>\n",
       "      <td>2445</td>\n",
       "    </tr>\n",
       "    <tr>\n",
       "      <th>Xiaomi</th>\n",
       "      <td>0</td>\n",
       "      <td>0</td>\n",
       "      <td>4207</td>\n",
       "    </tr>\n",
       "  </tbody>\n",
       "</table>\n",
       "</div>"
      ],
      "text/plain": [
       "sentiment    -1    0      1\n",
       "brand                      \n",
       "ASUS          1    0    205\n",
       "Apple        65    0   4811\n",
       "Google      283   18   2862\n",
       "HUAWEI        2    1   2016\n",
       "Motorola    461  578   6675\n",
       "Nokia       192  217   4469\n",
       "OnePlus       0    0    304\n",
       "Samsung    1094  100  29826\n",
       "Sony          0  246   2445\n",
       "Xiaomi        0    0   4207"
      ]
     },
     "execution_count": 92,
     "metadata": {
      "tags": []
     },
     "output_type": "execute_result"
    }
   ],
   "source": [
    "pd.crosstab(verified_df_imp['sentiment'], verified_df_imp['brand']).T"
   ]
  },
  {
   "cell_type": "code",
   "execution_count": 68,
   "metadata": {
    "colab": {
     "base_uri": "https://localhost:8080/",
     "height": 333
    },
    "id": "JxZ6-vdR-fdh",
    "outputId": "f3a92da4-3631-4509-d1d7-04ac59d7735e"
   },
   "outputs": [
    {
     "data": {
      "text/plain": [
       "<matplotlib.axes._subplots.AxesSubplot at 0x7f77608ce2b0>"
      ]
     },
     "execution_count": 68,
     "metadata": {
      "tags": []
     },
     "output_type": "execute_result"
    },
    {
     "data": {
      "image/png": "[encoded data removed]",
      "text/plain": [
       "<Figure size 432x288 with 1 Axes>"
      ]
     },
     "metadata": {
      "needs_background": "light",
      "tags": []
     },
     "output_type": "display_data"
    }
   ],
   "source": [
    "pd.crosstab(verified_df_imp['sentiment'], verified_df_imp['brand']).T.plot(kind='bar')"
   ]
  },
  {
   "cell_type": "markdown",
   "metadata": {
    "id": "_MYs6RwfU2OO"
   },
   "source": [
    "From the plot we can infer that more dissatisified customers are towards Motorola and google"
   ]
  },
  {
   "cell_type": "markdown",
   "metadata": {
    "id": "2Nzj7ZXVLakx"
   },
   "source": [
    "## 5. Text Preprocessing and Vectorization"
   ]
  },
  {
   "cell_type": "markdown",
   "metadata": {
    "id": "ZbC_RPndnlf3"
   },
   "source": [
    "We will analyze the 'body' and 'review_title' to gain more understanding.\n",
    "\n",
    "We will ppeform the below tasks\n",
    "\n",
    "- Convert the text into lowercase\n",
    "- Remove punctuation\n",
    "- Remove stopwords (English, from nltk corpus)\n",
    "- Remove other keywords like \"phone\" and brand name"
   ]
  },
  {
   "cell_type": "markdown",
   "metadata": {
    "id": "XnhMQsxz2DJH"
   },
   "source": [
    "### 5.1 Change the datatype of the 'body' column to 'str' and convert it into lowercase. Print any two samples and check the output."
   ]
  },
  {
   "cell_type": "code",
   "execution_count": 69,
   "metadata": {
    "id": "rC8kG7MFV3KD"
   },
   "outputs": [],
   "source": [
    "# converting the feature to type string\n",
    "verified_df_imp['body'] = verified_df_imp['body'].astype(str)"
   ]
  },
  {
   "cell_type": "code",
   "execution_count": 70,
   "metadata": {
    "colab": {
     "base_uri": "https://localhost:8080/"
    },
    "id": "1DbTf2yc2VOQ",
    "outputId": "0cd9f3e2-8837-444e-9f30-15c950f16240"
   },
   "outputs": [
    {
     "data": {
      "text/plain": [
       "dtype('O')"
      ]
     },
     "execution_count": 70,
     "metadata": {
      "tags": []
     },
     "output_type": "execute_result"
    }
   ],
   "source": [
    "verified_df_imp['body'].dtype"
   ]
  },
  {
   "cell_type": "code",
   "execution_count": 74,
   "metadata": {
    "id": "zVCAxRvxCBsn"
   },
   "outputs": [],
   "source": [
    "# converting the case to lowecase\n",
    "verified_df_imp['body'] = verified_df_imp['body'].apply(lambda x : str(x).lower())"
   ]
  },
  {
   "cell_type": "code",
   "execution_count": 75,
   "metadata": {
    "colab": {
     "base_uri": "https://localhost:8080/"
    },
    "id": "7elpRLUWC5QY",
    "outputId": "3f29e8c6-c284-47e7-973a-c0a277527c47"
   },
   "outputs": [
    {
     "data": {
      "text/plain": [
       "64772                            amazing phone works great\n",
       "29137    it is supposed to be a reconditioned phone i d...\n",
       "21499                              good item for the price\n",
       "65382    this phone works just as advertised it made me...\n",
       "15381    great phone bought it for my wife already thin...\n",
       "Name: body, dtype: object"
      ]
     },
     "execution_count": 75,
     "metadata": {
      "tags": []
     },
     "output_type": "execute_result"
    }
   ],
   "source": [
    "verified_df_imp['body'].sample(5)"
   ]
  },
  {
   "cell_type": "code",
   "execution_count": 76,
   "metadata": {
    "colab": {
     "base_uri": "https://localhost:8080/",
     "height": 204
    },
    "id": "_-tU6X95C9vO",
    "outputId": "e57b9ac6-4dfd-4b04-db4c-7014df765aa3"
   },
   "outputs": [
    {
     "data": {
      "text/html": [
       "<div>\n",
       "<style scoped>\n",
       "    .dataframe tbody tr th:only-of-type {\n",
       "        vertical-align: middle;\n",
       "    }\n",
       "\n",
       "    .dataframe tbody tr th {\n",
       "        vertical-align: top;\n",
       "    }\n",
       "\n",
       "    .dataframe thead th {\n",
       "        text-align: right;\n",
       "    }\n",
       "</style>\n",
       "<table border=\"1\" class=\"dataframe\">\n",
       "  <thead>\n",
       "    <tr style=\"text-align: right;\">\n",
       "      <th></th>\n",
       "      <th>brand</th>\n",
       "      <th>body</th>\n",
       "      <th>price</th>\n",
       "      <th>user_rating</th>\n",
       "      <th>item_title</th>\n",
       "      <th>sentiment</th>\n",
       "    </tr>\n",
       "  </thead>\n",
       "  <tbody>\n",
       "    <tr>\n",
       "      <th>14</th>\n",
       "      <td>Motorola</td>\n",
       "      <td>dont buy out of service</td>\n",
       "      <td>49.9500000</td>\n",
       "      <td>3.0000000</td>\n",
       "      <td>Stupid phone</td>\n",
       "      <td>0</td>\n",
       "    </tr>\n",
       "    <tr>\n",
       "      <th>17</th>\n",
       "      <td>Motorola</td>\n",
       "      <td>1 star because the phones locked so i have to ...</td>\n",
       "      <td>49.9500000</td>\n",
       "      <td>3.0000000</td>\n",
       "      <td>Phones locked</td>\n",
       "      <td>0</td>\n",
       "    </tr>\n",
       "    <tr>\n",
       "      <th>18</th>\n",
       "      <td>Motorola</td>\n",
       "      <td>the product has been very good i had used this...</td>\n",
       "      <td>49.9500000</td>\n",
       "      <td>3.0000000</td>\n",
       "      <td>Excellent product</td>\n",
       "      <td>0</td>\n",
       "    </tr>\n",
       "    <tr>\n",
       "      <th>21</th>\n",
       "      <td>Motorola</td>\n",
       "      <td>i bought this phone to replace an lg phone tha...</td>\n",
       "      <td>99.9900000</td>\n",
       "      <td>2.7000000</td>\n",
       "      <td>Nice, but</td>\n",
       "      <td>-1</td>\n",
       "    </tr>\n",
       "    <tr>\n",
       "      <th>22</th>\n",
       "      <td>Motorola</td>\n",
       "      <td>i purchased this phone for my att phone replac...</td>\n",
       "      <td>99.9900000</td>\n",
       "      <td>2.7000000</td>\n",
       "      <td>It seems it doesn't work with the existing AT&amp;...</td>\n",
       "      <td>-1</td>\n",
       "    </tr>\n",
       "  </tbody>\n",
       "</table>\n",
       "</div>"
      ],
      "text/plain": [
       "       brand                                               body      price  \\\n",
       "14  Motorola                            dont buy out of service 49.9500000   \n",
       "17  Motorola  1 star because the phones locked so i have to ... 49.9500000   \n",
       "18  Motorola  the product has been very good i had used this... 49.9500000   \n",
       "21  Motorola  i bought this phone to replace an lg phone tha... 99.9900000   \n",
       "22  Motorola  i purchased this phone for my att phone replac... 99.9900000   \n",
       "\n",
       "    user_rating                                         item_title  sentiment  \n",
       "14    3.0000000                                       Stupid phone          0  \n",
       "17    3.0000000                                      Phones locked          0  \n",
       "18    3.0000000                                  Excellent product          0  \n",
       "21    2.7000000                                          Nice, but         -1  \n",
       "22    2.7000000  It seems it doesn't work with the existing AT&...         -1  "
      ]
     },
     "execution_count": 76,
     "metadata": {
      "tags": []
     },
     "output_type": "execute_result"
    }
   ],
   "source": [
    "verified_df_imp.head()"
   ]
  },
  {
   "cell_type": "markdown",
   "metadata": {
    "id": "lsppV0X52VXf"
   },
   "source": [
    "### 5.2 Remove punctuations from the lowercased 'body' column and display at least two samples."
   ]
  },
  {
   "cell_type": "code",
   "execution_count": 77,
   "metadata": {
    "id": "lQXKc8et2onG"
   },
   "outputs": [],
   "source": [
    "# removing the punctuation for the body feature\n",
    "verified_df_imp['body'] =   verified_df_imp['body'].str.replace('[^\\w\\s]','')"
   ]
  },
  {
   "cell_type": "code",
   "execution_count": 78,
   "metadata": {
    "colab": {
     "base_uri": "https://localhost:8080/"
    },
    "id": "Q5sdPKUdDtdu",
    "outputId": "1e76561e-b08f-4088-a0a0-45000921009d"
   },
   "outputs": [
    {
     "data": {
      "text/plain": [
       "37442    nice phone with a ton of features i really lik...\n",
       "48912    the only thing about this phone is that it say...\n",
       "49330    the 192 i spent in this phone are all there th...\n",
       "64581    its a good cellphone looks so pretty and chic ...\n",
       "40192    everthing is fine but taking video as it stops...\n",
       "Name: body, dtype: object"
      ]
     },
     "execution_count": 78,
     "metadata": {
      "tags": []
     },
     "output_type": "execute_result"
    }
   ],
   "source": [
    "verified_df_imp['body'].sample(5)"
   ]
  },
  {
   "cell_type": "code",
   "execution_count": 79,
   "metadata": {
    "colab": {
     "base_uri": "https://localhost:8080/",
     "height": 204
    },
    "id": "NTaXUb8sD0hw",
    "outputId": "f79844f5-f6b2-4782-bbe0-c85ffeb646c6"
   },
   "outputs": [
    {
     "data": {
      "text/html": [
       "<div>\n",
       "<style scoped>\n",
       "    .dataframe tbody tr th:only-of-type {\n",
       "        vertical-align: middle;\n",
       "    }\n",
       "\n",
       "    .dataframe tbody tr th {\n",
       "        vertical-align: top;\n",
       "    }\n",
       "\n",
       "    .dataframe thead th {\n",
       "        text-align: right;\n",
       "    }\n",
       "</style>\n",
       "<table border=\"1\" class=\"dataframe\">\n",
       "  <thead>\n",
       "    <tr style=\"text-align: right;\">\n",
       "      <th></th>\n",
       "      <th>brand</th>\n",
       "      <th>body</th>\n",
       "      <th>price</th>\n",
       "      <th>user_rating</th>\n",
       "      <th>item_title</th>\n",
       "      <th>sentiment</th>\n",
       "    </tr>\n",
       "  </thead>\n",
       "  <tbody>\n",
       "    <tr>\n",
       "      <th>14</th>\n",
       "      <td>Motorola</td>\n",
       "      <td>dont buy out of service</td>\n",
       "      <td>49.9500000</td>\n",
       "      <td>3.0000000</td>\n",
       "      <td>Stupid phone</td>\n",
       "      <td>0</td>\n",
       "    </tr>\n",
       "    <tr>\n",
       "      <th>17</th>\n",
       "      <td>Motorola</td>\n",
       "      <td>1 star because the phones locked so i have to ...</td>\n",
       "      <td>49.9500000</td>\n",
       "      <td>3.0000000</td>\n",
       "      <td>Phones locked</td>\n",
       "      <td>0</td>\n",
       "    </tr>\n",
       "    <tr>\n",
       "      <th>18</th>\n",
       "      <td>Motorola</td>\n",
       "      <td>the product has been very good i had used this...</td>\n",
       "      <td>49.9500000</td>\n",
       "      <td>3.0000000</td>\n",
       "      <td>Excellent product</td>\n",
       "      <td>0</td>\n",
       "    </tr>\n",
       "    <tr>\n",
       "      <th>21</th>\n",
       "      <td>Motorola</td>\n",
       "      <td>i bought this phone to replace an lg phone tha...</td>\n",
       "      <td>99.9900000</td>\n",
       "      <td>2.7000000</td>\n",
       "      <td>Nice, but</td>\n",
       "      <td>-1</td>\n",
       "    </tr>\n",
       "    <tr>\n",
       "      <th>22</th>\n",
       "      <td>Motorola</td>\n",
       "      <td>i purchased this phone for my att phone replac...</td>\n",
       "      <td>99.9900000</td>\n",
       "      <td>2.7000000</td>\n",
       "      <td>It seems it doesn't work with the existing AT&amp;...</td>\n",
       "      <td>-1</td>\n",
       "    </tr>\n",
       "  </tbody>\n",
       "</table>\n",
       "</div>"
      ],
      "text/plain": [
       "       brand                                               body      price  \\\n",
       "14  Motorola                            dont buy out of service 49.9500000   \n",
       "17  Motorola  1 star because the phones locked so i have to ... 49.9500000   \n",
       "18  Motorola  the product has been very good i had used this... 49.9500000   \n",
       "21  Motorola  i bought this phone to replace an lg phone tha... 99.9900000   \n",
       "22  Motorola  i purchased this phone for my att phone replac... 99.9900000   \n",
       "\n",
       "    user_rating                                         item_title  sentiment  \n",
       "14    3.0000000                                       Stupid phone          0  \n",
       "17    3.0000000                                      Phones locked          0  \n",
       "18    3.0000000                                  Excellent product          0  \n",
       "21    2.7000000                                          Nice, but         -1  \n",
       "22    2.7000000  It seems it doesn't work with the existing AT&...         -1  "
      ]
     },
     "execution_count": 79,
     "metadata": {
      "tags": []
     },
     "output_type": "execute_result"
    }
   ],
   "source": [
    "verified_df_imp.head()"
   ]
  },
  {
   "cell_type": "markdown",
   "metadata": {
    "id": "8Zk7ja6A2owN"
   },
   "source": [
    "### 5.3 Remove stop words from the above pre-processed 'body' column and display at least two samples."
   ]
  },
  {
   "cell_type": "code",
   "execution_count": 80,
   "metadata": {
    "colab": {
     "base_uri": "https://localhost:8080/"
    },
    "id": "1d-DhX_e2yQ-",
    "outputId": "3d0b2fa6-d381-4d00-bd96-cfc983ee755c"
   },
   "outputs": [
    {
     "name": "stdout",
     "output_type": "stream",
     "text": [
      "[nltk_data] Downloading package stopwords to /root/nltk_data...\n",
      "[nltk_data]   Unzipping corpora/stopwords.zip.\n"
     ]
    },
    {
     "data": {
      "text/plain": [
       "True"
      ]
     },
     "execution_count": 80,
     "metadata": {
      "tags": []
     },
     "output_type": "execute_result"
    }
   ],
   "source": [
    "# importing library for removing stop words\n",
    "import  nltk\n",
    "nltk.download('stopwords')"
   ]
  },
  {
   "cell_type": "code",
   "execution_count": 82,
   "metadata": {
    "id": "gYuz13iiGndv"
   },
   "outputs": [],
   "source": [
    "from nltk.corpus import  stopwords"
   ]
  },
  {
   "cell_type": "code",
   "execution_count": 83,
   "metadata": {
    "id": "5UdkIxIHGpcu"
   },
   "outputs": [],
   "source": [
    "# setting the stop words\n",
    "stop_w = set(stopwords.words('english'))"
   ]
  },
  {
   "cell_type": "code",
   "execution_count": 84,
   "metadata": {
    "id": "TAzIe_drGy1n"
   },
   "outputs": [],
   "source": [
    "# removing the stop words \n",
    "verified_df_imp['body'] = verified_df_imp['body'].apply(lambda words: ' '.join(word for word in words.split() if word not in stop_w))"
   ]
  },
  {
   "cell_type": "code",
   "execution_count": 85,
   "metadata": {
    "colab": {
     "base_uri": "https://localhost:8080/",
     "height": 204
    },
    "id": "hR5b11JbHrAR",
    "outputId": "bf38beec-cf4e-4842-8115-c6d8cd44fa2f"
   },
   "outputs": [
    {
     "data": {
      "text/html": [
       "<div>\n",
       "<style scoped>\n",
       "    .dataframe tbody tr th:only-of-type {\n",
       "        vertical-align: middle;\n",
       "    }\n",
       "\n",
       "    .dataframe tbody tr th {\n",
       "        vertical-align: top;\n",
       "    }\n",
       "\n",
       "    .dataframe thead th {\n",
       "        text-align: right;\n",
       "    }\n",
       "</style>\n",
       "<table border=\"1\" class=\"dataframe\">\n",
       "  <thead>\n",
       "    <tr style=\"text-align: right;\">\n",
       "      <th></th>\n",
       "      <th>brand</th>\n",
       "      <th>body</th>\n",
       "      <th>price</th>\n",
       "      <th>user_rating</th>\n",
       "      <th>item_title</th>\n",
       "      <th>sentiment</th>\n",
       "    </tr>\n",
       "  </thead>\n",
       "  <tbody>\n",
       "    <tr>\n",
       "      <th>14</th>\n",
       "      <td>Motorola</td>\n",
       "      <td>dont buy service</td>\n",
       "      <td>49.9500000</td>\n",
       "      <td>3.0000000</td>\n",
       "      <td>Stupid phone</td>\n",
       "      <td>0</td>\n",
       "    </tr>\n",
       "    <tr>\n",
       "      <th>17</th>\n",
       "      <td>Motorola</td>\n",
       "      <td>1 star phones locked pay additional fees unlock</td>\n",
       "      <td>49.9500000</td>\n",
       "      <td>3.0000000</td>\n",
       "      <td>Phones locked</td>\n",
       "      <td>0</td>\n",
       "    </tr>\n",
       "    <tr>\n",
       "      <th>18</th>\n",
       "      <td>Motorola</td>\n",
       "      <td>product good used cell phone one projects work...</td>\n",
       "      <td>49.9500000</td>\n",
       "      <td>3.0000000</td>\n",
       "      <td>Excellent product</td>\n",
       "      <td>0</td>\n",
       "    </tr>\n",
       "    <tr>\n",
       "      <th>21</th>\n",
       "      <td>Motorola</td>\n",
       "      <td>bought phone replace lg phone didnt like expec...</td>\n",
       "      <td>99.9900000</td>\n",
       "      <td>2.7000000</td>\n",
       "      <td>Nice, but</td>\n",
       "      <td>-1</td>\n",
       "    </tr>\n",
       "    <tr>\n",
       "      <th>22</th>\n",
       "      <td>Motorola</td>\n",
       "      <td>purchased phone att phone replacement even tho...</td>\n",
       "      <td>99.9900000</td>\n",
       "      <td>2.7000000</td>\n",
       "      <td>It seems it doesn't work with the existing AT&amp;...</td>\n",
       "      <td>-1</td>\n",
       "    </tr>\n",
       "  </tbody>\n",
       "</table>\n",
       "</div>"
      ],
      "text/plain": [
       "       brand                                               body      price  \\\n",
       "14  Motorola                                   dont buy service 49.9500000   \n",
       "17  Motorola    1 star phones locked pay additional fees unlock 49.9500000   \n",
       "18  Motorola  product good used cell phone one projects work... 49.9500000   \n",
       "21  Motorola  bought phone replace lg phone didnt like expec... 99.9900000   \n",
       "22  Motorola  purchased phone att phone replacement even tho... 99.9900000   \n",
       "\n",
       "    user_rating                                         item_title  sentiment  \n",
       "14    3.0000000                                       Stupid phone          0  \n",
       "17    3.0000000                                      Phones locked          0  \n",
       "18    3.0000000                                  Excellent product          0  \n",
       "21    2.7000000                                          Nice, but         -1  \n",
       "22    2.7000000  It seems it doesn't work with the existing AT&...         -1  "
      ]
     },
     "execution_count": 85,
     "metadata": {
      "tags": []
     },
     "output_type": "execute_result"
    }
   ],
   "source": [
    "verified_df_imp.head()"
   ]
  },
  {
   "cell_type": "markdown",
   "metadata": {
    "id": "TQNvXay42yaQ"
   },
   "source": [
    "### 5.4 Apply lemmatisation on the above preprocessed text and display a few samples"
   ]
  },
  {
   "cell_type": "code",
   "execution_count": 88,
   "metadata": {
    "colab": {
     "base_uri": "https://localhost:8080/"
    },
    "id": "oQ1VfFaa3DET",
    "outputId": "298d8ca9-dffa-4326-bc3a-d8ec1fdc845f"
   },
   "outputs": [
    {
     "name": "stdout",
     "output_type": "stream",
     "text": [
      "[nltk_data] Downloading package wordnet to /root/nltk_data...\n",
      "[nltk_data]   Package wordnet is already up-to-date!\n"
     ]
    },
    {
     "data": {
      "text/plain": [
       "True"
      ]
     },
     "execution_count": 88,
     "metadata": {
      "tags": []
     },
     "output_type": "execute_result"
    }
   ],
   "source": [
    "# downloading for lemmatisation\n",
    "nltk.download('wordnet')"
   ]
  },
  {
   "cell_type": "code",
   "execution_count": 89,
   "metadata": {
    "id": "TG_NsLSqKpoH"
   },
   "outputs": [],
   "source": [
    "# importing for lemmatisation\n",
    "from nltk.stem import WordNetLemmatizer\n",
    "w_tokenizer = nltk.tokenize.WhitespaceTokenizer()"
   ]
  },
  {
   "cell_type": "code",
   "execution_count": 90,
   "metadata": {
    "id": "rU77HS5qKRSG"
   },
   "outputs": [],
   "source": [
    "def lemmatize_text(text):\n",
    "    lemmatizer = WordNetLemmatizer()\n",
    "    return ' '.join([lemmatizer.lemmatize(word) for word in w_tokenizer.tokenize(text)])"
   ]
  },
  {
   "cell_type": "code",
   "execution_count": 91,
   "metadata": {
    "id": "ajlCfBcsMb3a"
   },
   "outputs": [],
   "source": [
    "# applying lemmatisation\n",
    "verified_df_imp['body'] = verified_df_imp['body'].apply(lemmatize_text)"
   ]
  },
  {
   "cell_type": "code",
   "execution_count": 92,
   "metadata": {
    "colab": {
     "base_uri": "https://localhost:8080/"
    },
    "id": "xdaA_sWqMlG7",
    "outputId": "40402a58-9884-431a-f1cf-db153951912c"
   },
   "outputs": [
    {
     "data": {
      "text/plain": [
       "5000     got phone 2 day fell love phone exceeded standard\n",
       "28969    celular en perfecto estado todo ha funcionado ...\n",
       "51158                                         easy husband\n",
       "6979                                     work perfect love\n",
       "20622               estaba bien pero funcionaba con mi red\n",
       "Name: body, dtype: object"
      ]
     },
     "execution_count": 92,
     "metadata": {
      "tags": []
     },
     "output_type": "execute_result"
    }
   ],
   "source": [
    "verified_df_imp['body'] .sample(5)"
   ]
  },
  {
   "cell_type": "code",
   "execution_count": 93,
   "metadata": {
    "colab": {
     "base_uri": "https://localhost:8080/",
     "height": 204
    },
    "id": "zZDWHDRjMtHa",
    "outputId": "29287b2c-08b0-4ef1-f4b2-50934ba3ea08"
   },
   "outputs": [
    {
     "data": {
      "text/html": [
       "<div>\n",
       "<style scoped>\n",
       "    .dataframe tbody tr th:only-of-type {\n",
       "        vertical-align: middle;\n",
       "    }\n",
       "\n",
       "    .dataframe tbody tr th {\n",
       "        vertical-align: top;\n",
       "    }\n",
       "\n",
       "    .dataframe thead th {\n",
       "        text-align: right;\n",
       "    }\n",
       "</style>\n",
       "<table border=\"1\" class=\"dataframe\">\n",
       "  <thead>\n",
       "    <tr style=\"text-align: right;\">\n",
       "      <th></th>\n",
       "      <th>brand</th>\n",
       "      <th>body</th>\n",
       "      <th>price</th>\n",
       "      <th>user_rating</th>\n",
       "      <th>item_title</th>\n",
       "      <th>sentiment</th>\n",
       "    </tr>\n",
       "  </thead>\n",
       "  <tbody>\n",
       "    <tr>\n",
       "      <th>14</th>\n",
       "      <td>Motorola</td>\n",
       "      <td>dont buy service</td>\n",
       "      <td>49.9500000</td>\n",
       "      <td>3.0000000</td>\n",
       "      <td>Stupid phone</td>\n",
       "      <td>0</td>\n",
       "    </tr>\n",
       "    <tr>\n",
       "      <th>17</th>\n",
       "      <td>Motorola</td>\n",
       "      <td>1 star phone locked pay additional fee unlock</td>\n",
       "      <td>49.9500000</td>\n",
       "      <td>3.0000000</td>\n",
       "      <td>Phones locked</td>\n",
       "      <td>0</td>\n",
       "    </tr>\n",
       "    <tr>\n",
       "      <th>18</th>\n",
       "      <td>Motorola</td>\n",
       "      <td>product good used cell phone one project worke...</td>\n",
       "      <td>49.9500000</td>\n",
       "      <td>3.0000000</td>\n",
       "      <td>Excellent product</td>\n",
       "      <td>0</td>\n",
       "    </tr>\n",
       "    <tr>\n",
       "      <th>21</th>\n",
       "      <td>Motorola</td>\n",
       "      <td>bought phone replace lg phone didnt like expec...</td>\n",
       "      <td>99.9900000</td>\n",
       "      <td>2.7000000</td>\n",
       "      <td>Nice, but</td>\n",
       "      <td>-1</td>\n",
       "    </tr>\n",
       "    <tr>\n",
       "      <th>22</th>\n",
       "      <td>Motorola</td>\n",
       "      <td>purchased phone att phone replacement even tho...</td>\n",
       "      <td>99.9900000</td>\n",
       "      <td>2.7000000</td>\n",
       "      <td>It seems it doesn't work with the existing AT&amp;...</td>\n",
       "      <td>-1</td>\n",
       "    </tr>\n",
       "  </tbody>\n",
       "</table>\n",
       "</div>"
      ],
      "text/plain": [
       "       brand                                               body      price  \\\n",
       "14  Motorola                                   dont buy service 49.9500000   \n",
       "17  Motorola      1 star phone locked pay additional fee unlock 49.9500000   \n",
       "18  Motorola  product good used cell phone one project worke... 49.9500000   \n",
       "21  Motorola  bought phone replace lg phone didnt like expec... 99.9900000   \n",
       "22  Motorola  purchased phone att phone replacement even tho... 99.9900000   \n",
       "\n",
       "    user_rating                                         item_title  sentiment  \n",
       "14    3.0000000                                       Stupid phone          0  \n",
       "17    3.0000000                                      Phones locked          0  \n",
       "18    3.0000000                                  Excellent product          0  \n",
       "21    2.7000000                                          Nice, but         -1  \n",
       "22    2.7000000  It seems it doesn't work with the existing AT&...         -1  "
      ]
     },
     "execution_count": 93,
     "metadata": {
      "tags": []
     },
     "output_type": "execute_result"
    }
   ],
   "source": [
    "verified_df_imp.head()"
   ]
  },
  {
   "cell_type": "code",
   "execution_count": null,
   "metadata": {
    "id": "wm0ymxC5R82Z"
   },
   "outputs": [],
   "source": [
    "#df_new = verified_df_imp[: int(verified_df_imp.shape[0]*.2)]"
   ]
  },
  {
   "cell_type": "markdown",
   "metadata": {
    "id": "OzweL_fA3DiN"
   },
   "source": [
    "### 5.5 Write a function to check word frequency of the text"
   ]
  },
  {
   "cell_type": "code",
   "execution_count": null,
   "metadata": {
    "id": "MzIAyX3N6lz5"
   },
   "outputs": [],
   "source": []
  },
  {
   "cell_type": "markdown",
   "metadata": {
    "id": "s0UgcEo_6l8O"
   },
   "source": [
    "### 5.6 Check word frequency of review having top ratings (sentimet = 1) and display output of few samples"
   ]
  },
  {
   "cell_type": "code",
   "execution_count": null,
   "metadata": {
    "id": "BLEEFEmv60mU"
   },
   "outputs": [],
   "source": []
  },
  {
   "cell_type": "markdown",
   "metadata": {
    "id": "9UbdTGsv60t1"
   },
   "source": [
    "### 5.7 Initialize tf-idf vectorizer and transform the preprocessed body text"
   ]
  },
  {
   "cell_type": "code",
   "execution_count": 94,
   "metadata": {
    "id": "_Jfo6go_69yh"
   },
   "outputs": [],
   "source": [
    "# importing for vectorization\n",
    "from sklearn.feature_extraction.text import TfidfVectorizer"
   ]
  },
  {
   "cell_type": "code",
   "execution_count": 95,
   "metadata": {
    "id": "Sk_YjKSwP8GV"
   },
   "outputs": [],
   "source": [
    "tfidf_vec= TfidfVectorizer()"
   ]
  },
  {
   "cell_type": "code",
   "execution_count": 96,
   "metadata": {
    "id": "uRNMwMkBQCo2"
   },
   "outputs": [],
   "source": [
    "# applying tf-idf vectorizer to the foatures\n",
    "tfidf_data = tfidf_vec.fit_transform(verified_df_imp['body'])"
   ]
  },
  {
   "cell_type": "code",
   "execution_count": 97,
   "metadata": {
    "colab": {
     "base_uri": "https://localhost:8080/"
    },
    "id": "GH7McSSoQfo6",
    "outputId": "b9ed6b09-9063-476d-cc67-1cd656ec1251"
   },
   "outputs": [
    {
     "data": {
      "text/plain": [
       "(61225, 36034)"
      ]
     },
     "execution_count": 97,
     "metadata": {
      "tags": []
     },
     "output_type": "execute_result"
    }
   ],
   "source": [
    "tfidf_data.shape"
   ]
  },
  {
   "cell_type": "markdown",
   "metadata": {
    "id": "5dqPXETLKN0h"
   },
   "source": [
    "### 5.8 Segregate the data into dependent (sentiment) and independent (transformed body using tf-idf) features for building a classifier. "
   ]
  },
  {
   "cell_type": "code",
   "execution_count": 98,
   "metadata": {
    "id": "mpOLAYn07W6F"
   },
   "outputs": [],
   "source": [
    "X = tfidf_data"
   ]
  },
  {
   "cell_type": "code",
   "execution_count": 99,
   "metadata": {
    "id": "d1gXPqC5RWrg"
   },
   "outputs": [],
   "source": [
    "y = verified_df_imp['sentiment']"
   ]
  },
  {
   "cell_type": "markdown",
   "metadata": {
    "id": "4K03FO0q7XBP"
   },
   "source": [
    "### 5.9 Split the data into Train & Test Sets"
   ]
  },
  {
   "cell_type": "code",
   "execution_count": 101,
   "metadata": {
    "id": "u7uIqzelS0XV"
   },
   "outputs": [],
   "source": [
    "from sklearn.model_selection import train_test_split"
   ]
  },
  {
   "cell_type": "code",
   "execution_count": 102,
   "metadata": {
    "id": "D548-7cE7dZa"
   },
   "outputs": [],
   "source": [
    "# splitting to train and test\n",
    "x_train, x_test, y_train, y_test = train_test_split(X,y,random_state = 7)"
   ]
  },
  {
   "cell_type": "markdown",
   "metadata": {
    "id": "rhD1a-beKvE7"
   },
   "source": [
    "## 6. Model building"
   ]
  },
  {
   "cell_type": "markdown",
   "metadata": {
    "id": "UPFovmN03exD"
   },
   "source": [
    "### 6.1 Build a random forest classifier to predict the 'sentiment'\n",
    "### 6.2 Predict on test set\n",
    "### 6.3 Check accuracy and confusion matrix"
   ]
  },
  {
   "cell_type": "code",
   "execution_count": 103,
   "metadata": {
    "colab": {
     "base_uri": "https://localhost:8080/"
    },
    "id": "y0ytdD-_30P9",
    "outputId": "91e6467e-725b-4e62-8dda-a3ac34c96c64"
   },
   "outputs": [
    {
     "data": {
      "text/plain": [
       "RandomForestClassifier(bootstrap=True, ccp_alpha=0.0, class_weight=None,\n",
       "                       criterion='gini', max_depth=None, max_features='auto',\n",
       "                       max_leaf_nodes=None, max_samples=None,\n",
       "                       min_impurity_decrease=0.0, min_impurity_split=None,\n",
       "                       min_samples_leaf=1, min_samples_split=2,\n",
       "                       min_weight_fraction_leaf=0.0, n_estimators=100,\n",
       "                       n_jobs=None, oob_score=False, random_state=None,\n",
       "                       verbose=0, warm_start=False)"
      ]
     },
     "execution_count": 103,
     "metadata": {
      "tags": []
     },
     "output_type": "execute_result"
    }
   ],
   "source": [
    "# buiding random forest regressor\n",
    "from sklearn.ensemble  import RandomForestClassifier\n",
    "rf1 = RandomForestClassifier()\n",
    "rf1.fit(x_train, y_train)"
   ]
  },
  {
   "cell_type": "code",
   "execution_count": 104,
   "metadata": {
    "colab": {
     "base_uri": "https://localhost:8080/"
    },
    "id": "NJ6Ke4hl30Zk",
    "outputId": "53fa700b-9921-451e-fe78-79632e637375"
   },
   "outputs": [
    {
     "data": {
      "text/plain": [
       "0.9937932836796027"
      ]
     },
     "execution_count": 104,
     "metadata": {
      "tags": []
     },
     "output_type": "execute_result"
    }
   ],
   "source": [
    "# training score\n",
    "rf1.score(x_train, y_train)"
   ]
  },
  {
   "cell_type": "code",
   "execution_count": 105,
   "metadata": {
    "colab": {
     "base_uri": "https://localhost:8080/"
    },
    "id": "2UtXkB6XT8xs",
    "outputId": "1f5fec36-5be7-45a2-9e4d-7e3641dfd171"
   },
   "outputs": [
    {
     "data": {
      "text/plain": [
       "0.9437512249297707"
      ]
     },
     "execution_count": 105,
     "metadata": {
      "tags": []
     },
     "output_type": "execute_result"
    }
   ],
   "source": [
    "# testing score\n",
    "rf1.score(x_test, y_test)"
   ]
  },
  {
   "cell_type": "code",
   "execution_count": 106,
   "metadata": {
    "id": "LeYoIub-c6Xi"
   },
   "outputs": [],
   "source": [
    "y_pred = rf1.predict(x_test)"
   ]
  },
  {
   "cell_type": "code",
   "execution_count": 114,
   "metadata": {
    "colab": {
     "base_uri": "https://localhost:8080/",
     "height": 142
    },
    "id": "RPQkCsFHdDQQ",
    "outputId": "4fc169d2-60b2-47a5-c1b5-f13158860f79"
   },
   "outputs": [
    {
     "data": {
      "text/html": [
       "<div>\n",
       "<style scoped>\n",
       "    .dataframe tbody tr th:only-of-type {\n",
       "        vertical-align: middle;\n",
       "    }\n",
       "\n",
       "    .dataframe tbody tr th {\n",
       "        vertical-align: top;\n",
       "    }\n",
       "\n",
       "    .dataframe thead th {\n",
       "        text-align: right;\n",
       "    }\n",
       "</style>\n",
       "<table border=\"1\" class=\"dataframe\">\n",
       "  <thead>\n",
       "    <tr style=\"text-align: right;\">\n",
       "      <th></th>\n",
       "      <th>Predict -1</th>\n",
       "      <th>Predict 0</th>\n",
       "      <th>Predict 1</th>\n",
       "    </tr>\n",
       "  </thead>\n",
       "  <tbody>\n",
       "    <tr>\n",
       "      <th>Actual -1</th>\n",
       "      <td>3</td>\n",
       "      <td>4</td>\n",
       "      <td>536</td>\n",
       "    </tr>\n",
       "    <tr>\n",
       "      <th>Actual 0</th>\n",
       "      <td>0</td>\n",
       "      <td>1</td>\n",
       "      <td>288</td>\n",
       "    </tr>\n",
       "    <tr>\n",
       "      <th>Actual 1</th>\n",
       "      <td>20</td>\n",
       "      <td>13</td>\n",
       "      <td>14442</td>\n",
       "    </tr>\n",
       "  </tbody>\n",
       "</table>\n",
       "</div>"
      ],
      "text/plain": [
       "           Predict -1  Predict 0  Predict 1\n",
       "Actual -1           3          4        536\n",
       "Actual 0            0          1        288\n",
       "Actual 1           20         13      14442"
      ]
     },
     "execution_count": 114,
     "metadata": {
      "tags": []
     },
     "output_type": "execute_result"
    }
   ],
   "source": [
    "cnf_matrix = pd.DataFrame(confusion_matrix(y_test, y_pred), columns = ['Predict -1', 'Predict 0', 'Predict 1'], index = ['Actual -1', 'Actual 0','Actual 1'])\n",
    "cnf_matrix"
   ]
  },
  {
   "cell_type": "code",
   "execution_count": 118,
   "metadata": {
    "colab": {
     "base_uri": "https://localhost:8080/"
    },
    "id": "PjGXMJZ3ecNR",
    "outputId": "b5e19d29-8274-48a7-e195-c058cb676d98"
   },
   "outputs": [
    {
     "name": "stdout",
     "output_type": "stream",
     "text": [
      "              precision    recall  f1-score   support\n",
      "\n",
      "          -1       0.13      0.01      0.01       543\n",
      "           0       0.06      0.00      0.01       289\n",
      "           1       0.95      1.00      0.97     14475\n",
      "\n",
      "    accuracy                           0.94     15307\n",
      "   macro avg       0.38      0.34      0.33     15307\n",
      "weighted avg       0.90      0.94      0.92     15307\n",
      "\n"
     ]
    }
   ],
   "source": [
    "print(classification_report(y_test, y_pred))"
   ]
  },
  {
   "cell_type": "markdown",
   "metadata": {
    "id": "Ey7an7ukLxWB"
   },
   "source": [
    "## 7. Write your conclusion"
   ]
  },
  {
   "cell_type": "markdown",
   "metadata": {
    "id": "hxvlD3OsizLZ"
   },
   "source": [
    "* Model is overfit\n",
    "* From the model we can infer the sentiment class is highly imbalanced.\n",
    "* The ability to detect sentiment value is almost 0 for -1 and 0 \n",
    "* The ability to detect sentiment value 1 is very high\n",
    "* Precision of detecting is very high(95%) for sentiment value 1 since the we  more values for set for sentiment value of 1 \n",
    "* We may be able to improve if we have more training data and also if the data could provide more balance to the ratings which can have a balance to the sentiment values\n",
    "\n",
    "\n",
    "\n",
    "\n",
    "\n",
    "\n"
   ]
  },
  {
   "cell_type": "code",
   "execution_count": null,
   "metadata": {
    "id": "0csFkbEJmSIe"
   },
   "outputs": [],
   "source": []
  }
 ],
 "metadata": {
  "colab": {
   "collapsed_sections": [],
   "name": "R8 Internal Lab Question Notebook.ipynb",
   "provenance": []
  },
  "kernelspec": {
   "display_name": "Python 3",
   "language": "python",
   "name": "python3"
  },
  "language_info": {
   "codemirror_mode": {
    "name": "ipython",
    "version": 3
   },
   "file_extension": ".py",
   "mimetype": "text/x-python",
   "name": "python",
   "nbconvert_exporter": "python",
   "pygments_lexer": "ipython3",
   "version": "3.7.7"
  }
 },
 "nbformat": 4,
 "nbformat_minor": 1
}

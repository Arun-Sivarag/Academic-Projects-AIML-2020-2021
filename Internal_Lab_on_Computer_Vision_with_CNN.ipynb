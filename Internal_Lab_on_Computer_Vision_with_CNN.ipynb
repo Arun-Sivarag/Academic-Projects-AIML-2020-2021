{
 "cells": [
  {
   "cell_type": "markdown",
   "metadata": {
    "id": "MyfMmMnPJjvn"
   },
   "source": [
    "## Train a simple convnet on the Fashion MNIST dataset"
   ]
  },
  {
   "cell_type": "markdown",
   "metadata": {
    "id": "zjcGOJhcJjvp"
   },
   "source": [
    "In this, we will see how to deal with image data and train a convnet for image classification task."
   ]
  },
  {
   "cell_type": "markdown",
   "metadata": {
    "id": "jR0Pl2XjJjvq"
   },
   "source": [
    "### Load the  `fashion_mnist`  dataset\n",
    "\n",
    "** Use keras.datasets to load the dataset **"
   ]
  },
  {
   "cell_type": "code",
   "execution_count": 77,
   "metadata": {
    "id": "cs_Gp9QqS95g"
   },
   "outputs": [],
   "source": [
    "import tensorflow as tf"
   ]
  },
  {
   "cell_type": "code",
   "execution_count": 78,
   "metadata": {
    "id": "Qr75v_UYJjvs"
   },
   "outputs": [],
   "source": [
    "# loading the datset \n",
    "from keras.datasets import fashion_mnist\n",
    "(x_train, y_train), (x_test, y_test) = fashion_mnist.load_data()"
   ]
  },
  {
   "cell_type": "markdown",
   "metadata": {
    "id": "hTI42-0qJjvw"
   },
   "source": [
    "### Find no.of samples are there in training and test datasets"
   ]
  },
  {
   "cell_type": "code",
   "execution_count": 79,
   "metadata": {
    "colab": {
     "base_uri": "https://localhost:8080/"
    },
    "id": "g2sf67VoJjvx",
    "outputId": "36476ac2-b7fa-40c7-eb3a-b25d3830038d"
   },
   "outputs": [
    {
     "data": {
      "text/plain": [
       "60000"
      ]
     },
     "execution_count": 79,
     "metadata": {
      "tags": []
     },
     "output_type": "execute_result"
    }
   ],
   "source": [
    "# shape of the training dataset\n",
    "x_train.shape[0]"
   ]
  },
  {
   "cell_type": "code",
   "execution_count": 80,
   "metadata": {
    "colab": {
     "base_uri": "https://localhost:8080/"
    },
    "id": "zewyDcBlJjv1",
    "outputId": "13386aa5-8e1a-4357-f6e7-768615cc5fe6"
   },
   "outputs": [
    {
     "data": {
      "text/plain": [
       "10000"
      ]
     },
     "execution_count": 80,
     "metadata": {
      "tags": []
     },
     "output_type": "execute_result"
    }
   ],
   "source": [
    "# shape of the test dataset\n",
    "x_test.shape[0]"
   ]
  },
  {
   "cell_type": "markdown",
   "metadata": {
    "id": "WytT2eRnJjv4"
   },
   "source": [
    "### Find dimensions of an image in the dataset"
   ]
  },
  {
   "cell_type": "code",
   "execution_count": 81,
   "metadata": {
    "colab": {
     "base_uri": "https://localhost:8080/"
    },
    "id": "XycQGBSGJjv5",
    "outputId": "23dd9a4f-4bb0-4fa4-c7cc-ac379aab1bb8"
   },
   "outputs": [
    {
     "data": {
      "text/plain": [
       "(28, 28)"
      ]
     },
     "execution_count": 81,
     "metadata": {
      "tags": []
     },
     "output_type": "execute_result"
    }
   ],
   "source": [
    "# dimension of the image (height * width)\n",
    "x_train.shape[1:3]"
   ]
  },
  {
   "cell_type": "markdown",
   "metadata": {
    "id": "5jtdZ7RqJjv8"
   },
   "source": [
    "### Convert train and test labels to one hot vectors\n",
    "\n",
    "** check `keras.utils.to_categorical()` **"
   ]
  },
  {
   "cell_type": "code",
   "execution_count": 82,
   "metadata": {
    "id": "sAD3q5I6Jjv9"
   },
   "outputs": [],
   "source": [
    "# one hot encoding the train\n",
    "y_train = tf.keras.utils.to_categorical(y_train, num_classes=10)"
   ]
  },
  {
   "cell_type": "code",
   "execution_count": 83,
   "metadata": {
    "id": "mgHSCXy3JjwA"
   },
   "outputs": [],
   "source": [
    "# one hot encoding the test\n",
    "y_test = tf.keras.utils.to_categorical(y_test, num_classes=10)"
   ]
  },
  {
   "cell_type": "code",
   "execution_count": 84,
   "metadata": {
    "colab": {
     "base_uri": "https://localhost:8080/"
    },
    "id": "sEI1pscnUY6u",
    "outputId": "667fc11a-ef2e-4723-c7be-8a4190827a38"
   },
   "outputs": [
    {
     "name": "stdout",
     "output_type": "stream",
     "text": [
      "10\n",
      "10\n"
     ]
    }
   ],
   "source": [
    "print(y_train.shape[1])\n",
    "print(y_test.shape[1])"
   ]
  },
  {
   "cell_type": "markdown",
   "metadata": {
    "id": "xO5BRBzBJjwD"
   },
   "source": [
    "### Normalize both the train and test image data from 0-255 to 0-1"
   ]
  },
  {
   "cell_type": "code",
   "execution_count": 85,
   "metadata": {
    "id": "3fUQpMHxJjwE"
   },
   "outputs": [],
   "source": [
    "# normalizing the dataset\n",
    "x_train = x_train.astype('float32')\n",
    "x_test = x_test.astype('float32')"
   ]
  },
  {
   "cell_type": "code",
   "execution_count": 86,
   "metadata": {
    "id": "Okwo_SB5JjwI"
   },
   "outputs": [],
   "source": [
    "x_train/= 255\n",
    "x_test/= 255"
   ]
  },
  {
   "cell_type": "markdown",
   "metadata": {
    "id": "da5-DwgrJjwM"
   },
   "source": [
    "### Reshape the data from 28x28 to 28x28x1 to match input dimensions in Conv2D layer in keras"
   ]
  },
  {
   "cell_type": "code",
   "execution_count": 87,
   "metadata": {
    "id": "LPGVQ-JJJjwN"
   },
   "outputs": [],
   "source": [
    "# reshaping the data\n",
    "x_train = x_train.reshape(x_train.shape[0], 28,28,1)\n",
    "x_test = x_test.reshape(x_test.shape[0], 28,28,1)"
   ]
  },
  {
   "cell_type": "code",
   "execution_count": 88,
   "metadata": {
    "colab": {
     "base_uri": "https://localhost:8080/"
    },
    "id": "W96gujmkY9EB",
    "outputId": "7469e471-e78b-4623-c0a5-bc0b03cb66dc"
   },
   "outputs": [
    {
     "name": "stdout",
     "output_type": "stream",
     "text": [
      "(60000, 28, 28, 1)\n",
      "(10000, 28, 28, 1)\n"
     ]
    }
   ],
   "source": [
    "print(x_train.shape)\n",
    "print(x_test.shape)"
   ]
  },
  {
   "cell_type": "markdown",
   "metadata": {
    "id": "OFRRTJq8JjwQ"
   },
   "source": [
    "### Import the necessary layers from keras to build the model"
   ]
  },
  {
   "cell_type": "code",
   "execution_count": 89,
   "metadata": {
    "id": "dWTZYnKSJjwR"
   },
   "outputs": [],
   "source": [
    "from tensorflow.keras.models import Sequential\n",
    "from tensorflow.keras.layers import Dense, Input, Flatten, Conv2D, Activation, Dropout, MaxPooling2D"
   ]
  },
  {
   "cell_type": "markdown",
   "metadata": {
    "id": "C18AoS7eJjwU"
   },
   "source": [
    "### Build a model \n",
    "\n",
    "** with 2 Conv layers having `32 3x3 filters` in both convolutions with `relu activations` and `flatten` before passing the feature map into 2 fully connected layers (or Dense Layers) having 128 and 10 neurons with `relu` and `softmax` activations respectively. Now, using `categorical_crossentropy` loss with `adam` optimizer train the model with early stopping `patience=5` and no.of `epochs=10`. **"
   ]
  },
  {
   "cell_type": "code",
   "execution_count": 90,
   "metadata": {
    "id": "DORCLgSwJjwV"
   },
   "outputs": [],
   "source": [
    "model = Sequential()\n",
    "model.add(Conv2D(32, (3,3), activation='relu', input_shape=(28,28,1)))\n",
    "model.add(Conv2D(32, (3,3), activation='relu'))\n",
    "model.add(Flatten())\n",
    "model.add(Dense(128, activation='relu' ))\n",
    "model.add(Dense(10, activation='softmax' ))"
   ]
  },
  {
   "cell_type": "code",
   "execution_count": 91,
   "metadata": {
    "id": "WhkoXSVHd5Cx"
   },
   "outputs": [],
   "source": [
    "model.compile(loss='categorical_crossentropy', optimizer='adam', metrics=['accuracy'])"
   ]
  },
  {
   "cell_type": "code",
   "execution_count": 92,
   "metadata": {
    "id": "N5l5v3yseKt-"
   },
   "outputs": [],
   "source": [
    "import keras\n",
    "early_stopping = keras.callbacks.EarlyStopping(monitor = 'val_accuracy', patience=5, verbose=1, mode ='auto')\n",
    "callback_list = [early_stopping]"
   ]
  },
  {
   "cell_type": "code",
   "execution_count": 93,
   "metadata": {
    "colab": {
     "base_uri": "https://localhost:8080/"
    },
    "id": "8VXKeSGbfJK4",
    "outputId": "25e528bc-5cf3-417a-fd4d-7e63a49b8535"
   },
   "outputs": [
    {
     "name": "stdout",
     "output_type": "stream",
     "text": [
      "Epoch 1/20\n",
      "120/120 [==============================] - 2s 18ms/step - loss: 0.8174 - accuracy: 0.7162 - val_loss: 0.3962 - val_accuracy: 0.8563\n",
      "Epoch 2/20\n",
      "120/120 [==============================] - 2s 16ms/step - loss: 0.3425 - accuracy: 0.8789 - val_loss: 0.3483 - val_accuracy: 0.8718\n",
      "Epoch 3/20\n",
      "120/120 [==============================] - 2s 16ms/step - loss: 0.2831 - accuracy: 0.8981 - val_loss: 0.3046 - val_accuracy: 0.8861\n",
      "Epoch 4/20\n",
      "120/120 [==============================] - 2s 16ms/step - loss: 0.2404 - accuracy: 0.9130 - val_loss: 0.2741 - val_accuracy: 0.9029\n",
      "Epoch 5/20\n",
      "120/120 [==============================] - 2s 16ms/step - loss: 0.2106 - accuracy: 0.9235 - val_loss: 0.2718 - val_accuracy: 0.9015\n",
      "Epoch 6/20\n",
      "120/120 [==============================] - 2s 16ms/step - loss: 0.1858 - accuracy: 0.9318 - val_loss: 0.2626 - val_accuracy: 0.9069\n",
      "Epoch 7/20\n",
      "120/120 [==============================] - 2s 16ms/step - loss: 0.1677 - accuracy: 0.9402 - val_loss: 0.2620 - val_accuracy: 0.9098\n",
      "Epoch 8/20\n",
      "120/120 [==============================] - 2s 16ms/step - loss: 0.1481 - accuracy: 0.9456 - val_loss: 0.2566 - val_accuracy: 0.9102\n",
      "Epoch 9/20\n",
      "120/120 [==============================] - 2s 16ms/step - loss: 0.1240 - accuracy: 0.9563 - val_loss: 0.2534 - val_accuracy: 0.9152\n",
      "Epoch 10/20\n",
      "120/120 [==============================] - 2s 16ms/step - loss: 0.1109 - accuracy: 0.9603 - val_loss: 0.2688 - val_accuracy: 0.9109\n",
      "Epoch 11/20\n",
      "120/120 [==============================] - 2s 16ms/step - loss: 0.0936 - accuracy: 0.9670 - val_loss: 0.2868 - val_accuracy: 0.9117\n",
      "Epoch 12/20\n",
      "120/120 [==============================] - 2s 17ms/step - loss: 0.0829 - accuracy: 0.9701 - val_loss: 0.2751 - val_accuracy: 0.9176\n",
      "Epoch 13/20\n",
      "120/120 [==============================] - 2s 16ms/step - loss: 0.0669 - accuracy: 0.9772 - val_loss: 0.2964 - val_accuracy: 0.9141\n",
      "Epoch 14/20\n",
      "120/120 [==============================] - 2s 16ms/step - loss: 0.0592 - accuracy: 0.9792 - val_loss: 0.3176 - val_accuracy: 0.9154\n",
      "Epoch 15/20\n",
      "120/120 [==============================] - 2s 16ms/step - loss: 0.0446 - accuracy: 0.9857 - val_loss: 0.3294 - val_accuracy: 0.9185\n",
      "Epoch 16/20\n",
      "120/120 [==============================] - 2s 17ms/step - loss: 0.0355 - accuracy: 0.9896 - val_loss: 0.3413 - val_accuracy: 0.9173\n",
      "Epoch 17/20\n",
      "120/120 [==============================] - 2s 17ms/step - loss: 0.0287 - accuracy: 0.9913 - val_loss: 0.3618 - val_accuracy: 0.9149\n",
      "Epoch 18/20\n",
      "120/120 [==============================] - 2s 17ms/step - loss: 0.0261 - accuracy: 0.9921 - val_loss: 0.4109 - val_accuracy: 0.9119\n",
      "Epoch 19/20\n",
      "120/120 [==============================] - 2s 17ms/step - loss: 0.0197 - accuracy: 0.9944 - val_loss: 0.4083 - val_accuracy: 0.9133\n",
      "Epoch 20/20\n",
      "120/120 [==============================] - 2s 18ms/step - loss: 0.0138 - accuracy: 0.9966 - val_loss: 0.4337 - val_accuracy: 0.9106\n",
      "Epoch 00020: early stopping\n"
     ]
    },
    {
     "data": {
      "text/plain": [
       "<tensorflow.python.keras.callbacks.History at 0x7f479e3e0668>"
      ]
     },
     "execution_count": 93,
     "metadata": {
      "tags": []
     },
     "output_type": "execute_result"
    }
   ],
   "source": [
    "model.fit(x_train, y_train, batch_size=500, epochs=20, validation_data=(x_test, y_test), callbacks=callback_list)"
   ]
  },
  {
   "cell_type": "code",
   "execution_count": 94,
   "metadata": {
    "colab": {
     "base_uri": "https://localhost:8080/"
    },
    "id": "MThI2gODmn1i",
    "outputId": "8eae1ee7-f792-4045-9d1c-5fff71561661"
   },
   "outputs": [
    {
     "name": "stdout",
     "output_type": "stream",
     "text": [
      "Model: \"sequential_5\"\n",
      "_________________________________________________________________\n",
      "Layer (type)                 Output Shape              Param #   \n",
      "=================================================================\n",
      "conv2d_10 (Conv2D)           (None, 26, 26, 32)        320       \n",
      "_________________________________________________________________\n",
      "conv2d_11 (Conv2D)           (None, 24, 24, 32)        9248      \n",
      "_________________________________________________________________\n",
      "flatten_5 (Flatten)          (None, 18432)             0         \n",
      "_________________________________________________________________\n",
      "dense_10 (Dense)             (None, 128)               2359424   \n",
      "_________________________________________________________________\n",
      "dense_11 (Dense)             (None, 10)                1290      \n",
      "=================================================================\n",
      "Total params: 2,370,282\n",
      "Trainable params: 2,370,282\n",
      "Non-trainable params: 0\n",
      "_________________________________________________________________\n"
     ]
    }
   ],
   "source": [
    "model.summary()"
   ]
  },
  {
   "cell_type": "markdown",
   "metadata": {
    "id": "ju69vKdIJjwX"
   },
   "source": [
    "### Now, to the above model add `max` pooling layer of `filter size 2x2` and `dropout` layer with `p=0.25` after the 2 conv layers and run the model"
   ]
  },
  {
   "cell_type": "code",
   "execution_count": 95,
   "metadata": {
    "id": "L2hAP94vJjwY"
   },
   "outputs": [],
   "source": [
    "model_2 = Sequential()\n",
    "model_2.add(Conv2D(32, (3,3), activation='relu', input_shape=(28,28,1)))\n",
    "model_2.add(Conv2D(32, (3,3), activation='relu'))\n",
    "model_2.add(MaxPooling2D(2,2))\n",
    "model_2.add(Dropout(0.25))\n",
    "model_2.add(Flatten())\n",
    "model_2.add(Dense(128, activation='relu' ))\n",
    "model_2.add(Dense(10, activation='softmax' ))"
   ]
  },
  {
   "cell_type": "code",
   "execution_count": 96,
   "metadata": {
    "id": "S53UovmOlqfx"
   },
   "outputs": [],
   "source": [
    "model_2.compile(loss='categorical_crossentropy', optimizer='adam', metrics=['accuracy'])"
   ]
  },
  {
   "cell_type": "code",
   "execution_count": 97,
   "metadata": {
    "id": "EWa6-TTIlsUS"
   },
   "outputs": [],
   "source": [
    "early_stopping_2 = keras.callbacks.EarlyStopping(monitor = 'val_accuracy', patience=5, verbose=1, mode ='auto')\n",
    "callback_list_2 = [early_stopping_2]"
   ]
  },
  {
   "cell_type": "code",
   "execution_count": 98,
   "metadata": {
    "colab": {
     "base_uri": "https://localhost:8080/"
    },
    "id": "NTVMYyQYl1uB",
    "outputId": "efa6caeb-1141-4a79-ddce-8605e7c8bb17"
   },
   "outputs": [
    {
     "name": "stdout",
     "output_type": "stream",
     "text": [
      "Epoch 1/20\n",
      "120/120 [==============================] - 2s 17ms/step - loss: 0.9260 - accuracy: 0.6838 - val_loss: 0.4201 - val_accuracy: 0.8502\n",
      "Epoch 2/20\n",
      "120/120 [==============================] - 2s 16ms/step - loss: 0.3879 - accuracy: 0.8626 - val_loss: 0.3588 - val_accuracy: 0.8729\n",
      "Epoch 3/20\n",
      "120/120 [==============================] - 2s 16ms/step - loss: 0.3290 - accuracy: 0.8832 - val_loss: 0.3195 - val_accuracy: 0.8860\n",
      "Epoch 4/20\n",
      "120/120 [==============================] - 2s 16ms/step - loss: 0.2884 - accuracy: 0.8986 - val_loss: 0.2951 - val_accuracy: 0.8963\n",
      "Epoch 5/20\n",
      "120/120 [==============================] - 2s 16ms/step - loss: 0.2657 - accuracy: 0.9045 - val_loss: 0.2694 - val_accuracy: 0.9030\n",
      "Epoch 6/20\n",
      "120/120 [==============================] - 2s 15ms/step - loss: 0.2419 - accuracy: 0.9106 - val_loss: 0.2732 - val_accuracy: 0.9030\n",
      "Epoch 7/20\n",
      "120/120 [==============================] - 2s 16ms/step - loss: 0.2283 - accuracy: 0.9182 - val_loss: 0.2708 - val_accuracy: 0.9010\n",
      "Epoch 8/20\n",
      "120/120 [==============================] - 2s 16ms/step - loss: 0.2189 - accuracy: 0.9200 - val_loss: 0.2499 - val_accuracy: 0.9124\n",
      "Epoch 9/20\n",
      "120/120 [==============================] - 2s 16ms/step - loss: 0.1984 - accuracy: 0.9272 - val_loss: 0.2541 - val_accuracy: 0.9090\n",
      "Epoch 10/20\n",
      "120/120 [==============================] - 2s 16ms/step - loss: 0.1913 - accuracy: 0.9295 - val_loss: 0.2380 - val_accuracy: 0.9137\n",
      "Epoch 11/20\n",
      "120/120 [==============================] - 2s 16ms/step - loss: 0.1741 - accuracy: 0.9357 - val_loss: 0.2286 - val_accuracy: 0.9192\n",
      "Epoch 12/20\n",
      "120/120 [==============================] - 2s 16ms/step - loss: 0.1643 - accuracy: 0.9404 - val_loss: 0.2343 - val_accuracy: 0.9173\n",
      "Epoch 13/20\n",
      "120/120 [==============================] - 2s 16ms/step - loss: 0.1599 - accuracy: 0.9416 - val_loss: 0.2407 - val_accuracy: 0.9188\n",
      "Epoch 14/20\n",
      "120/120 [==============================] - 2s 16ms/step - loss: 0.1451 - accuracy: 0.9475 - val_loss: 0.2260 - val_accuracy: 0.9229\n",
      "Epoch 15/20\n",
      "120/120 [==============================] - 2s 16ms/step - loss: 0.1334 - accuracy: 0.9494 - val_loss: 0.2299 - val_accuracy: 0.9227\n",
      "Epoch 16/20\n",
      "120/120 [==============================] - 2s 16ms/step - loss: 0.1264 - accuracy: 0.9540 - val_loss: 0.2293 - val_accuracy: 0.9223\n",
      "Epoch 17/20\n",
      "120/120 [==============================] - 2s 16ms/step - loss: 0.1180 - accuracy: 0.9564 - val_loss: 0.2275 - val_accuracy: 0.9229\n",
      "Epoch 18/20\n",
      "120/120 [==============================] - 2s 16ms/step - loss: 0.1128 - accuracy: 0.9587 - val_loss: 0.2367 - val_accuracy: 0.9193\n",
      "Epoch 19/20\n",
      "120/120 [==============================] - 2s 16ms/step - loss: 0.1015 - accuracy: 0.9630 - val_loss: 0.2321 - val_accuracy: 0.9235\n",
      "Epoch 20/20\n",
      "120/120 [==============================] - 2s 16ms/step - loss: 0.0965 - accuracy: 0.9646 - val_loss: 0.2364 - val_accuracy: 0.9246\n"
     ]
    },
    {
     "data": {
      "text/plain": [
       "<tensorflow.python.keras.callbacks.History at 0x7f479e4068d0>"
      ]
     },
     "execution_count": 98,
     "metadata": {
      "tags": []
     },
     "output_type": "execute_result"
    }
   ],
   "source": [
    "model_2.fit(x_train, y_train, batch_size=500, epochs=20, validation_data=(x_test, y_test), callbacks=callback_list_2)"
   ]
  },
  {
   "cell_type": "code",
   "execution_count": 99,
   "metadata": {
    "colab": {
     "base_uri": "https://localhost:8080/"
    },
    "id": "1hRvgv5smiA7",
    "outputId": "9267efd9-a899-454b-fa8e-f019010ea611"
   },
   "outputs": [
    {
     "name": "stdout",
     "output_type": "stream",
     "text": [
      "Model: \"sequential_6\"\n",
      "_________________________________________________________________\n",
      "Layer (type)                 Output Shape              Param #   \n",
      "=================================================================\n",
      "conv2d_12 (Conv2D)           (None, 26, 26, 32)        320       \n",
      "_________________________________________________________________\n",
      "conv2d_13 (Conv2D)           (None, 24, 24, 32)        9248      \n",
      "_________________________________________________________________\n",
      "max_pooling2d_4 (MaxPooling2 (None, 12, 12, 32)        0         \n",
      "_________________________________________________________________\n",
      "dropout_4 (Dropout)          (None, 12, 12, 32)        0         \n",
      "_________________________________________________________________\n",
      "flatten_6 (Flatten)          (None, 4608)              0         \n",
      "_________________________________________________________________\n",
      "dense_12 (Dense)             (None, 128)               589952    \n",
      "_________________________________________________________________\n",
      "dense_13 (Dense)             (None, 10)                1290      \n",
      "=================================================================\n",
      "Total params: 600,810\n",
      "Trainable params: 600,810\n",
      "Non-trainable params: 0\n",
      "_________________________________________________________________\n"
     ]
    }
   ],
   "source": [
    "model_2.summary()"
   ]
  },
  {
   "cell_type": "markdown",
   "metadata": {
    "id": "lGTA3bfEJjwa"
   },
   "source": [
    "### Now, to the above model, lets add Data Augmentation "
   ]
  },
  {
   "cell_type": "markdown",
   "metadata": {
    "id": "F6gX8n5SJjwb"
   },
   "source": [
    "### Import the ImageDataGenrator from keras and fit the training images"
   ]
  },
  {
   "cell_type": "code",
   "execution_count": 100,
   "metadata": {
    "id": "s5g6kD50txj9"
   },
   "outputs": [],
   "source": [
    "from keras.preprocessing.image import ImageDataGenerator"
   ]
  },
  {
   "cell_type": "code",
   "execution_count": 101,
   "metadata": {
    "id": "Cbz4uHBuJjwc"
   },
   "outputs": [],
   "source": [
    "# this generates batches of image data with real-time data augmentation\n",
    "\n",
    "datagen = ImageDataGenerator(\n",
    "    featurewise_center=False, # set input mean to be 0 over the dataset\n",
    "    samplewise_center=False, # set each sample mean to 0\n",
    "    featurewise_std_normalization=False, # divide inputs by std of the dataset\n",
    "    samplewise_std_normalization=False, # divide each input by its std\n",
    "    zca_whitening=False, # apply ZCA whitening\n",
    "    rotation_range=50, # randomly rotate images in the range (0 to 180 degrees)\n",
    "    width_shift_range=0.1, # randomly shift images horizontally (fraction of total width)\n",
    "    height_shift_range=0.1, # randomly shift images vertically (fraction of total height)\n",
    "    horizontal_flip=False, # randomly flip images horizontally\n",
    "    vertical_flip=False # randomly flip images vertically\n",
    ")\n",
    "\n",
    "# prepare the generator\n",
    "datagen.fit(x_train)\n"
   ]
  },
  {
   "cell_type": "markdown",
   "metadata": {
    "id": "pl-8dOo7Jjwf"
   },
   "source": [
    "#### Showing 5 versions of the first image in training dataset using image datagenerator.flow()"
   ]
  },
  {
   "cell_type": "code",
   "execution_count": 102,
   "metadata": {
    "colab": {
     "base_uri": "https://localhost:8080/",
     "height": 89
    },
    "id": "DpI1_McYJjwg",
    "outputId": "21d7b444-4a05-4b99-cf17-731ed7c07c15",
    "scrolled": true
   },
   "outputs": [
    {
     "data": {
      "image/png": "[encoded data removed]",
      "text/plain": [
       "<Figure size 432x288 with 5 Axes>"
      ]
     },
     "metadata": {
      "needs_background": "light",
      "tags": []
     },
     "output_type": "display_data"
    }
   ],
   "source": [
    "from matplotlib import pyplot as plt\n",
    "gen = datagen.flow(x_train[0:1], batch_size=1)\n",
    "for i in range(1, 6):\n",
    "    plt.subplot(1,5,i)\n",
    "    plt.axis(\"off\")\n",
    "    plt.imshow(gen.next().squeeze(), cmap='gray')\n",
    "    plt.plot()\n",
    "plt.show()"
   ]
  },
  {
   "cell_type": "markdown",
   "metadata": {
    "id": "dmPl5yE8Jjwm"
   },
   "source": [
    "### Run the above model using fit_generator()"
   ]
  },
  {
   "cell_type": "code",
   "execution_count": 103,
   "metadata": {
    "colab": {
     "base_uri": "https://localhost:8080/"
    },
    "id": "44ZnDdJYJjwn",
    "outputId": "3bd09d79-dfaa-4202-d2d4-4a1db9aa7da6"
   },
   "outputs": [
    {
     "name": "stderr",
     "output_type": "stream",
     "text": [
      "/usr/local/lib/python3.6/dist-packages/tensorflow/python/keras/engine/training.py:1844: UserWarning: `Model.fit_generator` is deprecated and will be removed in a future version. Please use `Model.fit`, which supports generators.\n",
      "  warnings.warn('`Model.fit_generator` is deprecated and '\n"
     ]
    },
    {
     "name": "stdout",
     "output_type": "stream",
     "text": [
      "Epoch 1/20\n",
      "1875/1875 [==============================] - 18s 10ms/step - loss: 0.9932 - accuracy: 0.6380 - val_loss: 0.5506 - val_accuracy: 0.7970\n",
      "Epoch 2/20\n",
      "1875/1875 [==============================] - 18s 10ms/step - loss: 0.6057 - accuracy: 0.7726 - val_loss: 0.4925 - val_accuracy: 0.8246\n",
      "Epoch 3/20\n",
      "1875/1875 [==============================] - 18s 10ms/step - loss: 0.5271 - accuracy: 0.8004 - val_loss: 0.4829 - val_accuracy: 0.8185\n",
      "Epoch 4/20\n",
      "1875/1875 [==============================] - 18s 10ms/step - loss: 0.4831 - accuracy: 0.8188 - val_loss: 0.4080 - val_accuracy: 0.8507\n",
      "Epoch 5/20\n",
      "1875/1875 [==============================] - 18s 10ms/step - loss: 0.4526 - accuracy: 0.8334 - val_loss: 0.4277 - val_accuracy: 0.8387\n",
      "Epoch 6/20\n",
      "1875/1875 [==============================] - 17s 9ms/step - loss: 0.4315 - accuracy: 0.8400 - val_loss: 0.3899 - val_accuracy: 0.8590\n",
      "Epoch 7/20\n",
      "1875/1875 [==============================] - 18s 10ms/step - loss: 0.4160 - accuracy: 0.8453 - val_loss: 0.3739 - val_accuracy: 0.8639\n",
      "Epoch 8/20\n",
      "1875/1875 [==============================] - 18s 10ms/step - loss: 0.4053 - accuracy: 0.8505 - val_loss: 0.3758 - val_accuracy: 0.8685\n",
      "Epoch 9/20\n",
      "1875/1875 [==============================] - 18s 10ms/step - loss: 0.3910 - accuracy: 0.8544 - val_loss: 0.3475 - val_accuracy: 0.8730\n",
      "Epoch 10/20\n",
      "1875/1875 [==============================] - 18s 9ms/step - loss: 0.3898 - accuracy: 0.8563 - val_loss: 0.3394 - val_accuracy: 0.8765\n",
      "Epoch 11/20\n",
      "1875/1875 [==============================] - 18s 10ms/step - loss: 0.3753 - accuracy: 0.8610 - val_loss: 0.3487 - val_accuracy: 0.8758\n",
      "Epoch 12/20\n",
      "1875/1875 [==============================] - 18s 10ms/step - loss: 0.3684 - accuracy: 0.8627 - val_loss: 0.3303 - val_accuracy: 0.8824\n",
      "Epoch 13/20\n",
      "1875/1875 [==============================] - 18s 10ms/step - loss: 0.3621 - accuracy: 0.8666 - val_loss: 0.3353 - val_accuracy: 0.8828\n",
      "Epoch 14/20\n",
      "1875/1875 [==============================] - 18s 10ms/step - loss: 0.3635 - accuracy: 0.8645 - val_loss: 0.3545 - val_accuracy: 0.8702\n",
      "Epoch 15/20\n",
      "1875/1875 [==============================] - 18s 10ms/step - loss: 0.3514 - accuracy: 0.8706 - val_loss: 0.3291 - val_accuracy: 0.8826\n",
      "Epoch 16/20\n",
      "1875/1875 [==============================] - 18s 10ms/step - loss: 0.3508 - accuracy: 0.8690 - val_loss: 0.3529 - val_accuracy: 0.8737\n",
      "Epoch 17/20\n",
      "1875/1875 [==============================] - 18s 10ms/step - loss: 0.3487 - accuracy: 0.8725 - val_loss: 0.3264 - val_accuracy: 0.8826\n",
      "Epoch 18/20\n",
      "1875/1875 [==============================] - 18s 10ms/step - loss: 0.3411 - accuracy: 0.8747 - val_loss: 0.3248 - val_accuracy: 0.8835\n",
      "Epoch 19/20\n",
      "1875/1875 [==============================] - 18s 10ms/step - loss: 0.3453 - accuracy: 0.8719 - val_loss: 0.3241 - val_accuracy: 0.8859\n",
      "Epoch 20/20\n",
      "1875/1875 [==============================] - 18s 10ms/step - loss: 0.3365 - accuracy: 0.8769 - val_loss: 0.3054 - val_accuracy: 0.8915\n"
     ]
    },
    {
     "data": {
      "text/plain": [
       "<tensorflow.python.keras.callbacks.History at 0x7f479e5e1828>"
      ]
     },
     "execution_count": 103,
     "metadata": {
      "tags": []
     },
     "output_type": "execute_result"
    }
   ],
   "source": [
    "model_3 = Sequential()\n",
    "model_3.add(Conv2D(32, (3,3), activation='relu', input_shape=(28,28,1)))\n",
    "model_3.add(Conv2D(32, (3,3), activation='relu'))\n",
    "model_3.add(MaxPooling2D(2,2))\n",
    "model_3.add(Dropout(0.25))\n",
    "model_3.add(Flatten())\n",
    "model_3.add(Dense(128, activation='relu' ))\n",
    "model_3.add(Dense(10, activation='softmax' ))\n",
    "\n",
    "model_3.compile(loss='categorical_crossentropy', optimizer='adam', metrics=['accuracy'])\n",
    "\n",
    "early_stopping_3 = keras.callbacks.EarlyStopping(monitor = 'val_accuracy', patience=5, verbose=1, mode ='auto')\n",
    "callback_list_3 = [early_stopping_3]\n",
    "\n",
    "model_3.fit_generator(datagen.flow(x_train, y_train, \n",
    "                                 batch_size=32), \n",
    "                                 steps_per_epoch = x_train.shape[0]/32,\n",
    "                                 epochs= 20,\n",
    "                                 validation_data =(x_test, y_test),\n",
    "                                 callbacks=callback_list_3)"
   ]
  },
  {
   "cell_type": "markdown",
   "metadata": {
    "id": "MwQQW5iOJjwq"
   },
   "source": [
    "###  Report the final train and validation accuracy"
   ]
  },
  {
   "cell_type": "code",
   "execution_count": 104,
   "metadata": {
    "colab": {
     "base_uri": "https://localhost:8080/"
    },
    "id": "c1SrtBEPJjwq",
    "outputId": "18893df5-5b5d-4e22-e658-04a2ad241ad4"
   },
   "outputs": [
    {
     "name": "stdout",
     "output_type": "stream",
     "text": [
      "313/313 [==============================] - 1s 2ms/step - loss: 0.3054 - accuracy: 0.8915\n"
     ]
    },
    {
     "data": {
      "text/plain": [
       "[0.30540210008621216, 0.8914999961853027]"
      ]
     },
     "execution_count": 104,
     "metadata": {
      "tags": []
     },
     "output_type": "execute_result"
    }
   ],
   "source": [
    "model_3.evaluate(x_test,y_test)"
   ]
  },
  {
   "cell_type": "markdown",
   "metadata": {
    "id": "8KXqmUDW2rM1"
   },
   "source": [
    "## **DATA AUGMENTATION ON CIFAR10 DATASET**"
   ]
  },
  {
   "cell_type": "markdown",
   "metadata": {
    "id": "8mja6OgQ3L18"
   },
   "source": [
    "One of the best ways to improve the performance of a Deep Learning model is to add more data to the training set. Aside from gathering more instances from the wild that are representative of the distinction task, we want to develop a set of methods that enhance the data we already have. There are many ways to augment existing datasets and produce more robust models. In the image domain, these are done to utilize the full power of the convolutional neural network, which is able to capture translational invariance. This translational invariance is what makes image recognition such a difficult task in the first place. You want the dataset to be representative of the many different positions, angles, lightings, and miscellaneous distortions that are of interest to the vision task."
   ]
  },
  {
   "cell_type": "markdown",
   "metadata": {
    "id": "6HzVTPUM3WZJ"
   },
   "source": [
    "### **Import neessary libraries for data augmentation**"
   ]
  },
  {
   "cell_type": "code",
   "execution_count": 105,
   "metadata": {
    "id": "PPM558TX4KMb"
   },
   "outputs": [],
   "source": [
    "from keras.preprocessing.image import ImageDataGenerator"
   ]
  },
  {
   "cell_type": "markdown",
   "metadata": {
    "id": "W6hicLwP4SqY"
   },
   "source": [
    "### **Load CIFAR10 dataset**"
   ]
  },
  {
   "cell_type": "code",
   "execution_count": 106,
   "metadata": {
    "id": "NQ1WzrXd4WNk"
   },
   "outputs": [],
   "source": [
    "from keras.datasets import cifar10\n",
    "(x_train_cif, y_train_cif), (x_test_cif, y_test_cif) = cifar10.load_data()"
   ]
  },
  {
   "cell_type": "code",
   "execution_count": 107,
   "metadata": {
    "colab": {
     "base_uri": "https://localhost:8080/"
    },
    "id": "R9Pht1ggHuiT",
    "outputId": "08a211e6-4008-434c-d160-3278a7129c14"
   },
   "outputs": [
    {
     "data": {
      "text/plain": [
       "50000"
      ]
     },
     "execution_count": 107,
     "metadata": {
      "tags": []
     },
     "output_type": "execute_result"
    }
   ],
   "source": [
    "# shape of the training dataset\n",
    "x_train_cif.shape[0]"
   ]
  },
  {
   "cell_type": "code",
   "execution_count": 108,
   "metadata": {
    "colab": {
     "base_uri": "https://localhost:8080/"
    },
    "id": "3n28ccU6Hp6s",
    "outputId": "bd623ed7-874f-4ec5-d9c0-73d6b4efbf5c"
   },
   "outputs": [
    {
     "data": {
      "text/plain": [
       "10000"
      ]
     },
     "execution_count": 108,
     "metadata": {
      "tags": []
     },
     "output_type": "execute_result"
    }
   ],
   "source": [
    "# shape of the testing dataset\n",
    "x_test_cif.shape[0]"
   ]
  },
  {
   "cell_type": "markdown",
   "metadata": {
    "id": "JN3vYYhK4W0u"
   },
   "source": [
    "### **Create a data_gen funtion to genererator with image rotation,shifting image horizontally and vertically with random flip horizontally.**"
   ]
  },
  {
   "cell_type": "code",
   "execution_count": 109,
   "metadata": {
    "id": "JJbekTKi4cmM"
   },
   "outputs": [],
   "source": [
    "# this generates batches of image data with real-time data augmentation\n",
    "datagen = ImageDataGenerator(\n",
    "    featurewise_center=False, # set input mean to be 0 over the dataset\n",
    "    samplewise_center=False, # set each sample mean to 0\n",
    "    featurewise_std_normalization=False, # divide inputs by std of the dataset\n",
    "    samplewise_std_normalization=False, # divide each input by its std\n",
    "    zca_whitening=False, # apply ZCA whitening\n",
    "    rotation_range=50, # randomly rotate images in the range (0 to 180 degrees)\n",
    "    width_shift_range=0.1, # randomly shift images horizontally (fraction of total width)\n",
    "    height_shift_range=0.1, # randomly shift images vertically (fraction of total height)\n",
    "    horizontal_flip=True, # randomly flip images horizontally\n",
    "    vertical_flip=True # randomly flip images vertically\n",
    ")"
   ]
  },
  {
   "cell_type": "markdown",
   "metadata": {
    "id": "e-SLtUhC4dK2"
   },
   "source": [
    "### **Prepare/fit the generator.**"
   ]
  },
  {
   "cell_type": "code",
   "execution_count": 110,
   "metadata": {
    "id": "CSw8Bv2_4hb0"
   },
   "outputs": [],
   "source": [
    "# prepare the generator\n",
    "datagen.fit(x_train_cif)"
   ]
  },
  {
   "cell_type": "markdown",
   "metadata": {
    "id": "gYyF-P8O4jQ8"
   },
   "source": [
    "### **Generate 5 images for 1 of the image of CIFAR10 train dataset.**"
   ]
  },
  {
   "cell_type": "code",
   "execution_count": 112,
   "metadata": {
    "colab": {
     "base_uri": "https://localhost:8080/",
     "height": 89
    },
    "id": "mXug4z234mwQ",
    "outputId": "6a2dd311-4a77-456c-cbf5-5c72a00411e3"
   },
   "outputs": [
    {
     "data": {
      "image/png": "[encoded data removed]",
      "text/plain": [
       "<Figure size 432x288 with 5 Axes>"
      ]
     },
     "metadata": {
      "needs_background": "light",
      "tags": []
     },
     "output_type": "display_data"
    }
   ],
   "source": [
    "from matplotlib import pyplot as plt\n",
    "gen = datagen.flow(x_train_cif[1:2], batch_size=1)\n",
    "for i in range(1, 6):\n",
    "    plt.subplot(1,5,i)\n",
    "    plt.axis(\"off\")\n",
    "    plt.imshow(gen.next().astype('uint8').squeeze())\n",
    "    plt.plot()\n",
    "plt.show()"
   ]
  },
  {
   "cell_type": "code",
   "execution_count": null,
   "metadata": {
    "id": "qQmtiW_3DzkR"
   },
   "outputs": [],
   "source": []
  }
 ],
 "metadata": {
  "accelerator": "GPU",
  "colab": {
   "collapsed_sections": [],
   "name": "Questions - Lab on Computer Vision with CNN.json",
   "provenance": []
  },
  "kernelspec": {
   "display_name": "Python 3",
   "language": "python",
   "name": "python3"
  },
  "language_info": {
   "codemirror_mode": {
    "name": "ipython",
    "version": 3
   },
   "file_extension": ".py",
   "mimetype": "text/x-python",
   "name": "python",
   "nbconvert_exporter": "python",
   "pygments_lexer": "ipython3",
   "version": "3.7.7"
  }
 },
 "nbformat": 4,
 "nbformat_minor": 1
}

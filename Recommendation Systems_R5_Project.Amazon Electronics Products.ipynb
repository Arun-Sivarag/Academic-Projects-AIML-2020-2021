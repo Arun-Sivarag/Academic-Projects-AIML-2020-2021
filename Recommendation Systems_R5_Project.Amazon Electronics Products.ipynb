{
 "cells": [
  {
   "cell_type": "code",
   "execution_count": 1,
   "metadata": {},
   "outputs": [],
   "source": [
    "#import the libraries\n",
    "import pandas as pd\n",
    "import numpy as np\n",
    "import seaborn as sns\n",
    "import matplotlib.pyplot as plt\n",
    "from sklearn.model_selection import train_test_split, cross_val_score\n",
    "from sklearn.preprocessing import StandardScaler  \n",
    "import warnings\n",
    "warnings.filterwarnings('ignore')"
   ]
  },
  {
   "cell_type": "code",
   "execution_count": 2,
   "metadata": {},
   "outputs": [],
   "source": [
    "#importing the dataset\n",
    "df_review = pd.read_csv(\"Electronic_dataset.csv\")"
   ]
  },
  {
   "cell_type": "code",
   "execution_count": 3,
   "metadata": {},
   "outputs": [
    {
     "data": {
      "text/html": [
       "<div>\n",
       "<style scoped>\n",
       "    .dataframe tbody tr th:only-of-type {\n",
       "        vertical-align: middle;\n",
       "    }\n",
       "\n",
       "    .dataframe tbody tr th {\n",
       "        vertical-align: top;\n",
       "    }\n",
       "\n",
       "    .dataframe thead th {\n",
       "        text-align: right;\n",
       "    }\n",
       "</style>\n",
       "<table border=\"1\" class=\"dataframe\">\n",
       "  <thead>\n",
       "    <tr style=\"text-align: right;\">\n",
       "      <th></th>\n",
       "      <th>user_id</th>\n",
       "      <th>prod_id</th>\n",
       "      <th>ratings</th>\n",
       "      <th>timestamp</th>\n",
       "    </tr>\n",
       "  </thead>\n",
       "  <tbody>\n",
       "    <tr>\n",
       "      <th>0</th>\n",
       "      <td>A3L1GVWVJKWZZS</td>\n",
       "      <td>B0058UUR6E</td>\n",
       "      <td>5.0</td>\n",
       "      <td>1364774400</td>\n",
       "    </tr>\n",
       "    <tr>\n",
       "      <th>1</th>\n",
       "      <td>A08831071BVKZMKNCPI5S</td>\n",
       "      <td>B009ID0VVS</td>\n",
       "      <td>5.0</td>\n",
       "      <td>1357257600</td>\n",
       "    </tr>\n",
       "    <tr>\n",
       "      <th>2</th>\n",
       "      <td>A1SINU2I4IOPNU</td>\n",
       "      <td>B000GBO9IM</td>\n",
       "      <td>4.0</td>\n",
       "      <td>1358121600</td>\n",
       "    </tr>\n",
       "    <tr>\n",
       "      <th>3</th>\n",
       "      <td>A3P3P31EEOX2BD</td>\n",
       "      <td>B00CDCIOHO</td>\n",
       "      <td>3.0</td>\n",
       "      <td>1404950400</td>\n",
       "    </tr>\n",
       "    <tr>\n",
       "      <th>4</th>\n",
       "      <td>A3DBLJ3MPBJQMN</td>\n",
       "      <td>B000MS3VGA</td>\n",
       "      <td>5.0</td>\n",
       "      <td>1294444800</td>\n",
       "    </tr>\n",
       "  </tbody>\n",
       "</table>\n",
       "</div>"
      ],
      "text/plain": [
       "                 user_id     prod_id  ratings   timestamp\n",
       "0         A3L1GVWVJKWZZS  B0058UUR6E      5.0  1364774400\n",
       "1  A08831071BVKZMKNCPI5S  B009ID0VVS      5.0  1357257600\n",
       "2         A1SINU2I4IOPNU  B000GBO9IM      4.0  1358121600\n",
       "3         A3P3P31EEOX2BD  B00CDCIOHO      3.0  1404950400\n",
       "4         A3DBLJ3MPBJQMN  B000MS3VGA      5.0  1294444800"
      ]
     },
     "execution_count": 3,
     "metadata": {},
     "output_type": "execute_result"
    }
   ],
   "source": [
    "df_review.head()"
   ]
  },
  {
   "cell_type": "code",
   "execution_count": 4,
   "metadata": {},
   "outputs": [
    {
     "data": {
      "text/plain": [
       "(500000, 4)"
      ]
     },
     "execution_count": 4,
     "metadata": {},
     "output_type": "execute_result"
    }
   ],
   "source": [
    "df_review.shape"
   ]
  },
  {
   "cell_type": "code",
   "execution_count": 5,
   "metadata": {},
   "outputs": [],
   "source": [
    "# dropping the timestamp for the dataset\n",
    "df_review.drop('timestamp', axis = 1, inplace=True)"
   ]
  },
  {
   "cell_type": "code",
   "execution_count": 6,
   "metadata": {},
   "outputs": [
    {
     "name": "stdout",
     "output_type": "stream",
     "text": [
      "<class 'pandas.core.frame.DataFrame'>\n",
      "RangeIndex: 500000 entries, 0 to 499999\n",
      "Data columns (total 3 columns):\n",
      " #   Column   Non-Null Count   Dtype  \n",
      "---  ------   --------------   -----  \n",
      " 0   user_id  500000 non-null  object \n",
      " 1   prod_id  500000 non-null  object \n",
      " 2   ratings  500000 non-null  float64\n",
      "dtypes: float64(1), object(2)\n",
      "memory usage: 11.4+ MB\n"
     ]
    }
   ],
   "source": [
    "df_review.info()"
   ]
  },
  {
   "cell_type": "code",
   "execution_count": 7,
   "metadata": {},
   "outputs": [
    {
     "data": {
      "text/plain": [
       "user_id    0\n",
       "prod_id    0\n",
       "ratings    0\n",
       "dtype: int64"
      ]
     },
     "execution_count": 7,
     "metadata": {},
     "output_type": "execute_result"
    }
   ],
   "source": [
    "# checking for null data\n",
    "df_review.isnull().sum()"
   ]
  },
  {
   "cell_type": "code",
   "execution_count": 8,
   "metadata": {},
   "outputs": [
    {
     "data": {
      "text/plain": [
       "0"
      ]
     },
     "execution_count": 8,
     "metadata": {},
     "output_type": "execute_result"
    }
   ],
   "source": [
    "# checking for duplicates\n",
    "df_review.duplicated().sum()"
   ]
  },
  {
   "cell_type": "code",
   "execution_count": 9,
   "metadata": {},
   "outputs": [
    {
     "data": {
      "text/plain": [
       "448368"
      ]
     },
     "execution_count": 9,
     "metadata": {},
     "output_type": "execute_result"
    }
   ],
   "source": [
    "# unique users\n",
    "len(df_review['user_id'].unique())"
   ]
  },
  {
   "cell_type": "code",
   "execution_count": 10,
   "metadata": {},
   "outputs": [
    {
     "data": {
      "text/plain": [
       "130138"
      ]
     },
     "execution_count": 10,
     "metadata": {},
     "output_type": "execute_result"
    }
   ],
   "source": [
    "# unique products\n",
    "len(df_review['prod_id'].unique())"
   ]
  },
  {
   "cell_type": "code",
   "execution_count": 11,
   "metadata": {},
   "outputs": [
    {
     "name": "stdout",
     "output_type": "stream",
     "text": [
      "[1.0, 2.0, 3.0, 4.0, 5.0]\n"
     ]
    }
   ],
   "source": [
    "# ratings range\n",
    "print(sorted(df_review['ratings'].unique()))"
   ]
  },
  {
   "cell_type": "code",
   "execution_count": 12,
   "metadata": {},
   "outputs": [
    {
     "data": {
      "image/png": "[encoded data removed]",
      "text/plain": [
       "<Figure size 576x360 with 1 Axes>"
      ]
     },
     "metadata": {
      "needs_background": "light"
     },
     "output_type": "display_data"
    }
   ],
   "source": [
    "# count of the products for each ratings\n",
    "plt.figure(figsize=(8,5))\n",
    "ax = sns.countplot(df_review['ratings'], order = df_review['ratings'].value_counts().index)\n",
    "for p, label in zip(ax.patches, df_review['ratings'].value_counts()):\n",
    "    ax.annotate(label, (p.get_x()+ 0.25, p.get_height()+ 0.5))\n",
    "plt.show()"
   ]
  },
  {
   "cell_type": "code",
   "execution_count": 13,
   "metadata": {},
   "outputs": [
    {
     "data": {
      "text/plain": [
       "5.0    277826\n",
       "4.0     95089\n",
       "1.0     57452\n",
       "3.0     40382\n",
       "2.0     29251\n",
       "Name: ratings, dtype: int64"
      ]
     },
     "execution_count": 13,
     "metadata": {},
     "output_type": "execute_result"
    }
   ],
   "source": [
    "df_review['ratings'].value_counts()"
   ]
  },
  {
   "cell_type": "code",
   "execution_count": 14,
   "metadata": {},
   "outputs": [],
   "source": [
    "# checking the number of products rated by each user\n",
    "user_reviews_count = df_review.groupby(df_review['user_id']).count()"
   ]
  },
  {
   "cell_type": "code",
   "execution_count": 15,
   "metadata": {},
   "outputs": [
    {
     "data": {
      "text/html": [
       "<div>\n",
       "<style scoped>\n",
       "    .dataframe tbody tr th:only-of-type {\n",
       "        vertical-align: middle;\n",
       "    }\n",
       "\n",
       "    .dataframe tbody tr th {\n",
       "        vertical-align: top;\n",
       "    }\n",
       "\n",
       "    .dataframe thead th {\n",
       "        text-align: right;\n",
       "    }\n",
       "</style>\n",
       "<table border=\"1\" class=\"dataframe\">\n",
       "  <thead>\n",
       "    <tr style=\"text-align: right;\">\n",
       "      <th></th>\n",
       "      <th>Prod_rated_count</th>\n",
       "    </tr>\n",
       "    <tr>\n",
       "      <th>user_id</th>\n",
       "      <th></th>\n",
       "    </tr>\n",
       "  </thead>\n",
       "  <tbody>\n",
       "    <tr>\n",
       "      <th>A000186437REL8X2RW8UW</th>\n",
       "      <td>1</td>\n",
       "    </tr>\n",
       "    <tr>\n",
       "      <th>A00094601Z09BC1N3Q4L7</th>\n",
       "      <td>1</td>\n",
       "    </tr>\n",
       "    <tr>\n",
       "      <th>A0009878M2RGMMHGJH39</th>\n",
       "      <td>1</td>\n",
       "    </tr>\n",
       "    <tr>\n",
       "      <th>A0010326246DL36LSV742</th>\n",
       "      <td>1</td>\n",
       "    </tr>\n",
       "    <tr>\n",
       "      <th>A0015188MMYTOC3V4U11</th>\n",
       "      <td>1</td>\n",
       "    </tr>\n",
       "    <tr>\n",
       "      <th>...</th>\n",
       "      <td>...</td>\n",
       "    </tr>\n",
       "    <tr>\n",
       "      <th>AZZX23UGJGKTT</th>\n",
       "      <td>2</td>\n",
       "    </tr>\n",
       "    <tr>\n",
       "      <th>AZZX3COL525E6</th>\n",
       "      <td>1</td>\n",
       "    </tr>\n",
       "    <tr>\n",
       "      <th>AZZY9LPX8V5LS</th>\n",
       "      <td>1</td>\n",
       "    </tr>\n",
       "    <tr>\n",
       "      <th>AZZYW4YOE1B6E</th>\n",
       "      <td>3</td>\n",
       "    </tr>\n",
       "    <tr>\n",
       "      <th>AZZZOVIBXHGDR</th>\n",
       "      <td>2</td>\n",
       "    </tr>\n",
       "  </tbody>\n",
       "</table>\n",
       "<p>448368 rows × 1 columns</p>\n",
       "</div>"
      ],
      "text/plain": [
       "                       Prod_rated_count\n",
       "user_id                                \n",
       "A000186437REL8X2RW8UW                 1\n",
       "A00094601Z09BC1N3Q4L7                 1\n",
       "A0009878M2RGMMHGJH39                  1\n",
       "A0010326246DL36LSV742                 1\n",
       "A0015188MMYTOC3V4U11                  1\n",
       "...                                 ...\n",
       "AZZX23UGJGKTT                         2\n",
       "AZZX3COL525E6                         1\n",
       "AZZY9LPX8V5LS                         1\n",
       "AZZYW4YOE1B6E                         3\n",
       "AZZZOVIBXHGDR                         2\n",
       "\n",
       "[448368 rows x 1 columns]"
      ]
     },
     "execution_count": 15,
     "metadata": {},
     "output_type": "execute_result"
    }
   ],
   "source": [
    "df_user_review_group = pd.DataFrame(user_reviews_count['prod_id'])\n",
    "df_user_review_group.rename(columns = {'prod_id':'Prod_rated_count'}, inplace = True)\n",
    "df_user_review_group"
   ]
  },
  {
   "cell_type": "code",
   "execution_count": 16,
   "metadata": {},
   "outputs": [
    {
     "data": {
      "image/png": "[encoded data removed]",
      "text/plain": [
       "<Figure size 1080x720 with 1 Axes>"
      ]
     },
     "metadata": {
      "needs_background": "light"
     },
     "output_type": "display_data"
    }
   ],
   "source": [
    "# visually checking the number of products rated by the user\n",
    "plt.figure(figsize=(15,10))\n",
    "sns.countplot(df_user_review_group['Prod_rated_count'])\n",
    "plt.show()"
   ]
  },
  {
   "cell_type": "code",
   "execution_count": 17,
   "metadata": {},
   "outputs": [
    {
     "data": {
      "text/plain": [
       "1     411121\n",
       "2      29138\n",
       "3       5356\n",
       "4       1522\n",
       "5        507\n",
       "6        288\n",
       "7        152\n",
       "8         87\n",
       "9         61\n",
       "10        28\n",
       "11        24\n",
       "12        22\n",
       "13        12\n",
       "14        11\n",
       "15        11\n",
       "16         5\n",
       "18         4\n",
       "19         4\n",
       "20         3\n",
       "17         2\n",
       "23         2\n",
       "34         1\n",
       "21         1\n",
       "22         1\n",
       "24         1\n",
       "28         1\n",
       "29         1\n",
       "30         1\n",
       "36         1\n",
       "Name: Prod_rated_count, dtype: int64"
      ]
     },
     "execution_count": 17,
     "metadata": {},
     "output_type": "execute_result"
    }
   ],
   "source": [
    "# looking into the no of products rated by the users\n",
    "df_user_review_group['Prod_rated_count'].value_counts()"
   ]
  },
  {
   "cell_type": "code",
   "execution_count": 18,
   "metadata": {},
   "outputs": [
    {
     "data": {
      "text/html": [
       "<div>\n",
       "<style scoped>\n",
       "    .dataframe tbody tr th:only-of-type {\n",
       "        vertical-align: middle;\n",
       "    }\n",
       "\n",
       "    .dataframe tbody tr th {\n",
       "        vertical-align: top;\n",
       "    }\n",
       "\n",
       "    .dataframe thead th {\n",
       "        text-align: right;\n",
       "    }\n",
       "</style>\n",
       "<table border=\"1\" class=\"dataframe\">\n",
       "  <thead>\n",
       "    <tr style=\"text-align: right;\">\n",
       "      <th></th>\n",
       "      <th>Prod_rated_count</th>\n",
       "    </tr>\n",
       "    <tr>\n",
       "      <th>user_id</th>\n",
       "      <th></th>\n",
       "    </tr>\n",
       "  </thead>\n",
       "  <tbody>\n",
       "    <tr>\n",
       "      <th>A100UD67AHFODS</th>\n",
       "      <td>9</td>\n",
       "    </tr>\n",
       "    <tr>\n",
       "      <th>A100WO06OQR8BQ</th>\n",
       "      <td>10</td>\n",
       "    </tr>\n",
       "    <tr>\n",
       "      <th>A107D9T206Z36</th>\n",
       "      <td>6</td>\n",
       "    </tr>\n",
       "    <tr>\n",
       "      <th>A10NMELR4KX0J6</th>\n",
       "      <td>6</td>\n",
       "    </tr>\n",
       "    <tr>\n",
       "      <th>A10O7THJ2O20AG</th>\n",
       "      <td>8</td>\n",
       "    </tr>\n",
       "    <tr>\n",
       "      <th>...</th>\n",
       "      <td>...</td>\n",
       "    </tr>\n",
       "    <tr>\n",
       "      <th>AZBXKUH4AIW3X</th>\n",
       "      <td>7</td>\n",
       "    </tr>\n",
       "    <tr>\n",
       "      <th>AZHGPE0NPPQVT</th>\n",
       "      <td>6</td>\n",
       "    </tr>\n",
       "    <tr>\n",
       "      <th>AZIMOGTBT3LPP</th>\n",
       "      <td>6</td>\n",
       "    </tr>\n",
       "    <tr>\n",
       "      <th>AZMY6E8B52L2T</th>\n",
       "      <td>9</td>\n",
       "    </tr>\n",
       "    <tr>\n",
       "      <th>AZNUHQSHZHSUE</th>\n",
       "      <td>7</td>\n",
       "    </tr>\n",
       "  </tbody>\n",
       "</table>\n",
       "<p>724 rows × 1 columns</p>\n",
       "</div>"
      ],
      "text/plain": [
       "                Prod_rated_count\n",
       "user_id                         \n",
       "A100UD67AHFODS                 9\n",
       "A100WO06OQR8BQ                10\n",
       "A107D9T206Z36                  6\n",
       "A10NMELR4KX0J6                 6\n",
       "A10O7THJ2O20AG                 8\n",
       "...                          ...\n",
       "AZBXKUH4AIW3X                  7\n",
       "AZHGPE0NPPQVT                  6\n",
       "AZIMOGTBT3LPP                  6\n",
       "AZMY6E8B52L2T                  9\n",
       "AZNUHQSHZHSUE                  7\n",
       "\n",
       "[724 rows x 1 columns]"
      ]
     },
     "execution_count": 18,
     "metadata": {},
     "output_type": "execute_result"
    }
   ],
   "source": [
    "#users rated more than 5 products\n",
    "df_user_review_group[df_user_review_group['Prod_rated_count'] > 5]"
   ]
  },
  {
   "cell_type": "code",
   "execution_count": 19,
   "metadata": {},
   "outputs": [
    {
     "data": {
      "text/html": [
       "<div>\n",
       "<style scoped>\n",
       "    .dataframe tbody tr th:only-of-type {\n",
       "        vertical-align: middle;\n",
       "    }\n",
       "\n",
       "    .dataframe tbody tr th {\n",
       "        vertical-align: top;\n",
       "    }\n",
       "\n",
       "    .dataframe thead th {\n",
       "        text-align: right;\n",
       "    }\n",
       "</style>\n",
       "<table border=\"1\" class=\"dataframe\">\n",
       "  <thead>\n",
       "    <tr style=\"text-align: right;\">\n",
       "      <th></th>\n",
       "      <th>Prod_rated_count</th>\n",
       "    </tr>\n",
       "    <tr>\n",
       "      <th>user_id</th>\n",
       "      <th></th>\n",
       "    </tr>\n",
       "  </thead>\n",
       "  <tbody>\n",
       "    <tr>\n",
       "      <th>A680RUE1FDO8B</th>\n",
       "      <td>36</td>\n",
       "    </tr>\n",
       "  </tbody>\n",
       "</table>\n",
       "</div>"
      ],
      "text/plain": [
       "               Prod_rated_count\n",
       "user_id                        \n",
       "A680RUE1FDO8B                36"
      ]
     },
     "execution_count": 19,
     "metadata": {},
     "output_type": "execute_result"
    }
   ],
   "source": [
    "#user who has rated most number of products\n",
    "df_user_review_group[df_user_review_group['Prod_rated_count']==max(df_user_review_group['Prod_rated_count'])]"
   ]
  },
  {
   "cell_type": "code",
   "execution_count": 20,
   "metadata": {},
   "outputs": [],
   "source": [
    "# checking number of users rating each product\n",
    "prod_rated_user_count = df_review.groupby(df_review['prod_id']).count()"
   ]
  },
  {
   "cell_type": "code",
   "execution_count": 21,
   "metadata": {},
   "outputs": [
    {
     "data": {
      "text/html": [
       "<div>\n",
       "<style scoped>\n",
       "    .dataframe tbody tr th:only-of-type {\n",
       "        vertical-align: middle;\n",
       "    }\n",
       "\n",
       "    .dataframe tbody tr th {\n",
       "        vertical-align: top;\n",
       "    }\n",
       "\n",
       "    .dataframe thead th {\n",
       "        text-align: right;\n",
       "    }\n",
       "</style>\n",
       "<table border=\"1\" class=\"dataframe\">\n",
       "  <thead>\n",
       "    <tr style=\"text-align: right;\">\n",
       "      <th></th>\n",
       "      <th>No_of_users_rated</th>\n",
       "    </tr>\n",
       "    <tr>\n",
       "      <th>prod_id</th>\n",
       "      <th></th>\n",
       "    </tr>\n",
       "  </thead>\n",
       "  <tbody>\n",
       "    <tr>\n",
       "      <th>0439886341</th>\n",
       "      <td>1</td>\n",
       "    </tr>\n",
       "    <tr>\n",
       "      <th>0528881469</th>\n",
       "      <td>1</td>\n",
       "    </tr>\n",
       "    <tr>\n",
       "      <th>0594012015</th>\n",
       "      <td>1</td>\n",
       "    </tr>\n",
       "    <tr>\n",
       "      <th>0594033926</th>\n",
       "      <td>1</td>\n",
       "    </tr>\n",
       "    <tr>\n",
       "      <th>0594451647</th>\n",
       "      <td>1</td>\n",
       "    </tr>\n",
       "    <tr>\n",
       "      <th>...</th>\n",
       "      <td>...</td>\n",
       "    </tr>\n",
       "    <tr>\n",
       "      <th>B00LKWZKH0</th>\n",
       "      <td>1</td>\n",
       "    </tr>\n",
       "    <tr>\n",
       "      <th>B00LMCPYPG</th>\n",
       "      <td>1</td>\n",
       "    </tr>\n",
       "    <tr>\n",
       "      <th>B00LMOH8DU</th>\n",
       "      <td>2</td>\n",
       "    </tr>\n",
       "    <tr>\n",
       "      <th>B00LXEC8CU</th>\n",
       "      <td>1</td>\n",
       "    </tr>\n",
       "    <tr>\n",
       "      <th>BT008G3W52</th>\n",
       "      <td>1</td>\n",
       "    </tr>\n",
       "  </tbody>\n",
       "</table>\n",
       "<p>130138 rows × 1 columns</p>\n",
       "</div>"
      ],
      "text/plain": [
       "            No_of_users_rated\n",
       "prod_id                      \n",
       "0439886341                  1\n",
       "0528881469                  1\n",
       "0594012015                  1\n",
       "0594033926                  1\n",
       "0594451647                  1\n",
       "...                       ...\n",
       "B00LKWZKH0                  1\n",
       "B00LMCPYPG                  1\n",
       "B00LMOH8DU                  2\n",
       "B00LXEC8CU                  1\n",
       "BT008G3W52                  1\n",
       "\n",
       "[130138 rows x 1 columns]"
      ]
     },
     "execution_count": 21,
     "metadata": {},
     "output_type": "execute_result"
    }
   ],
   "source": [
    "df_prod_rated_user_count= pd.DataFrame(prod_rated_user_count['user_id'])\n",
    "df_prod_rated_user_count.rename(columns = {'user_id':'No_of_users_rated'}, inplace = True)\n",
    "df_prod_rated_user_count"
   ]
  },
  {
   "cell_type": "code",
   "execution_count": 22,
   "metadata": {},
   "outputs": [
    {
     "data": {
      "text/plain": [
       "1      73246\n",
       "2      20782\n",
       "3       9877\n",
       "4       5923\n",
       "5       3827\n",
       "       ...  \n",
       "226        1\n",
       "354        1\n",
       "163        1\n",
       "227        1\n",
       "285        1\n",
       "Name: No_of_users_rated, Length: 255, dtype: int64"
      ]
     },
     "execution_count": 22,
     "metadata": {},
     "output_type": "execute_result"
    }
   ],
   "source": [
    "# range of users rating each product\n",
    "df_prod_rated_user_count['No_of_users_rated'].value_counts()"
   ]
  },
  {
   "cell_type": "code",
   "execution_count": 23,
   "metadata": {},
   "outputs": [
    {
     "data": {
      "text/html": [
       "<div>\n",
       "<style scoped>\n",
       "    .dataframe tbody tr th:only-of-type {\n",
       "        vertical-align: middle;\n",
       "    }\n",
       "\n",
       "    .dataframe tbody tr th {\n",
       "        vertical-align: top;\n",
       "    }\n",
       "\n",
       "    .dataframe thead th {\n",
       "        text-align: right;\n",
       "    }\n",
       "</style>\n",
       "<table border=\"1\" class=\"dataframe\">\n",
       "  <thead>\n",
       "    <tr style=\"text-align: right;\">\n",
       "      <th></th>\n",
       "      <th>No_of_users_rated</th>\n",
       "    </tr>\n",
       "    <tr>\n",
       "      <th>prod_id</th>\n",
       "      <th></th>\n",
       "    </tr>\n",
       "  </thead>\n",
       "  <tbody>\n",
       "    <tr>\n",
       "      <th>0972683275</th>\n",
       "      <td>58</td>\n",
       "    </tr>\n",
       "    <tr>\n",
       "      <th>1400501466</th>\n",
       "      <td>22</td>\n",
       "    </tr>\n",
       "    <tr>\n",
       "      <th>1400501520</th>\n",
       "      <td>6</td>\n",
       "    </tr>\n",
       "    <tr>\n",
       "      <th>1400501776</th>\n",
       "      <td>9</td>\n",
       "    </tr>\n",
       "    <tr>\n",
       "      <th>1400532620</th>\n",
       "      <td>8</td>\n",
       "    </tr>\n",
       "    <tr>\n",
       "      <th>...</th>\n",
       "      <td>...</td>\n",
       "    </tr>\n",
       "    <tr>\n",
       "      <th>B00K589F8A</th>\n",
       "      <td>8</td>\n",
       "    </tr>\n",
       "    <tr>\n",
       "      <th>B00K91DB7Y</th>\n",
       "      <td>12</td>\n",
       "    </tr>\n",
       "    <tr>\n",
       "      <th>B00KFAGCUM</th>\n",
       "      <td>11</td>\n",
       "    </tr>\n",
       "    <tr>\n",
       "      <th>B00KHA5G6G</th>\n",
       "      <td>8</td>\n",
       "    </tr>\n",
       "    <tr>\n",
       "      <th>B00KINSDK8</th>\n",
       "      <td>6</td>\n",
       "    </tr>\n",
       "  </tbody>\n",
       "</table>\n",
       "<p>16483 rows × 1 columns</p>\n",
       "</div>"
      ],
      "text/plain": [
       "            No_of_users_rated\n",
       "prod_id                      \n",
       "0972683275                 58\n",
       "1400501466                 22\n",
       "1400501520                  6\n",
       "1400501776                  9\n",
       "1400532620                  8\n",
       "...                       ...\n",
       "B00K589F8A                  8\n",
       "B00K91DB7Y                 12\n",
       "B00KFAGCUM                 11\n",
       "B00KHA5G6G                  8\n",
       "B00KINSDK8                  6\n",
       "\n",
       "[16483 rows x 1 columns]"
      ]
     },
     "execution_count": 23,
     "metadata": {},
     "output_type": "execute_result"
    }
   ],
   "source": [
    "# checking the number of users rated more than 5 products\n",
    "df_prod_rated_user_count[df_prod_rated_user_count['No_of_users_rated'] >5]"
   ]
  },
  {
   "cell_type": "code",
   "execution_count": 24,
   "metadata": {},
   "outputs": [
    {
     "data": {
      "text/html": [
       "<div>\n",
       "<style scoped>\n",
       "    .dataframe tbody tr th:only-of-type {\n",
       "        vertical-align: middle;\n",
       "    }\n",
       "\n",
       "    .dataframe tbody tr th {\n",
       "        vertical-align: top;\n",
       "    }\n",
       "\n",
       "    .dataframe thead th {\n",
       "        text-align: right;\n",
       "    }\n",
       "</style>\n",
       "<table border=\"1\" class=\"dataframe\">\n",
       "  <thead>\n",
       "    <tr style=\"text-align: right;\">\n",
       "      <th></th>\n",
       "      <th>No_of_users_rated</th>\n",
       "    </tr>\n",
       "    <tr>\n",
       "      <th>prod_id</th>\n",
       "      <th></th>\n",
       "    </tr>\n",
       "  </thead>\n",
       "  <tbody>\n",
       "    <tr>\n",
       "      <th>B0074BW614</th>\n",
       "      <td>1138</td>\n",
       "    </tr>\n",
       "  </tbody>\n",
       "</table>\n",
       "</div>"
      ],
      "text/plain": [
       "            No_of_users_rated\n",
       "prod_id                      \n",
       "B0074BW614               1138"
      ]
     },
     "execution_count": 24,
     "metadata": {},
     "output_type": "execute_result"
    }
   ],
   "source": [
    "# the product rated by most of the users\n",
    "df_prod_rated_user_count[df_prod_rated_user_count['No_of_users_rated'] == max(df_prod_rated_user_count['No_of_users_rated'])]"
   ]
  },
  {
   "cell_type": "code",
   "execution_count": 25,
   "metadata": {},
   "outputs": [
    {
     "data": {
      "image/png": "[encoded data removed]",
      "text/plain": [
       "<Figure size 432x288 with 1 Axes>"
      ]
     },
     "metadata": {
      "needs_background": "light"
     },
     "output_type": "display_data"
    }
   ],
   "source": [
    "# checking the ratings distribution for the user who rated the most \n",
    "sns.countplot(df_review[df_review['user_id'] == \"A680RUE1FDO8B\"].ratings)\n",
    "plt.show()"
   ]
  },
  {
   "cell_type": "code",
   "execution_count": 26,
   "metadata": {},
   "outputs": [
    {
     "data": {
      "image/png": "[encoded data removed]",
      "text/plain": [
       "<Figure size 432x288 with 1 Axes>"
      ]
     },
     "metadata": {
      "needs_background": "light"
     },
     "output_type": "display_data"
    }
   ],
   "source": [
    "# checking the ratings distribution for the product that is rated the most \n",
    "sns.countplot(df_review[df_review['prod_id'] == \"B0074BW614\"].ratings)\n",
    "plt.show()"
   ]
  },
  {
   "cell_type": "markdown",
   "metadata": {},
   "source": [
    "# Popularity recommendation "
   ]
  },
  {
   "cell_type": "code",
   "execution_count": 27,
   "metadata": {},
   "outputs": [
    {
     "data": {
      "text/plain": [
       "prod_id\n",
       "BT008G3W52    5.0\n",
       "B004AC52UC    5.0\n",
       "B004AGJRMC    5.0\n",
       "B004AGED3A    5.0\n",
       "B004AFOK2U    5.0\n",
       "             ... \n",
       "B0092TLBA8    1.0\n",
       "B00DKRX7LO    1.0\n",
       "B00DKVY35O    1.0\n",
       "B00028LF8Q    1.0\n",
       "0439886341    1.0\n",
       "Name: ratings, Length: 130138, dtype: float64"
      ]
     },
     "execution_count": 27,
     "metadata": {},
     "output_type": "execute_result"
    }
   ],
   "source": [
    "# getting the records based on the ratings for each product\n",
    "df_review.groupby('prod_id')['ratings'].mean().sort_values(ascending=False)"
   ]
  },
  {
   "cell_type": "code",
   "execution_count": 28,
   "metadata": {},
   "outputs": [
    {
     "data": {
      "text/plain": [
       "prod_id\n",
       "BT008G3W52    5.0\n",
       "B004AC52UC    5.0\n",
       "B004AGJRMC    5.0\n",
       "B004AGED3A    5.0\n",
       "B004AFOK2U    5.0\n",
       "B004AFISUK    5.0\n",
       "B004AFFZNI    5.0\n",
       "B004AFEYU8    5.0\n",
       "B004AEVIOY    5.0\n",
       "B004AEVI4Y    5.0\n",
       "Name: ratings, dtype: float64"
      ]
     },
     "execution_count": 28,
     "metadata": {},
     "output_type": "execute_result"
    }
   ],
   "source": [
    "# checking for the top 10 most rated products \n",
    "df_review.groupby('prod_id')['ratings'].mean().sort_values(ascending=False).head(10)"
   ]
  },
  {
   "cell_type": "code",
   "execution_count": 29,
   "metadata": {},
   "outputs": [],
   "source": [
    "ratings_mean_count = pd.DataFrame(df_review.groupby('prod_id')['ratings'].mean()) "
   ]
  },
  {
   "cell_type": "code",
   "execution_count": 30,
   "metadata": {},
   "outputs": [],
   "source": [
    "ratings_mean_count['rating_counts'] = pd.DataFrame(df_review.groupby('prod_id')['ratings'].count())  "
   ]
  },
  {
   "cell_type": "code",
   "execution_count": 31,
   "metadata": {},
   "outputs": [],
   "source": [
    "# getting the product of the ratings with rating count\n",
    "ratings_mean_count['product'] = ratings_mean_count['rating_counts']*ratings_mean_count['ratings']"
   ]
  },
  {
   "cell_type": "code",
   "execution_count": 32,
   "metadata": {},
   "outputs": [
    {
     "data": {
      "text/html": [
       "<div>\n",
       "<style scoped>\n",
       "    .dataframe tbody tr th:only-of-type {\n",
       "        vertical-align: middle;\n",
       "    }\n",
       "\n",
       "    .dataframe tbody tr th {\n",
       "        vertical-align: top;\n",
       "    }\n",
       "\n",
       "    .dataframe thead th {\n",
       "        text-align: right;\n",
       "    }\n",
       "</style>\n",
       "<table border=\"1\" class=\"dataframe\">\n",
       "  <thead>\n",
       "    <tr style=\"text-align: right;\">\n",
       "      <th></th>\n",
       "      <th>ratings</th>\n",
       "      <th>rating_counts</th>\n",
       "      <th>product</th>\n",
       "    </tr>\n",
       "    <tr>\n",
       "      <th>prod_id</th>\n",
       "      <th></th>\n",
       "      <th></th>\n",
       "      <th></th>\n",
       "    </tr>\n",
       "  </thead>\n",
       "  <tbody>\n",
       "    <tr>\n",
       "      <th>B0074BW614</th>\n",
       "      <td>4.465729</td>\n",
       "      <td>1138</td>\n",
       "      <td>5082.0</td>\n",
       "    </tr>\n",
       "    <tr>\n",
       "      <th>B00DR0PDNE</th>\n",
       "      <td>3.943327</td>\n",
       "      <td>1094</td>\n",
       "      <td>4314.0</td>\n",
       "    </tr>\n",
       "    <tr>\n",
       "      <th>B007WTAJTO</th>\n",
       "      <td>4.417894</td>\n",
       "      <td>883</td>\n",
       "      <td>3901.0</td>\n",
       "    </tr>\n",
       "    <tr>\n",
       "      <th>B0019EHU8G</th>\n",
       "      <td>4.740310</td>\n",
       "      <td>774</td>\n",
       "      <td>3669.0</td>\n",
       "    </tr>\n",
       "    <tr>\n",
       "      <th>B003ELYQGG</th>\n",
       "      <td>4.386928</td>\n",
       "      <td>765</td>\n",
       "      <td>3356.0</td>\n",
       "    </tr>\n",
       "    <tr>\n",
       "      <th>...</th>\n",
       "      <td>...</td>\n",
       "      <td>...</td>\n",
       "      <td>...</td>\n",
       "    </tr>\n",
       "    <tr>\n",
       "      <th>B003OBY7T2</th>\n",
       "      <td>1.000000</td>\n",
       "      <td>1</td>\n",
       "      <td>1.0</td>\n",
       "    </tr>\n",
       "    <tr>\n",
       "      <th>B003O7LR8A</th>\n",
       "      <td>1.000000</td>\n",
       "      <td>1</td>\n",
       "      <td>1.0</td>\n",
       "    </tr>\n",
       "    <tr>\n",
       "      <th>B003O6SKYA</th>\n",
       "      <td>1.000000</td>\n",
       "      <td>1</td>\n",
       "      <td>1.0</td>\n",
       "    </tr>\n",
       "    <tr>\n",
       "      <th>B003O5MTYS</th>\n",
       "      <td>1.000000</td>\n",
       "      <td>1</td>\n",
       "      <td>1.0</td>\n",
       "    </tr>\n",
       "    <tr>\n",
       "      <th>0439886341</th>\n",
       "      <td>1.000000</td>\n",
       "      <td>1</td>\n",
       "      <td>1.0</td>\n",
       "    </tr>\n",
       "  </tbody>\n",
       "</table>\n",
       "<p>130138 rows × 3 columns</p>\n",
       "</div>"
      ],
      "text/plain": [
       "             ratings  rating_counts  product\n",
       "prod_id                                     \n",
       "B0074BW614  4.465729           1138   5082.0\n",
       "B00DR0PDNE  3.943327           1094   4314.0\n",
       "B007WTAJTO  4.417894            883   3901.0\n",
       "B0019EHU8G  4.740310            774   3669.0\n",
       "B003ELYQGG  4.386928            765   3356.0\n",
       "...              ...            ...      ...\n",
       "B003OBY7T2  1.000000              1      1.0\n",
       "B003O7LR8A  1.000000              1      1.0\n",
       "B003O6SKYA  1.000000              1      1.0\n",
       "B003O5MTYS  1.000000              1      1.0\n",
       "0439886341  1.000000              1      1.0\n",
       "\n",
       "[130138 rows x 3 columns]"
      ]
     },
     "execution_count": 32,
     "metadata": {},
     "output_type": "execute_result"
    }
   ],
   "source": [
    "ratings_mean_count.sort_values(by='product', ascending=False)"
   ]
  },
  {
   "cell_type": "code",
   "execution_count": 33,
   "metadata": {},
   "outputs": [
    {
     "name": "stdout",
     "output_type": "stream",
     "text": [
      "Top 10 products\n"
     ]
    },
    {
     "data": {
      "text/html": [
       "<div>\n",
       "<style scoped>\n",
       "    .dataframe tbody tr th:only-of-type {\n",
       "        vertical-align: middle;\n",
       "    }\n",
       "\n",
       "    .dataframe tbody tr th {\n",
       "        vertical-align: top;\n",
       "    }\n",
       "\n",
       "    .dataframe thead th {\n",
       "        text-align: right;\n",
       "    }\n",
       "</style>\n",
       "<table border=\"1\" class=\"dataframe\">\n",
       "  <thead>\n",
       "    <tr style=\"text-align: right;\">\n",
       "      <th></th>\n",
       "      <th>ratings</th>\n",
       "      <th>rating_counts</th>\n",
       "      <th>product</th>\n",
       "    </tr>\n",
       "    <tr>\n",
       "      <th>prod_id</th>\n",
       "      <th></th>\n",
       "      <th></th>\n",
       "      <th></th>\n",
       "    </tr>\n",
       "  </thead>\n",
       "  <tbody>\n",
       "    <tr>\n",
       "      <th>B0074BW614</th>\n",
       "      <td>4.465729</td>\n",
       "      <td>1138</td>\n",
       "      <td>5082.0</td>\n",
       "    </tr>\n",
       "    <tr>\n",
       "      <th>B00DR0PDNE</th>\n",
       "      <td>3.943327</td>\n",
       "      <td>1094</td>\n",
       "      <td>4314.0</td>\n",
       "    </tr>\n",
       "    <tr>\n",
       "      <th>B007WTAJTO</th>\n",
       "      <td>4.417894</td>\n",
       "      <td>883</td>\n",
       "      <td>3901.0</td>\n",
       "    </tr>\n",
       "    <tr>\n",
       "      <th>B0019EHU8G</th>\n",
       "      <td>4.740310</td>\n",
       "      <td>774</td>\n",
       "      <td>3669.0</td>\n",
       "    </tr>\n",
       "    <tr>\n",
       "      <th>B003ELYQGG</th>\n",
       "      <td>4.386928</td>\n",
       "      <td>765</td>\n",
       "      <td>3356.0</td>\n",
       "    </tr>\n",
       "    <tr>\n",
       "      <th>B006GWO5WK</th>\n",
       "      <td>4.275325</td>\n",
       "      <td>770</td>\n",
       "      <td>3292.0</td>\n",
       "    </tr>\n",
       "    <tr>\n",
       "      <th>B003ES5ZUU</th>\n",
       "      <td>4.684288</td>\n",
       "      <td>681</td>\n",
       "      <td>3190.0</td>\n",
       "    </tr>\n",
       "    <tr>\n",
       "      <th>B007R5YDYA</th>\n",
       "      <td>4.738998</td>\n",
       "      <td>659</td>\n",
       "      <td>3123.0</td>\n",
       "    </tr>\n",
       "    <tr>\n",
       "      <th>B00622AG6S</th>\n",
       "      <td>4.419162</td>\n",
       "      <td>668</td>\n",
       "      <td>2952.0</td>\n",
       "    </tr>\n",
       "    <tr>\n",
       "      <th>B003LR7ME6</th>\n",
       "      <td>4.546263</td>\n",
       "      <td>562</td>\n",
       "      <td>2555.0</td>\n",
       "    </tr>\n",
       "  </tbody>\n",
       "</table>\n",
       "</div>"
      ],
      "text/plain": [
       "             ratings  rating_counts  product\n",
       "prod_id                                     \n",
       "B0074BW614  4.465729           1138   5082.0\n",
       "B00DR0PDNE  3.943327           1094   4314.0\n",
       "B007WTAJTO  4.417894            883   3901.0\n",
       "B0019EHU8G  4.740310            774   3669.0\n",
       "B003ELYQGG  4.386928            765   3356.0\n",
       "B006GWO5WK  4.275325            770   3292.0\n",
       "B003ES5ZUU  4.684288            681   3190.0\n",
       "B007R5YDYA  4.738998            659   3123.0\n",
       "B00622AG6S  4.419162            668   2952.0\n",
       "B003LR7ME6  4.546263            562   2555.0"
      ]
     },
     "execution_count": 33,
     "metadata": {},
     "output_type": "execute_result"
    }
   ],
   "source": [
    "print(\"Top 10 products\")\n",
    "ratings_mean_count.sort_values(by='product', ascending=False).head(10)"
   ]
  },
  {
   "cell_type": "markdown",
   "metadata": {},
   "source": [
    "# Collaborative Filtering model"
   ]
  },
  {
   "cell_type": "code",
   "execution_count": 34,
   "metadata": {},
   "outputs": [],
   "source": [
    "from surprise import Dataset,Reader\n",
    "from surprise.model_selection import cross_validate,train_test_split\n",
    "from surprise import NormalPredictor\n",
    "from surprise.model_selection import train_test_split\n",
    "from surprise import SVD, KNNWithMeans\n",
    "from surprise import accuracy,Prediction"
   ]
  },
  {
   "cell_type": "code",
   "execution_count": 35,
   "metadata": {},
   "outputs": [],
   "source": [
    "reader = Reader(rating_scale=(1, 5))"
   ]
  },
  {
   "cell_type": "code",
   "execution_count": 36,
   "metadata": {},
   "outputs": [],
   "source": [
    "# converting the dataset into the format of surprise\n",
    "data = Dataset.load_from_df(df_review[['user_id','prod_id','ratings']], reader)"
   ]
  },
  {
   "cell_type": "code",
   "execution_count": 37,
   "metadata": {},
   "outputs": [
    {
     "data": {
      "text/html": [
       "<div>\n",
       "<style scoped>\n",
       "    .dataframe tbody tr th:only-of-type {\n",
       "        vertical-align: middle;\n",
       "    }\n",
       "\n",
       "    .dataframe tbody tr th {\n",
       "        vertical-align: top;\n",
       "    }\n",
       "\n",
       "    .dataframe thead th {\n",
       "        text-align: right;\n",
       "    }\n",
       "</style>\n",
       "<table border=\"1\" class=\"dataframe\">\n",
       "  <thead>\n",
       "    <tr style=\"text-align: right;\">\n",
       "      <th></th>\n",
       "      <th>user_id</th>\n",
       "      <th>prod_id</th>\n",
       "      <th>ratings</th>\n",
       "    </tr>\n",
       "  </thead>\n",
       "  <tbody>\n",
       "    <tr>\n",
       "      <th>0</th>\n",
       "      <td>A3L1GVWVJKWZZS</td>\n",
       "      <td>B0058UUR6E</td>\n",
       "      <td>5.0</td>\n",
       "    </tr>\n",
       "    <tr>\n",
       "      <th>1</th>\n",
       "      <td>A08831071BVKZMKNCPI5S</td>\n",
       "      <td>B009ID0VVS</td>\n",
       "      <td>5.0</td>\n",
       "    </tr>\n",
       "    <tr>\n",
       "      <th>2</th>\n",
       "      <td>A1SINU2I4IOPNU</td>\n",
       "      <td>B000GBO9IM</td>\n",
       "      <td>4.0</td>\n",
       "    </tr>\n",
       "    <tr>\n",
       "      <th>3</th>\n",
       "      <td>A3P3P31EEOX2BD</td>\n",
       "      <td>B00CDCIOHO</td>\n",
       "      <td>3.0</td>\n",
       "    </tr>\n",
       "    <tr>\n",
       "      <th>4</th>\n",
       "      <td>A3DBLJ3MPBJQMN</td>\n",
       "      <td>B000MS3VGA</td>\n",
       "      <td>5.0</td>\n",
       "    </tr>\n",
       "  </tbody>\n",
       "</table>\n",
       "</div>"
      ],
      "text/plain": [
       "                 user_id     prod_id  ratings\n",
       "0         A3L1GVWVJKWZZS  B0058UUR6E      5.0\n",
       "1  A08831071BVKZMKNCPI5S  B009ID0VVS      5.0\n",
       "2         A1SINU2I4IOPNU  B000GBO9IM      4.0\n",
       "3         A3P3P31EEOX2BD  B00CDCIOHO      3.0\n",
       "4         A3DBLJ3MPBJQMN  B000MS3VGA      5.0"
      ]
     },
     "execution_count": 37,
     "metadata": {},
     "output_type": "execute_result"
    }
   ],
   "source": [
    "data.df.head()"
   ]
  },
  {
   "cell_type": "code",
   "execution_count": 38,
   "metadata": {},
   "outputs": [],
   "source": [
    "#splitting the data to train and test data\n",
    "trainset, testset = train_test_split(data, test_size=0.30)"
   ]
  },
  {
   "cell_type": "markdown",
   "metadata": {},
   "source": [
    "# SVD ( whole data)"
   ]
  },
  {
   "cell_type": "code",
   "execution_count": 39,
   "metadata": {},
   "outputs": [],
   "source": [
    "alg_svd = SVD()"
   ]
  },
  {
   "cell_type": "code",
   "execution_count": 40,
   "metadata": {},
   "outputs": [
    {
     "data": {
      "text/plain": [
       "<surprise.prediction_algorithms.matrix_factorization.SVD at 0x1f4000053c8>"
      ]
     },
     "execution_count": 40,
     "metadata": {},
     "output_type": "execute_result"
    }
   ],
   "source": [
    "alg_svd.fit(trainset)"
   ]
  },
  {
   "cell_type": "code",
   "execution_count": 41,
   "metadata": {},
   "outputs": [
    {
     "name": "stdout",
     "output_type": "stream",
     "text": [
      "RMSE: 1.3428\n"
     ]
    },
    {
     "data": {
      "text/plain": [
       "1.34275949412269"
      ]
     },
     "execution_count": 41,
     "metadata": {},
     "output_type": "execute_result"
    }
   ],
   "source": [
    "test_model = alg_svd.test(testset)\n",
    "accuracy.rmse(test_model)"
   ]
  },
  {
   "cell_type": "code",
   "execution_count": 42,
   "metadata": {},
   "outputs": [
    {
     "data": {
      "text/html": [
       "<div>\n",
       "<style scoped>\n",
       "    .dataframe tbody tr th:only-of-type {\n",
       "        vertical-align: middle;\n",
       "    }\n",
       "\n",
       "    .dataframe tbody tr th {\n",
       "        vertical-align: top;\n",
       "    }\n",
       "\n",
       "    .dataframe thead th {\n",
       "        text-align: right;\n",
       "    }\n",
       "</style>\n",
       "<table border=\"1\" class=\"dataframe\">\n",
       "  <thead>\n",
       "    <tr style=\"text-align: right;\">\n",
       "      <th></th>\n",
       "      <th>uid</th>\n",
       "      <th>iid</th>\n",
       "      <th>r_ui</th>\n",
       "      <th>est</th>\n",
       "      <th>details</th>\n",
       "    </tr>\n",
       "  </thead>\n",
       "  <tbody>\n",
       "    <tr>\n",
       "      <th>0</th>\n",
       "      <td>A1KXHO4YM850QO</td>\n",
       "      <td>B00FFJ0HUE</td>\n",
       "      <td>5.0</td>\n",
       "      <td>3.923729</td>\n",
       "      <td>{'was_impossible': False}</td>\n",
       "    </tr>\n",
       "    <tr>\n",
       "      <th>1</th>\n",
       "      <td>A1NM8E86EVZ1MC</td>\n",
       "      <td>B000HWXGOS</td>\n",
       "      <td>2.0</td>\n",
       "      <td>3.783662</td>\n",
       "      <td>{'was_impossible': False}</td>\n",
       "    </tr>\n",
       "    <tr>\n",
       "      <th>2</th>\n",
       "      <td>A32NDENUQQQ77Q</td>\n",
       "      <td>B0031U1J1U</td>\n",
       "      <td>2.0</td>\n",
       "      <td>4.081761</td>\n",
       "      <td>{'was_impossible': False}</td>\n",
       "    </tr>\n",
       "    <tr>\n",
       "      <th>3</th>\n",
       "      <td>A136Q726TFRQH2</td>\n",
       "      <td>B009ZIILLI</td>\n",
       "      <td>5.0</td>\n",
       "      <td>4.141372</td>\n",
       "      <td>{'was_impossible': False}</td>\n",
       "    </tr>\n",
       "    <tr>\n",
       "      <th>4</th>\n",
       "      <td>A3F5ISMLQ04S79</td>\n",
       "      <td>B0028Y4DHM</td>\n",
       "      <td>5.0</td>\n",
       "      <td>4.015194</td>\n",
       "      <td>{'was_impossible': False}</td>\n",
       "    </tr>\n",
       "    <tr>\n",
       "      <th>...</th>\n",
       "      <td>...</td>\n",
       "      <td>...</td>\n",
       "      <td>...</td>\n",
       "      <td>...</td>\n",
       "      <td>...</td>\n",
       "    </tr>\n",
       "    <tr>\n",
       "      <th>149995</th>\n",
       "      <td>A1RY4E6WRWU0AR</td>\n",
       "      <td>B008KRFDBQ</td>\n",
       "      <td>1.0</td>\n",
       "      <td>3.763959</td>\n",
       "      <td>{'was_impossible': False}</td>\n",
       "    </tr>\n",
       "    <tr>\n",
       "      <th>149996</th>\n",
       "      <td>A2I5UZ3UW97LRV</td>\n",
       "      <td>B005KMOS74</td>\n",
       "      <td>5.0</td>\n",
       "      <td>4.131698</td>\n",
       "      <td>{'was_impossible': False}</td>\n",
       "    </tr>\n",
       "    <tr>\n",
       "      <th>149997</th>\n",
       "      <td>A33ATR1TDORXZF</td>\n",
       "      <td>B004M8RWCK</td>\n",
       "      <td>5.0</td>\n",
       "      <td>3.902730</td>\n",
       "      <td>{'was_impossible': False}</td>\n",
       "    </tr>\n",
       "    <tr>\n",
       "      <th>149998</th>\n",
       "      <td>AVUM2LX9LJW77</td>\n",
       "      <td>B004SBCF4Q</td>\n",
       "      <td>5.0</td>\n",
       "      <td>4.015194</td>\n",
       "      <td>{'was_impossible': False}</td>\n",
       "    </tr>\n",
       "    <tr>\n",
       "      <th>149999</th>\n",
       "      <td>A12JI04ZGLGCB9</td>\n",
       "      <td>B001O7ZJ9K</td>\n",
       "      <td>4.0</td>\n",
       "      <td>4.015194</td>\n",
       "      <td>{'was_impossible': False}</td>\n",
       "    </tr>\n",
       "  </tbody>\n",
       "</table>\n",
       "<p>150000 rows × 5 columns</p>\n",
       "</div>"
      ],
      "text/plain": [
       "                   uid         iid  r_ui       est                    details\n",
       "0       A1KXHO4YM850QO  B00FFJ0HUE   5.0  3.923729  {'was_impossible': False}\n",
       "1       A1NM8E86EVZ1MC  B000HWXGOS   2.0  3.783662  {'was_impossible': False}\n",
       "2       A32NDENUQQQ77Q  B0031U1J1U   2.0  4.081761  {'was_impossible': False}\n",
       "3       A136Q726TFRQH2  B009ZIILLI   5.0  4.141372  {'was_impossible': False}\n",
       "4       A3F5ISMLQ04S79  B0028Y4DHM   5.0  4.015194  {'was_impossible': False}\n",
       "...                ...         ...   ...       ...                        ...\n",
       "149995  A1RY4E6WRWU0AR  B008KRFDBQ   1.0  3.763959  {'was_impossible': False}\n",
       "149996  A2I5UZ3UW97LRV  B005KMOS74   5.0  4.131698  {'was_impossible': False}\n",
       "149997  A33ATR1TDORXZF  B004M8RWCK   5.0  3.902730  {'was_impossible': False}\n",
       "149998   AVUM2LX9LJW77  B004SBCF4Q   5.0  4.015194  {'was_impossible': False}\n",
       "149999  A12JI04ZGLGCB9  B001O7ZJ9K   4.0  4.015194  {'was_impossible': False}\n",
       "\n",
       "[150000 rows x 5 columns]"
      ]
     },
     "execution_count": 42,
     "metadata": {},
     "output_type": "execute_result"
    }
   ],
   "source": [
    "pred_df = pd.DataFrame(test_model)\n",
    "pred_df"
   ]
  },
  {
   "cell_type": "code",
   "execution_count": 43,
   "metadata": {},
   "outputs": [],
   "source": [
    "def recommendations(x, n):\n",
    "    recom = pred_df[pred_df['uid']==x][['uid','iid','r_ui','est']].sort_values(by='est', ascending=False).head(n)\n",
    "    return recom"
   ]
  },
  {
   "cell_type": "code",
   "execution_count": 44,
   "metadata": {},
   "outputs": [
    {
     "data": {
      "text/html": [
       "<div>\n",
       "<style scoped>\n",
       "    .dataframe tbody tr th:only-of-type {\n",
       "        vertical-align: middle;\n",
       "    }\n",
       "\n",
       "    .dataframe tbody tr th {\n",
       "        vertical-align: top;\n",
       "    }\n",
       "\n",
       "    .dataframe thead th {\n",
       "        text-align: right;\n",
       "    }\n",
       "</style>\n",
       "<table border=\"1\" class=\"dataframe\">\n",
       "  <thead>\n",
       "    <tr style=\"text-align: right;\">\n",
       "      <th></th>\n",
       "      <th>uid</th>\n",
       "      <th>iid</th>\n",
       "      <th>r_ui</th>\n",
       "      <th>est</th>\n",
       "    </tr>\n",
       "  </thead>\n",
       "  <tbody>\n",
       "    <tr>\n",
       "      <th>55824</th>\n",
       "      <td>A680RUE1FDO8B</td>\n",
       "      <td>B0019EHU8G</td>\n",
       "      <td>5.0</td>\n",
       "      <td>5.000000</td>\n",
       "    </tr>\n",
       "    <tr>\n",
       "      <th>122480</th>\n",
       "      <td>A680RUE1FDO8B</td>\n",
       "      <td>B000V1MLBE</td>\n",
       "      <td>5.0</td>\n",
       "      <td>4.813131</td>\n",
       "    </tr>\n",
       "    <tr>\n",
       "      <th>43262</th>\n",
       "      <td>A680RUE1FDO8B</td>\n",
       "      <td>B00BOHNYTW</td>\n",
       "      <td>5.0</td>\n",
       "      <td>4.787017</td>\n",
       "    </tr>\n",
       "    <tr>\n",
       "      <th>48872</th>\n",
       "      <td>A680RUE1FDO8B</td>\n",
       "      <td>B003ZSAKMM</td>\n",
       "      <td>3.0</td>\n",
       "      <td>4.577745</td>\n",
       "    </tr>\n",
       "    <tr>\n",
       "      <th>27150</th>\n",
       "      <td>A680RUE1FDO8B</td>\n",
       "      <td>B000TMI0VU</td>\n",
       "      <td>4.0</td>\n",
       "      <td>4.423839</td>\n",
       "    </tr>\n",
       "  </tbody>\n",
       "</table>\n",
       "</div>"
      ],
      "text/plain": [
       "                  uid         iid  r_ui       est\n",
       "55824   A680RUE1FDO8B  B0019EHU8G   5.0  5.000000\n",
       "122480  A680RUE1FDO8B  B000V1MLBE   5.0  4.813131\n",
       "43262   A680RUE1FDO8B  B00BOHNYTW   5.0  4.787017\n",
       "48872   A680RUE1FDO8B  B003ZSAKMM   3.0  4.577745\n",
       "27150   A680RUE1FDO8B  B000TMI0VU   4.0  4.423839"
      ]
     },
     "execution_count": 44,
     "metadata": {},
     "output_type": "execute_result"
    }
   ],
   "source": [
    "# checking the recommendations for the user id A680RUE1FDO8B for k value = 5\n",
    "recommendations('A680RUE1FDO8B',5)"
   ]
  },
  {
   "cell_type": "markdown",
   "metadata": {},
   "source": [
    "# Item Item based"
   ]
  },
  {
   "cell_type": "code",
   "execution_count": 88,
   "metadata": {},
   "outputs": [],
   "source": [
    "## due to memory issue constraint taking just 10000 records"
   ]
  },
  {
   "cell_type": "code",
   "execution_count": 116,
   "metadata": {},
   "outputs": [],
   "source": [
    "df_review_subset = df_review.sample(10000)"
   ]
  },
  {
   "cell_type": "code",
   "execution_count": 117,
   "metadata": {},
   "outputs": [],
   "source": [
    "reader = Reader(rating_scale=(1, 5))"
   ]
  },
  {
   "cell_type": "code",
   "execution_count": 118,
   "metadata": {},
   "outputs": [],
   "source": [
    "data_sub = Dataset.load_from_df(df_review_subset[['user_id','prod_id','ratings']], reader)"
   ]
  },
  {
   "cell_type": "code",
   "execution_count": 119,
   "metadata": {},
   "outputs": [],
   "source": [
    "trainset, testset = train_test_split(data_sub, test_size=0.30)"
   ]
  },
  {
   "cell_type": "code",
   "execution_count": 120,
   "metadata": {},
   "outputs": [
    {
     "name": "stdout",
     "output_type": "stream",
     "text": [
      "Estimating biases using als...\n",
      "Computing the pearson_baseline similarity matrix...\n",
      "Done computing similarity matrix.\n"
     ]
    },
    {
     "data": {
      "text/plain": [
       "<surprise.prediction_algorithms.knns.KNNWithMeans at 0x1f4269ef508>"
      ]
     },
     "execution_count": 120,
     "metadata": {},
     "output_type": "execute_result"
    }
   ],
   "source": [
    "algo_item= KNNWithMeans(k=50, sim_options={'name': 'pearson_baseline', 'user_based': False})\n",
    "algo_item.fit(trainset)"
   ]
  },
  {
   "cell_type": "code",
   "execution_count": 121,
   "metadata": {},
   "outputs": [],
   "source": [
    "test_pred_item = algo_item.test(testset)"
   ]
  },
  {
   "cell_type": "code",
   "execution_count": 122,
   "metadata": {},
   "outputs": [
    {
     "name": "stdout",
     "output_type": "stream",
     "text": [
      "RMSE: 1.3877\n"
     ]
    },
    {
     "data": {
      "text/plain": [
       "1.3876939784901046"
      ]
     },
     "execution_count": 122,
     "metadata": {},
     "output_type": "execute_result"
    }
   ],
   "source": [
    "accuracy.rmse(test_pred_item)"
   ]
  },
  {
   "cell_type": "code",
   "execution_count": 123,
   "metadata": {},
   "outputs": [
    {
     "data": {
      "text/html": [
       "<div>\n",
       "<style scoped>\n",
       "    .dataframe tbody tr th:only-of-type {\n",
       "        vertical-align: middle;\n",
       "    }\n",
       "\n",
       "    .dataframe tbody tr th {\n",
       "        vertical-align: top;\n",
       "    }\n",
       "\n",
       "    .dataframe thead th {\n",
       "        text-align: right;\n",
       "    }\n",
       "</style>\n",
       "<table border=\"1\" class=\"dataframe\">\n",
       "  <thead>\n",
       "    <tr style=\"text-align: right;\">\n",
       "      <th></th>\n",
       "      <th>uid</th>\n",
       "      <th>iid</th>\n",
       "      <th>r_ui</th>\n",
       "      <th>est</th>\n",
       "      <th>details</th>\n",
       "    </tr>\n",
       "  </thead>\n",
       "  <tbody>\n",
       "    <tr>\n",
       "      <th>0</th>\n",
       "      <td>A2YUNQWWB5UUY3</td>\n",
       "      <td>B005DHL0EK</td>\n",
       "      <td>5.0</td>\n",
       "      <td>4.028571</td>\n",
       "      <td>{'was_impossible': True, 'reason': 'User and/o...</td>\n",
       "    </tr>\n",
       "    <tr>\n",
       "      <th>1</th>\n",
       "      <td>A2A0ZXKYIQOWRL</td>\n",
       "      <td>B001MSVPM6</td>\n",
       "      <td>5.0</td>\n",
       "      <td>4.028571</td>\n",
       "      <td>{'was_impossible': True, 'reason': 'User and/o...</td>\n",
       "    </tr>\n",
       "    <tr>\n",
       "      <th>2</th>\n",
       "      <td>A1JH5EKCDJPXSH</td>\n",
       "      <td>B0074BW614</td>\n",
       "      <td>5.0</td>\n",
       "      <td>4.028571</td>\n",
       "      <td>{'was_impossible': True, 'reason': 'User and/o...</td>\n",
       "    </tr>\n",
       "    <tr>\n",
       "      <th>3</th>\n",
       "      <td>ATWVJUHW78DQL</td>\n",
       "      <td>B004WP1G5C</td>\n",
       "      <td>4.0</td>\n",
       "      <td>4.028571</td>\n",
       "      <td>{'was_impossible': True, 'reason': 'User and/o...</td>\n",
       "    </tr>\n",
       "    <tr>\n",
       "      <th>4</th>\n",
       "      <td>A1LBI6DHR8P56J</td>\n",
       "      <td>B001T9N9L8</td>\n",
       "      <td>5.0</td>\n",
       "      <td>4.028571</td>\n",
       "      <td>{'was_impossible': True, 'reason': 'User and/o...</td>\n",
       "    </tr>\n",
       "    <tr>\n",
       "      <th>...</th>\n",
       "      <td>...</td>\n",
       "      <td>...</td>\n",
       "      <td>...</td>\n",
       "      <td>...</td>\n",
       "      <td>...</td>\n",
       "    </tr>\n",
       "    <tr>\n",
       "      <th>2995</th>\n",
       "      <td>A3DNB0BZI6XE37</td>\n",
       "      <td>B006GWO5WK</td>\n",
       "      <td>2.0</td>\n",
       "      <td>4.028571</td>\n",
       "      <td>{'was_impossible': True, 'reason': 'User and/o...</td>\n",
       "    </tr>\n",
       "    <tr>\n",
       "      <th>2996</th>\n",
       "      <td>A2X7W2S7JD1NKY</td>\n",
       "      <td>B007HBLX5G</td>\n",
       "      <td>5.0</td>\n",
       "      <td>4.028571</td>\n",
       "      <td>{'was_impossible': True, 'reason': 'User and/o...</td>\n",
       "    </tr>\n",
       "    <tr>\n",
       "      <th>2997</th>\n",
       "      <td>A2VI63IVQRFH0U</td>\n",
       "      <td>B000UWX70S</td>\n",
       "      <td>4.0</td>\n",
       "      <td>4.028571</td>\n",
       "      <td>{'was_impossible': True, 'reason': 'User and/o...</td>\n",
       "    </tr>\n",
       "    <tr>\n",
       "      <th>2998</th>\n",
       "      <td>A1ECMHQYNGK52K</td>\n",
       "      <td>B003NR57BY</td>\n",
       "      <td>5.0</td>\n",
       "      <td>4.028571</td>\n",
       "      <td>{'was_impossible': True, 'reason': 'User and/o...</td>\n",
       "    </tr>\n",
       "    <tr>\n",
       "      <th>2999</th>\n",
       "      <td>A3W2E2K0DK2NK0</td>\n",
       "      <td>B005DKZTMG</td>\n",
       "      <td>5.0</td>\n",
       "      <td>4.028571</td>\n",
       "      <td>{'was_impossible': True, 'reason': 'User and/o...</td>\n",
       "    </tr>\n",
       "  </tbody>\n",
       "</table>\n",
       "<p>3000 rows × 5 columns</p>\n",
       "</div>"
      ],
      "text/plain": [
       "                 uid         iid  r_ui       est  \\\n",
       "0     A2YUNQWWB5UUY3  B005DHL0EK   5.0  4.028571   \n",
       "1     A2A0ZXKYIQOWRL  B001MSVPM6   5.0  4.028571   \n",
       "2     A1JH5EKCDJPXSH  B0074BW614   5.0  4.028571   \n",
       "3      ATWVJUHW78DQL  B004WP1G5C   4.0  4.028571   \n",
       "4     A1LBI6DHR8P56J  B001T9N9L8   5.0  4.028571   \n",
       "...              ...         ...   ...       ...   \n",
       "2995  A3DNB0BZI6XE37  B006GWO5WK   2.0  4.028571   \n",
       "2996  A2X7W2S7JD1NKY  B007HBLX5G   5.0  4.028571   \n",
       "2997  A2VI63IVQRFH0U  B000UWX70S   4.0  4.028571   \n",
       "2998  A1ECMHQYNGK52K  B003NR57BY   5.0  4.028571   \n",
       "2999  A3W2E2K0DK2NK0  B005DKZTMG   5.0  4.028571   \n",
       "\n",
       "                                                details  \n",
       "0     {'was_impossible': True, 'reason': 'User and/o...  \n",
       "1     {'was_impossible': True, 'reason': 'User and/o...  \n",
       "2     {'was_impossible': True, 'reason': 'User and/o...  \n",
       "3     {'was_impossible': True, 'reason': 'User and/o...  \n",
       "4     {'was_impossible': True, 'reason': 'User and/o...  \n",
       "...                                                 ...  \n",
       "2995  {'was_impossible': True, 'reason': 'User and/o...  \n",
       "2996  {'was_impossible': True, 'reason': 'User and/o...  \n",
       "2997  {'was_impossible': True, 'reason': 'User and/o...  \n",
       "2998  {'was_impossible': True, 'reason': 'User and/o...  \n",
       "2999  {'was_impossible': True, 'reason': 'User and/o...  \n",
       "\n",
       "[3000 rows x 5 columns]"
      ]
     },
     "execution_count": 123,
     "metadata": {},
     "output_type": "execute_result"
    }
   ],
   "source": [
    "pred_df_item = pd.DataFrame(test_pred_item)\n",
    "pred_df_item"
   ]
  },
  {
   "cell_type": "code",
   "execution_count": 124,
   "metadata": {},
   "outputs": [],
   "source": [
    "def recommendations(x, n):\n",
    "    recom = pred_df_item[pred_df_item['uid']==x][['uid','iid','r_ui','est']].sort_values(by='est', ascending=False).head(n)\n",
    "    return recom"
   ]
  },
  {
   "cell_type": "code",
   "execution_count": 139,
   "metadata": {},
   "outputs": [
    {
     "data": {
      "text/html": [
       "<div>\n",
       "<style scoped>\n",
       "    .dataframe tbody tr th:only-of-type {\n",
       "        vertical-align: middle;\n",
       "    }\n",
       "\n",
       "    .dataframe tbody tr th {\n",
       "        vertical-align: top;\n",
       "    }\n",
       "\n",
       "    .dataframe thead th {\n",
       "        text-align: right;\n",
       "    }\n",
       "</style>\n",
       "<table border=\"1\" class=\"dataframe\">\n",
       "  <thead>\n",
       "    <tr style=\"text-align: right;\">\n",
       "      <th></th>\n",
       "      <th>uid</th>\n",
       "      <th>iid</th>\n",
       "      <th>r_ui</th>\n",
       "      <th>est</th>\n",
       "    </tr>\n",
       "  </thead>\n",
       "  <tbody>\n",
       "    <tr>\n",
       "      <th>2186</th>\n",
       "      <td>A1VZ6LPIV8I1R5</td>\n",
       "      <td>B000ID7QNI</td>\n",
       "      <td>5.0</td>\n",
       "      <td>4.043511</td>\n",
       "    </tr>\n",
       "    <tr>\n",
       "      <th>852</th>\n",
       "      <td>A1VZ6LPIV8I1R5</td>\n",
       "      <td>B006GHYBGK</td>\n",
       "      <td>5.0</td>\n",
       "      <td>4.028571</td>\n",
       "    </tr>\n",
       "  </tbody>\n",
       "</table>\n",
       "</div>"
      ],
      "text/plain": [
       "                 uid         iid  r_ui       est\n",
       "2186  A1VZ6LPIV8I1R5  B000ID7QNI   5.0  4.043511\n",
       "852   A1VZ6LPIV8I1R5  B006GHYBGK   5.0  4.028571"
      ]
     },
     "execution_count": 139,
     "metadata": {},
     "output_type": "execute_result"
    }
   ],
   "source": [
    "# checking the recommendations for the user id A3K93OWHKHGI9V\n",
    "recommendations('A1VZ6LPIV8I1R5',5)"
   ]
  },
  {
   "cell_type": "markdown",
   "metadata": {},
   "source": [
    "# User User based"
   ]
  },
  {
   "cell_type": "code",
   "execution_count": 127,
   "metadata": {},
   "outputs": [
    {
     "name": "stdout",
     "output_type": "stream",
     "text": [
      "Estimating biases using als...\n",
      "Computing the pearson_baseline similarity matrix...\n",
      "Done computing similarity matrix.\n"
     ]
    },
    {
     "data": {
      "text/plain": [
       "<surprise.prediction_algorithms.knns.KNNWithMeans at 0x1f424c3e308>"
      ]
     },
     "execution_count": 127,
     "metadata": {},
     "output_type": "execute_result"
    }
   ],
   "source": [
    "algo_user = KNNWithMeans(k=50, sim_options={'name': 'pearson_baseline', 'user_based': True})\n",
    "algo_user.fit(trainset)"
   ]
  },
  {
   "cell_type": "code",
   "execution_count": 128,
   "metadata": {},
   "outputs": [],
   "source": [
    "test_pred_user = algo_user.test(testset)"
   ]
  },
  {
   "cell_type": "code",
   "execution_count": 129,
   "metadata": {},
   "outputs": [
    {
     "name": "stdout",
     "output_type": "stream",
     "text": [
      "RMSE: 1.3890\n"
     ]
    },
    {
     "data": {
      "text/plain": [
       "1.3889654545789125"
      ]
     },
     "execution_count": 129,
     "metadata": {},
     "output_type": "execute_result"
    }
   ],
   "source": [
    "accuracy.rmse(test_pred_user)"
   ]
  },
  {
   "cell_type": "code",
   "execution_count": 130,
   "metadata": {},
   "outputs": [
    {
     "data": {
      "text/html": [
       "<div>\n",
       "<style scoped>\n",
       "    .dataframe tbody tr th:only-of-type {\n",
       "        vertical-align: middle;\n",
       "    }\n",
       "\n",
       "    .dataframe tbody tr th {\n",
       "        vertical-align: top;\n",
       "    }\n",
       "\n",
       "    .dataframe thead th {\n",
       "        text-align: right;\n",
       "    }\n",
       "</style>\n",
       "<table border=\"1\" class=\"dataframe\">\n",
       "  <thead>\n",
       "    <tr style=\"text-align: right;\">\n",
       "      <th></th>\n",
       "      <th>uid</th>\n",
       "      <th>iid</th>\n",
       "      <th>r_ui</th>\n",
       "      <th>est</th>\n",
       "      <th>details</th>\n",
       "    </tr>\n",
       "  </thead>\n",
       "  <tbody>\n",
       "    <tr>\n",
       "      <th>0</th>\n",
       "      <td>A2YUNQWWB5UUY3</td>\n",
       "      <td>B005DHL0EK</td>\n",
       "      <td>5.0</td>\n",
       "      <td>4.028571</td>\n",
       "      <td>{'was_impossible': True, 'reason': 'User and/o...</td>\n",
       "    </tr>\n",
       "    <tr>\n",
       "      <th>1</th>\n",
       "      <td>A2A0ZXKYIQOWRL</td>\n",
       "      <td>B001MSVPM6</td>\n",
       "      <td>5.0</td>\n",
       "      <td>4.028571</td>\n",
       "      <td>{'was_impossible': True, 'reason': 'User and/o...</td>\n",
       "    </tr>\n",
       "    <tr>\n",
       "      <th>2</th>\n",
       "      <td>A1JH5EKCDJPXSH</td>\n",
       "      <td>B0074BW614</td>\n",
       "      <td>5.0</td>\n",
       "      <td>4.028571</td>\n",
       "      <td>{'was_impossible': True, 'reason': 'User and/o...</td>\n",
       "    </tr>\n",
       "    <tr>\n",
       "      <th>3</th>\n",
       "      <td>ATWVJUHW78DQL</td>\n",
       "      <td>B004WP1G5C</td>\n",
       "      <td>4.0</td>\n",
       "      <td>4.028571</td>\n",
       "      <td>{'was_impossible': True, 'reason': 'User and/o...</td>\n",
       "    </tr>\n",
       "    <tr>\n",
       "      <th>4</th>\n",
       "      <td>A1LBI6DHR8P56J</td>\n",
       "      <td>B001T9N9L8</td>\n",
       "      <td>5.0</td>\n",
       "      <td>4.028571</td>\n",
       "      <td>{'was_impossible': True, 'reason': 'User and/o...</td>\n",
       "    </tr>\n",
       "    <tr>\n",
       "      <th>...</th>\n",
       "      <td>...</td>\n",
       "      <td>...</td>\n",
       "      <td>...</td>\n",
       "      <td>...</td>\n",
       "      <td>...</td>\n",
       "    </tr>\n",
       "    <tr>\n",
       "      <th>2995</th>\n",
       "      <td>A3DNB0BZI6XE37</td>\n",
       "      <td>B006GWO5WK</td>\n",
       "      <td>2.0</td>\n",
       "      <td>4.028571</td>\n",
       "      <td>{'was_impossible': True, 'reason': 'User and/o...</td>\n",
       "    </tr>\n",
       "    <tr>\n",
       "      <th>2996</th>\n",
       "      <td>A2X7W2S7JD1NKY</td>\n",
       "      <td>B007HBLX5G</td>\n",
       "      <td>5.0</td>\n",
       "      <td>4.028571</td>\n",
       "      <td>{'was_impossible': True, 'reason': 'User and/o...</td>\n",
       "    </tr>\n",
       "    <tr>\n",
       "      <th>2997</th>\n",
       "      <td>A2VI63IVQRFH0U</td>\n",
       "      <td>B000UWX70S</td>\n",
       "      <td>4.0</td>\n",
       "      <td>4.028571</td>\n",
       "      <td>{'was_impossible': True, 'reason': 'User and/o...</td>\n",
       "    </tr>\n",
       "    <tr>\n",
       "      <th>2998</th>\n",
       "      <td>A1ECMHQYNGK52K</td>\n",
       "      <td>B003NR57BY</td>\n",
       "      <td>5.0</td>\n",
       "      <td>4.028571</td>\n",
       "      <td>{'was_impossible': True, 'reason': 'User and/o...</td>\n",
       "    </tr>\n",
       "    <tr>\n",
       "      <th>2999</th>\n",
       "      <td>A3W2E2K0DK2NK0</td>\n",
       "      <td>B005DKZTMG</td>\n",
       "      <td>5.0</td>\n",
       "      <td>4.028571</td>\n",
       "      <td>{'was_impossible': True, 'reason': 'User and/o...</td>\n",
       "    </tr>\n",
       "  </tbody>\n",
       "</table>\n",
       "<p>3000 rows × 5 columns</p>\n",
       "</div>"
      ],
      "text/plain": [
       "                 uid         iid  r_ui       est  \\\n",
       "0     A2YUNQWWB5UUY3  B005DHL0EK   5.0  4.028571   \n",
       "1     A2A0ZXKYIQOWRL  B001MSVPM6   5.0  4.028571   \n",
       "2     A1JH5EKCDJPXSH  B0074BW614   5.0  4.028571   \n",
       "3      ATWVJUHW78DQL  B004WP1G5C   4.0  4.028571   \n",
       "4     A1LBI6DHR8P56J  B001T9N9L8   5.0  4.028571   \n",
       "...              ...         ...   ...       ...   \n",
       "2995  A3DNB0BZI6XE37  B006GWO5WK   2.0  4.028571   \n",
       "2996  A2X7W2S7JD1NKY  B007HBLX5G   5.0  4.028571   \n",
       "2997  A2VI63IVQRFH0U  B000UWX70S   4.0  4.028571   \n",
       "2998  A1ECMHQYNGK52K  B003NR57BY   5.0  4.028571   \n",
       "2999  A3W2E2K0DK2NK0  B005DKZTMG   5.0  4.028571   \n",
       "\n",
       "                                                details  \n",
       "0     {'was_impossible': True, 'reason': 'User and/o...  \n",
       "1     {'was_impossible': True, 'reason': 'User and/o...  \n",
       "2     {'was_impossible': True, 'reason': 'User and/o...  \n",
       "3     {'was_impossible': True, 'reason': 'User and/o...  \n",
       "4     {'was_impossible': True, 'reason': 'User and/o...  \n",
       "...                                                 ...  \n",
       "2995  {'was_impossible': True, 'reason': 'User and/o...  \n",
       "2996  {'was_impossible': True, 'reason': 'User and/o...  \n",
       "2997  {'was_impossible': True, 'reason': 'User and/o...  \n",
       "2998  {'was_impossible': True, 'reason': 'User and/o...  \n",
       "2999  {'was_impossible': True, 'reason': 'User and/o...  \n",
       "\n",
       "[3000 rows x 5 columns]"
      ]
     },
     "execution_count": 130,
     "metadata": {},
     "output_type": "execute_result"
    }
   ],
   "source": [
    "pred_df_user= pd.DataFrame(test_pred_user)\n",
    "pred_df_user"
   ]
  },
  {
   "cell_type": "code",
   "execution_count": 131,
   "metadata": {},
   "outputs": [],
   "source": [
    "def recommendations(x, n):\n",
    "    recom = pred_df_user[pred_df_user['uid']==x][['uid','iid','r_ui','est']].sort_values(by='est', ascending=False).head(n)\n",
    "    return recom"
   ]
  },
  {
   "cell_type": "code",
   "execution_count": 141,
   "metadata": {},
   "outputs": [
    {
     "data": {
      "text/html": [
       "<div>\n",
       "<style scoped>\n",
       "    .dataframe tbody tr th:only-of-type {\n",
       "        vertical-align: middle;\n",
       "    }\n",
       "\n",
       "    .dataframe tbody tr th {\n",
       "        vertical-align: top;\n",
       "    }\n",
       "\n",
       "    .dataframe thead th {\n",
       "        text-align: right;\n",
       "    }\n",
       "</style>\n",
       "<table border=\"1\" class=\"dataframe\">\n",
       "  <thead>\n",
       "    <tr style=\"text-align: right;\">\n",
       "      <th></th>\n",
       "      <th>uid</th>\n",
       "      <th>iid</th>\n",
       "      <th>r_ui</th>\n",
       "      <th>est</th>\n",
       "    </tr>\n",
       "  </thead>\n",
       "  <tbody>\n",
       "    <tr>\n",
       "      <th>2186</th>\n",
       "      <td>A1VZ6LPIV8I1R5</td>\n",
       "      <td>B000ID7QNI</td>\n",
       "      <td>5.0</td>\n",
       "      <td>4.043511</td>\n",
       "    </tr>\n",
       "    <tr>\n",
       "      <th>852</th>\n",
       "      <td>A1VZ6LPIV8I1R5</td>\n",
       "      <td>B006GHYBGK</td>\n",
       "      <td>5.0</td>\n",
       "      <td>4.028571</td>\n",
       "    </tr>\n",
       "  </tbody>\n",
       "</table>\n",
       "</div>"
      ],
      "text/plain": [
       "                 uid         iid  r_ui       est\n",
       "2186  A1VZ6LPIV8I1R5  B000ID7QNI   5.0  4.043511\n",
       "852   A1VZ6LPIV8I1R5  B006GHYBGK   5.0  4.028571"
      ]
     },
     "execution_count": 141,
     "metadata": {},
     "output_type": "execute_result"
    }
   ],
   "source": [
    "# checking the recommendations for the user id A3K93OWHKHGI9V\n",
    "recommendations('A1VZ6LPIV8I1R5',5)"
   ]
  },
  {
   "cell_type": "markdown",
   "metadata": {},
   "source": [
    "# SVD (with 1 % data)"
   ]
  },
  {
   "cell_type": "code",
   "execution_count": 133,
   "metadata": {},
   "outputs": [],
   "source": [
    "alg_svd = SVD()"
   ]
  },
  {
   "cell_type": "code",
   "execution_count": 134,
   "metadata": {},
   "outputs": [
    {
     "data": {
      "text/plain": [
       "<surprise.prediction_algorithms.matrix_factorization.SVD at 0x1f42546af48>"
      ]
     },
     "execution_count": 134,
     "metadata": {},
     "output_type": "execute_result"
    }
   ],
   "source": [
    "alg_svd.fit(trainset)"
   ]
  },
  {
   "cell_type": "code",
   "execution_count": 135,
   "metadata": {},
   "outputs": [
    {
     "name": "stdout",
     "output_type": "stream",
     "text": [
      "RMSE: 1.3850\n"
     ]
    },
    {
     "data": {
      "text/plain": [
       "1.3850450123194193"
      ]
     },
     "execution_count": 135,
     "metadata": {},
     "output_type": "execute_result"
    }
   ],
   "source": [
    "test_model = alg_svd.test(testset)\n",
    "accuracy.rmse(test_model)"
   ]
  },
  {
   "cell_type": "code",
   "execution_count": 136,
   "metadata": {},
   "outputs": [
    {
     "data": {
      "text/html": [
       "<div>\n",
       "<style scoped>\n",
       "    .dataframe tbody tr th:only-of-type {\n",
       "        vertical-align: middle;\n",
       "    }\n",
       "\n",
       "    .dataframe tbody tr th {\n",
       "        vertical-align: top;\n",
       "    }\n",
       "\n",
       "    .dataframe thead th {\n",
       "        text-align: right;\n",
       "    }\n",
       "</style>\n",
       "<table border=\"1\" class=\"dataframe\">\n",
       "  <thead>\n",
       "    <tr style=\"text-align: right;\">\n",
       "      <th></th>\n",
       "      <th>uid</th>\n",
       "      <th>iid</th>\n",
       "      <th>r_ui</th>\n",
       "      <th>est</th>\n",
       "      <th>details</th>\n",
       "    </tr>\n",
       "  </thead>\n",
       "  <tbody>\n",
       "    <tr>\n",
       "      <th>0</th>\n",
       "      <td>A2YUNQWWB5UUY3</td>\n",
       "      <td>B005DHL0EK</td>\n",
       "      <td>5.0</td>\n",
       "      <td>4.028571</td>\n",
       "      <td>{'was_impossible': False}</td>\n",
       "    </tr>\n",
       "    <tr>\n",
       "      <th>1</th>\n",
       "      <td>A2A0ZXKYIQOWRL</td>\n",
       "      <td>B001MSVPM6</td>\n",
       "      <td>5.0</td>\n",
       "      <td>4.028571</td>\n",
       "      <td>{'was_impossible': False}</td>\n",
       "    </tr>\n",
       "    <tr>\n",
       "      <th>2</th>\n",
       "      <td>A1JH5EKCDJPXSH</td>\n",
       "      <td>B0074BW614</td>\n",
       "      <td>5.0</td>\n",
       "      <td>4.480292</td>\n",
       "      <td>{'was_impossible': False}</td>\n",
       "    </tr>\n",
       "    <tr>\n",
       "      <th>3</th>\n",
       "      <td>ATWVJUHW78DQL</td>\n",
       "      <td>B004WP1G5C</td>\n",
       "      <td>4.0</td>\n",
       "      <td>4.028571</td>\n",
       "      <td>{'was_impossible': False}</td>\n",
       "    </tr>\n",
       "    <tr>\n",
       "      <th>4</th>\n",
       "      <td>A1LBI6DHR8P56J</td>\n",
       "      <td>B001T9N9L8</td>\n",
       "      <td>5.0</td>\n",
       "      <td>4.028571</td>\n",
       "      <td>{'was_impossible': False}</td>\n",
       "    </tr>\n",
       "    <tr>\n",
       "      <th>...</th>\n",
       "      <td>...</td>\n",
       "      <td>...</td>\n",
       "      <td>...</td>\n",
       "      <td>...</td>\n",
       "      <td>...</td>\n",
       "    </tr>\n",
       "    <tr>\n",
       "      <th>2995</th>\n",
       "      <td>A3DNB0BZI6XE37</td>\n",
       "      <td>B006GWO5WK</td>\n",
       "      <td>2.0</td>\n",
       "      <td>4.222285</td>\n",
       "      <td>{'was_impossible': False}</td>\n",
       "    </tr>\n",
       "    <tr>\n",
       "      <th>2996</th>\n",
       "      <td>A2X7W2S7JD1NKY</td>\n",
       "      <td>B007HBLX5G</td>\n",
       "      <td>5.0</td>\n",
       "      <td>4.028571</td>\n",
       "      <td>{'was_impossible': False}</td>\n",
       "    </tr>\n",
       "    <tr>\n",
       "      <th>2997</th>\n",
       "      <td>A2VI63IVQRFH0U</td>\n",
       "      <td>B000UWX70S</td>\n",
       "      <td>4.0</td>\n",
       "      <td>4.114052</td>\n",
       "      <td>{'was_impossible': False}</td>\n",
       "    </tr>\n",
       "    <tr>\n",
       "      <th>2998</th>\n",
       "      <td>A1ECMHQYNGK52K</td>\n",
       "      <td>B003NR57BY</td>\n",
       "      <td>5.0</td>\n",
       "      <td>4.028571</td>\n",
       "      <td>{'was_impossible': False}</td>\n",
       "    </tr>\n",
       "    <tr>\n",
       "      <th>2999</th>\n",
       "      <td>A3W2E2K0DK2NK0</td>\n",
       "      <td>B005DKZTMG</td>\n",
       "      <td>5.0</td>\n",
       "      <td>4.122856</td>\n",
       "      <td>{'was_impossible': False}</td>\n",
       "    </tr>\n",
       "  </tbody>\n",
       "</table>\n",
       "<p>3000 rows × 5 columns</p>\n",
       "</div>"
      ],
      "text/plain": [
       "                 uid         iid  r_ui       est                    details\n",
       "0     A2YUNQWWB5UUY3  B005DHL0EK   5.0  4.028571  {'was_impossible': False}\n",
       "1     A2A0ZXKYIQOWRL  B001MSVPM6   5.0  4.028571  {'was_impossible': False}\n",
       "2     A1JH5EKCDJPXSH  B0074BW614   5.0  4.480292  {'was_impossible': False}\n",
       "3      ATWVJUHW78DQL  B004WP1G5C   4.0  4.028571  {'was_impossible': False}\n",
       "4     A1LBI6DHR8P56J  B001T9N9L8   5.0  4.028571  {'was_impossible': False}\n",
       "...              ...         ...   ...       ...                        ...\n",
       "2995  A3DNB0BZI6XE37  B006GWO5WK   2.0  4.222285  {'was_impossible': False}\n",
       "2996  A2X7W2S7JD1NKY  B007HBLX5G   5.0  4.028571  {'was_impossible': False}\n",
       "2997  A2VI63IVQRFH0U  B000UWX70S   4.0  4.114052  {'was_impossible': False}\n",
       "2998  A1ECMHQYNGK52K  B003NR57BY   5.0  4.028571  {'was_impossible': False}\n",
       "2999  A3W2E2K0DK2NK0  B005DKZTMG   5.0  4.122856  {'was_impossible': False}\n",
       "\n",
       "[3000 rows x 5 columns]"
      ]
     },
     "execution_count": 136,
     "metadata": {},
     "output_type": "execute_result"
    }
   ],
   "source": [
    "pred_df = pd.DataFrame(test_model)\n",
    "pred_df"
   ]
  },
  {
   "cell_type": "code",
   "execution_count": 137,
   "metadata": {},
   "outputs": [],
   "source": [
    "def recommendations(x, n):\n",
    "    recom = pred_df[pred_df['uid']==x][['uid','iid','r_ui','est']].sort_values(by='est', ascending=False).head(n)\n",
    "    return recom"
   ]
  },
  {
   "cell_type": "code",
   "execution_count": 142,
   "metadata": {},
   "outputs": [
    {
     "data": {
      "text/html": [
       "<div>\n",
       "<style scoped>\n",
       "    .dataframe tbody tr th:only-of-type {\n",
       "        vertical-align: middle;\n",
       "    }\n",
       "\n",
       "    .dataframe tbody tr th {\n",
       "        vertical-align: top;\n",
       "    }\n",
       "\n",
       "    .dataframe thead th {\n",
       "        text-align: right;\n",
       "    }\n",
       "</style>\n",
       "<table border=\"1\" class=\"dataframe\">\n",
       "  <thead>\n",
       "    <tr style=\"text-align: right;\">\n",
       "      <th></th>\n",
       "      <th>uid</th>\n",
       "      <th>iid</th>\n",
       "      <th>r_ui</th>\n",
       "      <th>est</th>\n",
       "    </tr>\n",
       "  </thead>\n",
       "  <tbody>\n",
       "    <tr>\n",
       "      <th>2186</th>\n",
       "      <td>A1VZ6LPIV8I1R5</td>\n",
       "      <td>B000ID7QNI</td>\n",
       "      <td>5.0</td>\n",
       "      <td>4.043511</td>\n",
       "    </tr>\n",
       "    <tr>\n",
       "      <th>852</th>\n",
       "      <td>A1VZ6LPIV8I1R5</td>\n",
       "      <td>B006GHYBGK</td>\n",
       "      <td>5.0</td>\n",
       "      <td>4.028571</td>\n",
       "    </tr>\n",
       "  </tbody>\n",
       "</table>\n",
       "</div>"
      ],
      "text/plain": [
       "                 uid         iid  r_ui       est\n",
       "2186  A1VZ6LPIV8I1R5  B000ID7QNI   5.0  4.043511\n",
       "852   A1VZ6LPIV8I1R5  B006GHYBGK   5.0  4.028571"
      ]
     },
     "execution_count": 142,
     "metadata": {},
     "output_type": "execute_result"
    }
   ],
   "source": [
    "# checking the recommendations for the user id A3K93OWHKHGI9V\n",
    "recommendations('A1VZ6LPIV8I1R5',5)"
   ]
  },
  {
   "cell_type": "code",
   "execution_count": null,
   "metadata": {},
   "outputs": [],
   "source": []
  },
  {
   "cell_type": "code",
   "execution_count": null,
   "metadata": {
    "collapsed": true
   },
   "outputs": [],
   "source": [
    "## 55% of the products are rated 5\n",
    "## Most of the users have rated only 1 product\n",
    "## The user A680RUE1FDO8B rated the most number of products - 36 in count\n",
    "## The product that has been rated the most - B0074BW614\n",
    "\n",
    "## Popularity based approach - When the user profile is not obtained, products can be recommended based on the ratings received for it.\n",
    "## SVD - was able to build model for the entire data RMSE obatined was 1.34275949412269. \n",
    "\n",
    "## for collaborative took 1% of data\n",
    "## Item-Item based RMSE - 1.3876939784901046\n",
    "## User-User based RMSE - 1.3889654545789125\n",
    "## Also did SVD for the 1% data and got the RMSE - 1.3850450123194193\n",
    "## RMSE seems to be differing only in small magnitude and the recommendations for the users are the same in all the models.\n",
    "## Since the antitest dataset was not creted, the model returned based on the ratings already available for the products(\"Gray sheep problem\")\n"
   ]
  }
 ],
 "metadata": {
  "kernelspec": {
   "display_name": "Python 3",
   "language": "python",
   "name": "python3"
  },
  "language_info": {
   "codemirror_mode": {
    "name": "ipython",
    "version": 3
   },
   "file_extension": ".py",
   "mimetype": "text/x-python",
   "name": "python",
   "nbconvert_exporter": "python",
   "pygments_lexer": "ipython3",
   "version": "3.7.7"
  }
 },
 "nbformat": 4,
 "nbformat_minor": 4
}
